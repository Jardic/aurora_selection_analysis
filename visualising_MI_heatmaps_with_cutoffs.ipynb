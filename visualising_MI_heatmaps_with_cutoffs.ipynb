{
 "cells": [
  {
   "cell_type": "code",
   "execution_count": 1,
   "id": "7e0bc0e7-4fe6-4274-8e50-3a14d7707585",
   "metadata": {},
   "outputs": [],
   "source": [
    "import pandas as pd\n",
    "import numpy as np\n",
    "import matplotlib.pyplot as plt\n",
    "import seaborn as sns\n"
   ]
  },
  {
   "cell_type": "code",
   "execution_count": 2,
   "id": "e54f2e9c-f0dc-4808-b8ba-f822b043efe6",
   "metadata": {},
   "outputs": [],
   "source": [
    "df_res = pd.read_csv('/home/kurfurst/Documents/projects/mv/aurora/paper/mi/secstructLib_10min_20uM_MI.tsv', sep='\\t')\n"
   ]
  },
  {
   "cell_type": "code",
   "execution_count": null,
   "id": "2367747a-cb3a-409c-a018-4fd8955d84b7",
   "metadata": {},
   "outputs": [],
   "source": []
  },
  {
   "cell_type": "code",
   "execution_count": 3,
   "id": "e2d61610-3656-4908-8623-d1f9cf3d93d4",
   "metadata": {},
   "outputs": [],
   "source": [
    "# Adjusting results format to fit visualisation\n",
    "\n",
    "#selected_positions = [x for x in range(1, 11)] + [x for x in range(43, 80)]\n",
    "\n",
    "# reindex to position names (1-based)\n",
    "#df_res.index = [x for x in range(1, len(df_res) + 1)]\n",
    "#df_res.columns = [x for x in range(1, len(df_res.columns) + 1)]\n",
    "\n",
    "# Extracting positions\n",
    "#df_res = df_res.loc[selected_positions, selected_positions]\n",
    "#df_res = df_res[df_res.columns[::-1]]\n",
    "\n",
    "df_res.index = [x for x in range(1, len(df_res) + 1)]\n",
    "\n",
    "df_res = df_res[df_res.columns[::-1]]\n",
    "\n",
    "\n",
    "# Making a mask\n",
    "mask = np.zeros_like(df_res)\n",
    "mask[np.triu_indices_from(mask)] = True\n",
    "mask = mask.transpose()\n",
    "mask = np.flip(mask, 1)"
   ]
  },
  {
   "cell_type": "code",
   "execution_count": 41,
   "id": "d89aec84-1413-4748-b88e-abf9e2d987fe",
   "metadata": {},
   "outputs": [],
   "source": [
    "df_test = pd.DataFrame([\n",
    "    [0.1, 0.2, 0.9],\n",
    "    [0.2, 0.3, 0.01],\n",
    "    [0.8, 0.3, 0.08]\n",
    "])"
   ]
  },
  {
   "cell_type": "code",
   "execution_count": 42,
   "id": "f8670219-fa9e-4366-abe2-3555b2491cd2",
   "metadata": {},
   "outputs": [
    {
     "data": {
      "text/html": [
       "<div>\n",
       "<style scoped>\n",
       "    .dataframe tbody tr th:only-of-type {\n",
       "        vertical-align: middle;\n",
       "    }\n",
       "\n",
       "    .dataframe tbody tr th {\n",
       "        vertical-align: top;\n",
       "    }\n",
       "\n",
       "    .dataframe thead th {\n",
       "        text-align: right;\n",
       "    }\n",
       "</style>\n",
       "<table border=\"1\" class=\"dataframe\">\n",
       "  <thead>\n",
       "    <tr style=\"text-align: right;\">\n",
       "      <th></th>\n",
       "      <th>0</th>\n",
       "      <th>1</th>\n",
       "      <th>2</th>\n",
       "    </tr>\n",
       "  </thead>\n",
       "  <tbody>\n",
       "    <tr>\n",
       "      <th>0</th>\n",
       "      <td>0.1</td>\n",
       "      <td>0.2</td>\n",
       "      <td>0.90</td>\n",
       "    </tr>\n",
       "    <tr>\n",
       "      <th>1</th>\n",
       "      <td>0.2</td>\n",
       "      <td>0.3</td>\n",
       "      <td>0.01</td>\n",
       "    </tr>\n",
       "    <tr>\n",
       "      <th>2</th>\n",
       "      <td>0.8</td>\n",
       "      <td>0.3</td>\n",
       "      <td>0.08</td>\n",
       "    </tr>\n",
       "  </tbody>\n",
       "</table>\n",
       "</div>"
      ],
      "text/plain": [
       "     0    1     2\n",
       "0  0.1  0.2  0.90\n",
       "1  0.2  0.3  0.01\n",
       "2  0.8  0.3  0.08"
      ]
     },
     "execution_count": 42,
     "metadata": {},
     "output_type": "execute_result"
    }
   ],
   "source": [
    "df_test"
   ]
  },
  {
   "cell_type": "code",
   "execution_count": 43,
   "id": "1582ab50-2fc1-4e58-8461-b00d4b3fd246",
   "metadata": {},
   "outputs": [],
   "source": [
    "k=0.01\n",
    "df_scale = k/df_test"
   ]
  },
  {
   "cell_type": "code",
   "execution_count": 44,
   "id": "3eed0804-7f1d-4c37-8bb2-2aa7f6838268",
   "metadata": {},
   "outputs": [],
   "source": [
    "df_test = df_test + df_scale"
   ]
  },
  {
   "cell_type": "code",
   "execution_count": 45,
   "id": "2fff316b-9f11-42ec-8af5-551f3274300e",
   "metadata": {},
   "outputs": [
    {
     "data": {
      "text/html": [
       "<div>\n",
       "<style scoped>\n",
       "    .dataframe tbody tr th:only-of-type {\n",
       "        vertical-align: middle;\n",
       "    }\n",
       "\n",
       "    .dataframe tbody tr th {\n",
       "        vertical-align: top;\n",
       "    }\n",
       "\n",
       "    .dataframe thead th {\n",
       "        text-align: right;\n",
       "    }\n",
       "</style>\n",
       "<table border=\"1\" class=\"dataframe\">\n",
       "  <thead>\n",
       "    <tr style=\"text-align: right;\">\n",
       "      <th></th>\n",
       "      <th>0</th>\n",
       "      <th>1</th>\n",
       "      <th>2</th>\n",
       "    </tr>\n",
       "  </thead>\n",
       "  <tbody>\n",
       "    <tr>\n",
       "      <th>0</th>\n",
       "      <td>0.2000</td>\n",
       "      <td>0.250000</td>\n",
       "      <td>0.911111</td>\n",
       "    </tr>\n",
       "    <tr>\n",
       "      <th>1</th>\n",
       "      <td>0.2500</td>\n",
       "      <td>0.333333</td>\n",
       "      <td>1.010000</td>\n",
       "    </tr>\n",
       "    <tr>\n",
       "      <th>2</th>\n",
       "      <td>0.8125</td>\n",
       "      <td>0.333333</td>\n",
       "      <td>0.205000</td>\n",
       "    </tr>\n",
       "  </tbody>\n",
       "</table>\n",
       "</div>"
      ],
      "text/plain": [
       "        0         1         2\n",
       "0  0.2000  0.250000  0.911111\n",
       "1  0.2500  0.333333  1.010000\n",
       "2  0.8125  0.333333  0.205000"
      ]
     },
     "execution_count": 45,
     "metadata": {},
     "output_type": "execute_result"
    }
   ],
   "source": [
    "df_test"
   ]
  },
  {
   "cell_type": "code",
   "execution_count": 49,
   "id": "aa9d7543-7aef-4ca5-97e0-20f299f9f7ed",
   "metadata": {},
   "outputs": [
    {
     "data": {
      "image/png": "[encoded data removed]",
      "text/plain": [
       "<Figure size 936x720 with 2 Axes>"
      ]
     },
     "metadata": {},
     "output_type": "display_data"
    }
   ],
   "source": [
    "sns.set(rc={\"figure.figsize\":(13, 10)})\n",
    "sns.set_style('white')\n",
    "ax = sns.heatmap(df_res, linewidths=.5, mask=mask, linecolor='white', cmap='Blues', cbar_kws={'label': 'Mutual Information'}, vmin=0, vmax=0.1)\n",
    "ax.xaxis.tick_top()\n",
    "ax.yaxis.tick_left()\n",
    "plt.show()"
   ]
  },
  {
   "cell_type": "markdown",
   "id": "846c8cc0-0f22-48ba-843c-8442a2779d4b",
   "metadata": {},
   "source": [
    "---"
   ]
  },
  {
   "cell_type": "code",
   "execution_count": null,
   "id": "5db94c8c-2563-4b13-ac69-af4887d10d35",
   "metadata": {},
   "outputs": [],
   "source": [
    "res = np.array(df_res).flatten()\n",
    "res.sort()\n",
    "res = res[::-1]"
   ]
  },
  {
   "cell_type": "code",
   "execution_count": null,
   "id": "e23f3bea-f8d3-4190-8d5a-188d02e0d7df",
   "metadata": {},
   "outputs": [],
   "source": [
    "top_threshold = 1\n",
    "#hm_filename = 'secstructLib_100sec_100uM_MI.png' + str(top_threshold*100) + 'perc.png'\n",
    "hm_filename = 'secstructLib_100sec_100uM_MI.png'\n",
    "\n",
    "t1 = res[int(np.ceil(((len(df_res)**2) / 2) * top_threshold))]\n",
    "\n",
    "# Making thresholds\n",
    "#df_vis = df_res.where(df_res > t1, 0)\n",
    "\n",
    "sns.set(rc={\"figure.figsize\":(13, 10)})\n",
    "sns.set_style('white')\n",
    "ax = sns.heatmap(df_vis, linewidths=.5, mask=mask, linecolor='white', cmap='Blues', cbar_kws={'label': 'Mutual Information'})\n",
    "ax.xaxis.tick_top()\n",
    "ax.yaxis.tick_left()\n",
    "plt.savefig(hm_filename, dpi=180)"
   ]
  },
  {
   "cell_type": "code",
   "execution_count": null,
   "id": "a753a490-5b04-4572-910e-d4cfdab68be1",
   "metadata": {},
   "outputs": [],
   "source": []
  }
 ],
 "metadata": {
  "kernelspec": {
   "display_name": "Python 3 (ipykernel)",
   "language": "python",
   "name": "python3"
  },
  "language_info": {
   "codemirror_mode": {
    "name": "ipython",
    "version": 3
   },
   "file_extension": ".py",
   "mimetype": "text/x-python",
   "name": "python",
   "nbconvert_exporter": "python",
   "pygments_lexer": "ipython3",
   "version": "3.7.7"
  }
 },
 "nbformat": 4,
 "nbformat_minor": 5
}
