{
 "cells": [
  {
   "cell_type": "markdown",
   "id": "379148bc-4920-4e1a-a164-d3fdc00ca6b2",
   "metadata": {},
   "source": [
    "# Comparing the distributions of distances from supernova"
   ]
  },
  {
   "cell_type": "markdown",
   "id": "9717efe6-dd40-4f51-a6b1-7dbb57cfabc7",
   "metadata": {},
   "source": [
    "Here, distributions of distances between core sequences and the core of Supernova are compared. The two datasets being compared are the CDP selection which yilded Supernova, the second dataset is a MUP selection. Both datasets have the same initial pool."
   ]
  },
  {
   "cell_type": "code",
   "execution_count": 1,
   "id": "6d233422-67dc-4827-af63-ec31bb139fca",
   "metadata": {},
   "outputs": [],
   "source": [
    "# Import libraries\n",
    "import pandas as pd\n",
    "from ivstools import tools\n",
    "import matplotlib.pyplot as plt"
   ]
  },
  {
   "cell_type": "code",
   "execution_count": 2,
   "id": "74321cb3-5a89-49ff-8e01-f628595a69f7",
   "metadata": {},
   "outputs": [],
   "source": [
    "# Matplotlib settings\n",
    "plt.rcParams['figure.facecolor'] = 'white'\n",
    "plt.rcParams['font.size'] = 13\n",
    "plt.rcParams['font.family'] = 'Arial'"
   ]
  },
  {
   "cell_type": "code",
   "execution_count": 3,
   "id": "ba04ffdd-b9e2-47c8-b563-e85285888130",
   "metadata": {},
   "outputs": [],
   "source": [
    "def seqDist(s1, s2, count_gaps=False):\n",
    "    '''\n",
    "    Get the distance between two sequences\n",
    "    s1:          sequence1 (str)\n",
    "    s2:          sequence2 (str)\n",
    "    count_gaps:  if True get absolute distance, if False (default), gaps (-) do not increment the distance between two seqs\n",
    "    returns:     distance (int)\n",
    "    '''\n",
    "\n",
    "    if count_gaps == True:\n",
    "        return sum([1 if b1 != b2 else 0 for b1, b2 in zip(s1, s2)])\n",
    "    else:\n",
    "        mutSum = 0\n",
    "        for b1, b2 in zip(s1, s2):\n",
    "            if '-' in b1 + b2:\n",
    "                pass\n",
    "            else:\n",
    "                if b1 != b2:\n",
    "                    mutSum += 1\n",
    "        return mutSum"
   ]
  },
  {
   "cell_type": "code",
   "execution_count": 4,
   "id": "5dc7764f-ea37-48a0-946d-2b5d3a5e5d44",
   "metadata": {},
   "outputs": [],
   "source": [
    "# Read the datasets\n",
    "\n",
    "df_mv = pd.read_csv('/home/kurfurst/Documents/datasets/MV_MUP_full_FAcounts.tsv', sep='\\t', names=['count', 'seq'])\n",
    "df_ks = pd.read_csv('/home/kurfurst/Documents/datasets/KS_CDP_round6.tsv', sep='\\t', names=['count', 'seq'])"
   ]
  },
  {
   "cell_type": "code",
   "execution_count": 5,
   "id": "b53e7280-e98c-4821-a4aa-418f037e023f",
   "metadata": {},
   "outputs": [],
   "source": [
    "# Define the reference sequences\n",
    "\n",
    "sn_full = tools.supernova_full # GGAAGAGATGGCGACGACACAGGGACGATGCCGAATATCCTCAGTGCGCAGGGCCGCAGGGGGGAGTGACTTGGGATGGGGGGTC'\n",
    "sn_core = tools.supernova_core # GGAAGAGAATATCCCCGGGGAGTGACTTGGGATGGGGG\n",
    "core_pos = tools.supernova_core_positions # [1,2,3,4,5,6,33,34,35,36,37,38,39,40,41,42,61,62,63,64,65,66,67,68,69,70,71,72,73,74,75,76,77,78,79,80,81,82]\n",
    "core_pos_0based = [x - 1 for x in core_pos]"
   ]
  },
  {
   "cell_type": "code",
   "execution_count": 6,
   "id": "c4dad5fb-47e9-4bb8-85c3-78077dc698b9",
   "metadata": {},
   "outputs": [],
   "source": [
    "# Extract cores\n",
    "\n",
    "df_mv['core'] = [''.join([s[x] for x in core_pos_0based]) for s in df_mv['seq']]\n",
    "df_ks['core'] = [''.join([s[x] for x in core_pos_0based]) for s in df_ks['seq']]"
   ]
  },
  {
   "cell_type": "code",
   "execution_count": 7,
   "id": "e7c9ac64-5e5e-4f7c-a36f-4188c86541b3",
   "metadata": {},
   "outputs": [],
   "source": [
    "# Compute distances of core and full variants from sn core or full respectively\n",
    "\n",
    "df_mv['fullDist'] = [seqDist(sn_full, s) for s in df_mv['seq']]\n",
    "df_ks['fullDist'] = [seqDist(sn_full, s) for s in df_ks['seq']]\n",
    "\n",
    "df_mv['coreDist'] = [seqDist(sn_core, s) for s in df_mv['core']]\n",
    "df_ks['coreDist'] = [seqDist(sn_core, s) for s in df_ks['core']]"
   ]
  },
  {
   "cell_type": "code",
   "execution_count": 8,
   "id": "57105719-5eba-4d68-bc91-61a0d99e6f3c",
   "metadata": {},
   "outputs": [],
   "source": [
    "mean_mv_full = round(df_mv['fullDist'].mean(), 2)\n",
    "mean_ks_full = round(df_ks['fullDist'].mean(), 2)"
   ]
  },
  {
   "cell_type": "markdown",
   "id": "e7670994-3dd3-49ab-ae25-986abf3e0b81",
   "metadata": {},
   "source": [
    "---\n",
    "Here is what the comparison of the distributions looks like when we use full-length sequecnes.."
   ]
  },
  {
   "cell_type": "code",
   "execution_count": 9,
   "id": "057efa72-25a3-40d8-8ace-be348b720bf7",
   "metadata": {},
   "outputs": [
    {
     "data": {
      "image/png": "[encoded data removed]",
      "text/plain": [
       "<Figure size 432x288 with 1 Axes>"
      ]
     },
     "metadata": {},
     "output_type": "display_data"
    }
   ],
   "source": [
    "plt.hist(df_ks['fullDist'], bins=max(df_ks['fullDist'])-1, label='CDP-star', color='#303f9f', density=True)\n",
    "plt.hist(df_mv['fullDist'], bins=max(df_mv['fullDist'])-8, label='MUP', color='#ffc107', density=True)\n",
    "plt.xlabel('distance from SN')\n",
    "plt.legend()\n",
    "plt.savefig('fig2c_v2.png', dpi=180)"
   ]
  },
  {
   "cell_type": "code",
   "execution_count": 10,
   "id": "fcebd4bf-5440-45c1-bd80-2f8ff8df9373",
   "metadata": {},
   "outputs": [
    {
     "name": "stdout",
     "output_type": "stream",
     "text": [
      "The mean of the CDP-star peak:  18.42\n",
      "The mean of the MUP peak:  30.68\n"
     ]
    }
   ],
   "source": [
    "print(\"The mean of the CDP-star peak: \", mean_ks_full)\n",
    "print(\"The mean of the MUP peak: \", mean_mv_full)"
   ]
  },
  {
   "cell_type": "markdown",
   "id": "b2621f0a-8647-4af1-bbef-a2e1370d9cfd",
   "metadata": {},
   "source": [
    "---\n",
    "And here it is for the core regions"
   ]
  },
  {
   "cell_type": "code",
   "execution_count": 11,
   "id": "e43d181c-7ece-4a53-906d-15b1ef3131b3",
   "metadata": {},
   "outputs": [
    {
     "data": {
      "image/png": "[encoded data removed]",
      "text/plain": [
       "<Figure size 432x288 with 1 Axes>"
      ]
     },
     "metadata": {},
     "output_type": "display_data"
    }
   ],
   "source": [
    "plt.hist(df_ks['coreDist'], bins=max(df_ks['coreDist'])-1, label='CDP-star', color='#303f9f', density=True)\n",
    "plt.hist(df_mv['coreDist'], bins=max(df_mv['coreDist'])-8, label='MUP', color='#ffc107', density=True)\n",
    "plt.xlabel('distance from SN core')\n",
    "plt.legend()\n",
    "plt.show()"
   ]
  },
  {
   "cell_type": "markdown",
   "id": "9ee46a2e-54c8-40af-924f-001c4b9b3ff5",
   "metadata": {},
   "source": [
    "---\n",
    "Here is the original figure, mean values for each of the peaks separately."
   ]
  },
  {
   "cell_type": "code",
   "execution_count": 12,
   "id": "70d29482-48e6-450b-80a9-57ab0a0f86b4",
   "metadata": {},
   "outputs": [
    {
     "data": {
      "image/png": "[encoded data removed]",
      "text/plain": [
       "<Figure size 432x288 with 1 Axes>"
      ]
     },
     "metadata": {},
     "output_type": "display_data"
    }
   ],
   "source": [
    "plt.hist(df_mv['coreDist'], bins=max(df_mv['coreDist']), color='#303f9f', density=True)\n",
    "plt.axvline(6, linewidth=1, alpha=0.4, color='grey')\n",
    "plt.axvline(25, linewidth=1, alpha=0.4, color='grey')\n",
    "plt.xlabel('distance from SN core')\n",
    "plt.show()"
   ]
  },
  {
   "cell_type": "markdown",
   "id": "ff683308-538f-42bf-8cee-14d5907af94e",
   "metadata": {},
   "source": [
    "The mean value for the peak on the left is:"
   ]
  },
  {
   "cell_type": "code",
   "execution_count": 13,
   "id": "2c375cf7-8d79-4b55-9e8a-6801dbc21395",
   "metadata": {},
   "outputs": [
    {
     "name": "stdout",
     "output_type": "stream",
     "text": [
      "2.986013986013986\n"
     ]
    }
   ],
   "source": [
    "print(df_mv[df_mv['coreDist'] <= 6]['coreDist'].mean())"
   ]
  },
  {
   "cell_type": "markdown",
   "id": "9a237b24-bdc6-4f34-9aa2-0dc7d833ca32",
   "metadata": {},
   "source": [
    "for the peak on the right it is:"
   ]
  },
  {
   "cell_type": "code",
   "execution_count": 14,
   "id": "c131cd52-f70d-41cb-9073-08c49f46518a",
   "metadata": {},
   "outputs": [
    {
     "name": "stdout",
     "output_type": "stream",
     "text": [
      "13.622783488024307\n"
     ]
    }
   ],
   "source": [
    "print(df_mv[df_mv['coreDist'] > 6]['coreDist'].mean())"
   ]
  },
  {
   "cell_type": "markdown",
   "id": "4babbbbf-dba8-4dd0-8153-a751a0093be2",
   "metadata": {},
   "source": [
    "The mean of the distribution in the KS_rnd6 dataset is "
   ]
  },
  {
   "cell_type": "code",
   "execution_count": 15,
   "id": "8c8f8396-7623-4d7e-806e-bbf2ac543949",
   "metadata": {},
   "outputs": [
    {
     "name": "stdout",
     "output_type": "stream",
     "text": [
      "1.6164691918881864\n"
     ]
    }
   ],
   "source": [
    "print(df_ks['coreDist'].mean())"
   ]
  }
 ],
 "metadata": {
  "kernelspec": {
   "display_name": "Python 3 (ipykernel)",
   "language": "python",
   "name": "python3"
  },
  "language_info": {
   "codemirror_mode": {
    "name": "ipython",
    "version": 3
   },
   "file_extension": ".py",
   "mimetype": "text/x-python",
   "name": "python",
   "nbconvert_exporter": "python",
   "pygments_lexer": "ipython3",
   "version": "3.7.7"
  }
 },
 "nbformat": 4,
 "nbformat_minor": 5
}
