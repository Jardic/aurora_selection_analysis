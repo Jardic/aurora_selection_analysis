{
 "cells": [
  {
   "cell_type": "markdown",
   "id": "60180434-c4c0-4745-ba73-c53668e8ca7a",
   "metadata": {},
   "source": [
    "# Enrichments"
   ]
  },
  {
   "cell_type": "code",
   "execution_count": 1,
   "id": "b3464063",
   "metadata": {},
   "outputs": [],
   "source": [
    "import pandas as pd\n",
    "import numpy as np\n",
    "import matplotlib.pyplot as plt\n",
    "import seaborn as sns"
   ]
  },
  {
   "cell_type": "code",
   "execution_count": 2,
   "id": "1cfea14b",
   "metadata": {},
   "outputs": [],
   "source": [
    "# Matplotlib settings\n",
    "plt.rcParams['figure.facecolor'] = 'white'\n",
    "plt.rcParams['font.size'] = 13\n",
    "plt.rcParams['font.family'] = 'Arial'"
   ]
  },
  {
   "cell_type": "code",
   "execution_count": 3,
   "id": "4b13a15a",
   "metadata": {},
   "outputs": [],
   "source": [
    "def getFrequencies(sequences, fa_count, l, withcounts=True):\n",
    "    '''\n",
    "    Computes the frequencies of each base at each position (normalizes to the total number of reads or unique sequences)\n",
    "    sequences:      pandas series of unique sequences\n",
    "    fa_count:       pandas series of readnumbers\n",
    "    l:              sequence length\n",
    "    withcounts:     Use either readnumbers or consider each unique sequence only once\n",
    "    '''\n",
    "        \n",
    "    counts = {\"A\": [0] * l, \"T\": [0] * l, \"G\": [0] * l, \"C\": [0] * l, \"N\": [0] * l}\n",
    "    \n",
    "    if withcounts == False:\n",
    "        fa_count = [1] * len(fa_count)\n",
    "    else:\n",
    "        pass\n",
    "    \n",
    "    for seq, c in zip(sequences, fa_count):\n",
    "        for pos, base in enumerate(seq):\n",
    "            counts[base][pos] += c\n",
    "            \n",
    "    for k in counts.keys():\n",
    "        counts[k] = counts[k]/np.array([sum(fa_count)] * len(counts[k]))\n",
    "    \n",
    "    return counts"
   ]
  },
  {
   "cell_type": "markdown",
   "id": "11395d65",
   "metadata": {},
   "source": [
    "---"
   ]
  },
  {
   "cell_type": "code",
   "execution_count": 4,
   "id": "e0a38776",
   "metadata": {},
   "outputs": [],
   "source": [
    "# Params:\n",
    "\n",
    "dataset_init = '/home/kurfurst/Documents/datasets/MV_aurora_singlestep_initial.tsv'\n",
    "dataset_select = '/home/kurfurst/Documents/datasets/MV_aurora_singlestep_10min_20uM.tsv'\n",
    "ss_positions_1based = [1, 2, 3, 4, 5, 6, 7, 8, 9, 10, 13, 20, 21, 22, 23, 27, 28, 29, 33, 34, 35, 36, 37, 41]\n",
    "ds_positions_1based = [11, 12, 14, 15, 16, 17, 18, 19, 24, 25, 26, 30, 31, 32, 38, 39, 40, 42, 43, 44, 45, 46, 47]"
   ]
  },
  {
   "cell_type": "code",
   "execution_count": 5,
   "id": "1945eaf8",
   "metadata": {},
   "outputs": [],
   "source": [
    "# Prep\n",
    "\n",
    "df_init = pd.read_csv(dataset_init, sep='\\t', names=['count', 'seq'])\n",
    "df_select = pd.read_csv(dataset_select, sep='\\t', names=['count', 'seq'])\n",
    "ss_positions_0based = [x - 1 for x in ss_positions_1based]\n",
    "seqlen = len(df_init.iloc[0]['seq'])"
   ]
  },
  {
   "cell_type": "code",
   "execution_count": 6,
   "id": "6f16a2eb",
   "metadata": {},
   "outputs": [],
   "source": [
    "# Computing single nucleotide frequencies for the two pools\n",
    "\n",
    "df_snfq_init = pd.DataFrame(getFrequencies(df_init['seq'], df_init['count'], seqlen, withcounts=True))\n",
    "df_snfq_select = pd.DataFrame(getFrequencies(df_select['seq'], df_select['count'], seqlen, withcounts=True))"
   ]
  },
  {
   "cell_type": "code",
   "execution_count": 8,
   "id": "60f0f9fe",
   "metadata": {},
   "outputs": [],
   "source": [
    "# Get an enrichment dataframe from frequencies\n",
    "\n",
    "df_enrichments = df_snfq_select / df_snfq_init\n",
    "del df_enrichments['N']\n",
    "df_enrichments.index = [x for x in range(1, len(df_enrichments)+1)]\n",
    "df_enrichments.fillna(0, inplace=True)\n",
    "\n",
    "# Subset positions\n",
    "df_enrichments_ss = df_enrichments.loc[ss_positions_1based]\n",
    "df_enrichments_ds = df_enrichments.loc[ds_positions_1based]"
   ]
  },
  {
   "cell_type": "code",
   "execution_count": 9,
   "id": "b1efdc23",
   "metadata": {},
   "outputs": [
    {
     "data": {
      "image/png": "[encoded data removed]",
      "text/plain": [
       "<Figure size 720x144 with 2 Axes>"
      ]
     },
     "metadata": {},
     "output_type": "display_data"
    }
   ],
   "source": [
    "plt.figure(figsize=(10, 2))\n",
    "sns.heatmap(df_enrichments_ss.transpose(), cmap='Blues', linewidth=1.5, linecolor='white', cbar_kws={'label': 'Enrichment'})\n",
    "plt.yticks(rotation=0)\n",
    "plt.xlabel('Position')\n",
    "plt.ylabel('Base')\n",
    "plt.tight_layout()\n",
    "plt.savefig('figSI3a.png', dpi=180)"
   ]
  },
  {
   "cell_type": "code",
   "execution_count": 10,
   "id": "0ce20543",
   "metadata": {},
   "outputs": [
    {
     "data": {
      "image/png": "[encoded data removed]",
      "text/plain": [
       "<Figure size 720x144 with 2 Axes>"
      ]
     },
     "metadata": {},
     "output_type": "display_data"
    }
   ],
   "source": [
    "plt.figure(figsize=(10, 2))\n",
    "sns.heatmap(df_enrichments_ds.transpose(), cmap='Blues', linewidth=1.5, linecolor='white', cbar_kws={'label': 'Enrichment'})\n",
    "plt.yticks(rotation=0)\n",
    "plt.xlabel('Position')\n",
    "plt.ylabel('Base')\n",
    "plt.tight_layout()\n",
    "plt.savefig('figSI3b.png', dpi=180)"
   ]
  }
 ],
 "metadata": {
  "kernelspec": {
   "display_name": "Python 3 (ipykernel)",
   "language": "python",
   "name": "python3"
  },
  "language_info": {
   "codemirror_mode": {
    "name": "ipython",
    "version": 3
   },
   "file_extension": ".py",
   "mimetype": "text/x-python",
   "name": "python",
   "nbconvert_exporter": "python",
   "pygments_lexer": "ipython3",
   "version": "3.7.7"
  }
 },
 "nbformat": 4,
 "nbformat_minor": 5
}
