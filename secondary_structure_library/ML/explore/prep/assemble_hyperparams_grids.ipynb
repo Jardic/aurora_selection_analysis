{
 "cells": [
  {
   "cell_type": "code",
   "execution_count": 1,
   "id": "679b5a3b-b721-4469-a98c-4c6c6c44b44a",
   "metadata": {},
   "outputs": [],
   "source": [
    "from itertools import product\n",
    "import pickle"
   ]
  },
  {
   "cell_type": "code",
   "execution_count": 2,
   "id": "68fb5c3a-ada4-4cab-b4a5-6e107c9f03e7",
   "metadata": {},
   "outputs": [],
   "source": [
    "def assemble_hpyerparam_dicts(H):\n",
    "    var_hp = sorted(H.keys())\n",
    "    grid = list(product(*[H[x] for x in var_hp]))\n",
    "    \n",
    "    hpcs = []\n",
    "    for i in range(0, len(grid)):\n",
    "        dct_hp = {}\n",
    "        for j in range(0, len(var_hp)):\n",
    "            dct_hp[var_hp[j]] = grid[i][j]\n",
    "        hpcs.append(dct_hp)\n",
    "    return [(i, hpcs[i]) for i in range(0, len(hpcs))]"
   ]
  },
  {
   "cell_type": "code",
   "execution_count": 3,
   "id": "c4fc2394-6f19-46a8-a8ed-c2a289721cf5",
   "metadata": {},
   "outputs": [],
   "source": [
    "mlp_hyperparams = {'hidden_layer_sizes' : [(50, 50), (50, 50, 50), (100, 100), (100, 100, 100), (200, 200, 200), (100, 100, 100, 100)],\n",
    "                   'learning_rate_init' : [0.01, 0.001, 0.0001],\n",
    "                   'batch_size' : [100, 200]}"
   ]
  },
  {
   "cell_type": "code",
   "execution_count": 4,
   "id": "544c87d6-0e41-415f-aa03-30cd9b598649",
   "metadata": {},
   "outputs": [],
   "source": [
    "hyperparameter_grid = assemble_hpyerparam_dicts(mlp_hyperparams)"
   ]
  },
  {
   "cell_type": "code",
   "execution_count": 5,
   "id": "b8aafa1a-5ded-4b9b-a171-d12790cf5baa",
   "metadata": {},
   "outputs": [],
   "source": [
    "with open('mlp_hyperparameters.pkl', mode='wb')as hp_f:\n",
    "    pickle.dump(hyperparameter_grid, hp_f)"
   ]
  },
  {
   "cell_type": "markdown",
   "id": "c8865660-3a1a-4052-b951-13ad8c6d3917",
   "metadata": {},
   "source": [
    "---"
   ]
  },
  {
   "cell_type": "code",
   "execution_count": 24,
   "id": "ddd25a0f-15d0-40e7-b8dd-f79e1cbb6124",
   "metadata": {},
   "outputs": [],
   "source": [
    "beam_params = {\n",
    "    'topN_start' : [5, 10, 20],\n",
    "    'beam_width' : [3, 6, 9],\n",
    "    'max_depth' : [6, 8, 10],\n",
    "    'top_explored' : [100]\n",
    "}"
   ]
  },
  {
   "cell_type": "code",
   "execution_count": 25,
   "id": "5615ea8a-c32f-47ab-a8e2-670215615b2c",
   "metadata": {},
   "outputs": [],
   "source": [
    "beam_params_grid = assemble_hpyerparam_dicts(beam_params)"
   ]
  },
  {
   "cell_type": "code",
   "execution_count": 26,
   "id": "2713e5ac-fe6c-45b8-b500-5571969ab351",
   "metadata": {},
   "outputs": [],
   "source": [
    "with open('beam_search_parameters.pkl', mode='wb')as bp_f:\n",
    "    pickle.dump(beam_params_grid, bp_f)"
   ]
  }
 ],
 "metadata": {
  "kernelspec": {
   "display_name": "Python 3 (ipykernel)",
   "language": "python",
   "name": "python3"
  },
  "language_info": {
   "codemirror_mode": {
    "name": "ipython",
    "version": 3
   },
   "file_extension": ".py",
   "mimetype": "text/x-python",
   "name": "python",
   "nbconvert_exporter": "python",
   "pygments_lexer": "ipython3",
   "version": "3.12.4"
  }
 },
 "nbformat": 4,
 "nbformat_minor": 5
}
