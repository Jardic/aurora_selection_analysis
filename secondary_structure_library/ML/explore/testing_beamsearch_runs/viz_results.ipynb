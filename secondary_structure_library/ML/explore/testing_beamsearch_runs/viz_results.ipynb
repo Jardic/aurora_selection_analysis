{
 "cells": [
  {
   "cell_type": "code",
   "execution_count": 1,
   "id": "0dd48d94-f3b3-4243-9d10-a1559a82cd60",
   "metadata": {},
   "outputs": [],
   "source": [
    "import pandas as pd\n",
    "import numpy as np\n",
    "import matplotlib.pyplot as plt\n",
    "import seaborn as sns\n",
    "import pickle"
   ]
  },
  {
   "cell_type": "code",
   "execution_count": 2,
   "id": "597e8229-e016-4b9c-854d-6e42d8cbf6c3",
   "metadata": {},
   "outputs": [],
   "source": [
    "plt.rcParams['figure.facecolor'] = 'white'\n",
    "plt.rcParams['font.size'] = 12\n",
    "plt.rcParams['font.family'] = 'Arial'"
   ]
  },
  {
   "cell_type": "code",
   "execution_count": 3,
   "id": "d12350c4-16ee-4dd3-aa90-b7ddf5ef4772",
   "metadata": {},
   "outputs": [],
   "source": [
    "with open('results_directed.pkl', mode='rb') as rfd:\n",
    "    df_metrics_directed, df_seqs_directed = pickle.load(rfd)"
   ]
  },
  {
   "cell_type": "code",
   "execution_count": 4,
   "id": "96e1b185-782a-4112-822f-782160193c63",
   "metadata": {},
   "outputs": [],
   "source": [
    "with open('results_random.pkl', mode='rb') as rfr:\n",
    "    df_metrics_random, df_seqs_random = pickle.load(rfr)"
   ]
  },
  {
   "cell_type": "code",
   "execution_count": 5,
   "id": "458f173f-23fe-422a-8d10-c82788b4a2cf",
   "metadata": {},
   "outputs": [],
   "source": [
    "missing_seqspace = 20807759"
   ]
  },
  {
   "cell_type": "code",
   "execution_count": 6,
   "id": "195261dd-e2dd-454b-a6de-f85fc3e0c7c2",
   "metadata": {},
   "outputs": [
    {
     "data": {
      "text/html": [
       "<div>\n",
       "<style scoped>\n",
       "    .dataframe tbody tr th:only-of-type {\n",
       "        vertical-align: middle;\n",
       "    }\n",
       "\n",
       "    .dataframe tbody tr th {\n",
       "        vertical-align: top;\n",
       "    }\n",
       "\n",
       "    .dataframe thead th {\n",
       "        text-align: right;\n",
       "    }\n",
       "</style>\n",
       "<table border=\"1\" class=\"dataframe\">\n",
       "  <thead>\n",
       "    <tr style=\"text-align: right;\">\n",
       "      <th></th>\n",
       "      <th>sampling</th>\n",
       "      <th>precision</th>\n",
       "      <th>recall</th>\n",
       "      <th>search_space</th>\n",
       "    </tr>\n",
       "  </thead>\n",
       "  <tbody>\n",
       "    <tr>\n",
       "      <th>0</th>\n",
       "      <td>1.000</td>\n",
       "      <td>0.77</td>\n",
       "      <td>0.77</td>\n",
       "      <td>3381.0</td>\n",
       "    </tr>\n",
       "    <tr>\n",
       "      <th>1</th>\n",
       "      <td>0.100</td>\n",
       "      <td>0.69</td>\n",
       "      <td>0.69</td>\n",
       "      <td>8537.0</td>\n",
       "    </tr>\n",
       "    <tr>\n",
       "      <th>2</th>\n",
       "      <td>0.010</td>\n",
       "      <td>0.41</td>\n",
       "      <td>0.41</td>\n",
       "      <td>9063.0</td>\n",
       "    </tr>\n",
       "    <tr>\n",
       "      <th>3</th>\n",
       "      <td>0.001</td>\n",
       "      <td>0.02</td>\n",
       "      <td>0.02</td>\n",
       "      <td>8874.0</td>\n",
       "    </tr>\n",
       "  </tbody>\n",
       "</table>\n",
       "</div>"
      ],
      "text/plain": [
       "   sampling  precision  recall  search_space\n",
       "0     1.000       0.77    0.77        3381.0\n",
       "1     0.100       0.69    0.69        8537.0\n",
       "2     0.010       0.41    0.41        9063.0\n",
       "3     0.001       0.02    0.02        8874.0"
      ]
     },
     "execution_count": 6,
     "metadata": {},
     "output_type": "execute_result"
    }
   ],
   "source": [
    "df_metrics_directed"
   ]
  },
  {
   "cell_type": "code",
   "execution_count": 7,
   "id": "3b231592-8c6c-41ac-b3b0-38c68a176a11",
   "metadata": {},
   "outputs": [
    {
     "data": {
      "text/html": [
       "<div>\n",
       "<style scoped>\n",
       "    .dataframe tbody tr th:only-of-type {\n",
       "        vertical-align: middle;\n",
       "    }\n",
       "\n",
       "    .dataframe tbody tr th {\n",
       "        vertical-align: top;\n",
       "    }\n",
       "\n",
       "    .dataframe thead th {\n",
       "        text-align: right;\n",
       "    }\n",
       "</style>\n",
       "<table border=\"1\" class=\"dataframe\">\n",
       "  <thead>\n",
       "    <tr style=\"text-align: right;\">\n",
       "      <th></th>\n",
       "      <th>sampling</th>\n",
       "      <th>precision</th>\n",
       "      <th>recall</th>\n",
       "      <th>search_space</th>\n",
       "    </tr>\n",
       "  </thead>\n",
       "  <tbody>\n",
       "    <tr>\n",
       "      <th>0</th>\n",
       "      <td>1.000</td>\n",
       "      <td>0.00</td>\n",
       "      <td>0.00</td>\n",
       "      <td>7171.0</td>\n",
       "    </tr>\n",
       "    <tr>\n",
       "      <th>1</th>\n",
       "      <td>0.100</td>\n",
       "      <td>0.00</td>\n",
       "      <td>0.00</td>\n",
       "      <td>9911.0</td>\n",
       "    </tr>\n",
       "    <tr>\n",
       "      <th>2</th>\n",
       "      <td>0.010</td>\n",
       "      <td>0.01</td>\n",
       "      <td>0.01</td>\n",
       "      <td>10371.0</td>\n",
       "    </tr>\n",
       "    <tr>\n",
       "      <th>3</th>\n",
       "      <td>0.001</td>\n",
       "      <td>0.00</td>\n",
       "      <td>0.00</td>\n",
       "      <td>10401.0</td>\n",
       "    </tr>\n",
       "  </tbody>\n",
       "</table>\n",
       "</div>"
      ],
      "text/plain": [
       "   sampling  precision  recall  search_space\n",
       "0     1.000       0.00    0.00        7171.0\n",
       "1     0.100       0.00    0.00        9911.0\n",
       "2     0.010       0.01    0.01       10371.0\n",
       "3     0.001       0.00    0.00       10401.0"
      ]
     },
     "execution_count": 7,
     "metadata": {},
     "output_type": "execute_result"
    }
   ],
   "source": [
    "df_metrics_random"
   ]
  },
  {
   "cell_type": "code",
   "execution_count": 11,
   "id": "6c445666-b0c5-4bcd-a630-ed94b2639f6d",
   "metadata": {},
   "outputs": [],
   "source": [
    "df_metrics_directed['fraction_exp'] = df_metrics_directed['search_space'] / missing_seqspace\n",
    "df_metrics_random['fraction_exp'] = df_metrics_random['search_space'] / missing_seqspace"
   ]
  },
  {
   "cell_type": "code",
   "execution_count": 12,
   "id": "4bae8b21-4a73-4ba2-81c1-4db24fa708ef",
   "metadata": {},
   "outputs": [
    {
     "data": {
      "text/html": [
       "<div>\n",
       "<style scoped>\n",
       "    .dataframe tbody tr th:only-of-type {\n",
       "        vertical-align: middle;\n",
       "    }\n",
       "\n",
       "    .dataframe tbody tr th {\n",
       "        vertical-align: top;\n",
       "    }\n",
       "\n",
       "    .dataframe thead th {\n",
       "        text-align: right;\n",
       "    }\n",
       "</style>\n",
       "<table border=\"1\" class=\"dataframe\">\n",
       "  <thead>\n",
       "    <tr style=\"text-align: right;\">\n",
       "      <th></th>\n",
       "      <th>sampling</th>\n",
       "      <th>precision</th>\n",
       "      <th>recall</th>\n",
       "      <th>search_space</th>\n",
       "      <th>fraction_exp</th>\n",
       "    </tr>\n",
       "  </thead>\n",
       "  <tbody>\n",
       "    <tr>\n",
       "      <th>0</th>\n",
       "      <td>1.000</td>\n",
       "      <td>0.77</td>\n",
       "      <td>0.77</td>\n",
       "      <td>3381.0</td>\n",
       "      <td>0.000162</td>\n",
       "    </tr>\n",
       "    <tr>\n",
       "      <th>1</th>\n",
       "      <td>0.100</td>\n",
       "      <td>0.69</td>\n",
       "      <td>0.69</td>\n",
       "      <td>8537.0</td>\n",
       "      <td>0.000410</td>\n",
       "    </tr>\n",
       "    <tr>\n",
       "      <th>2</th>\n",
       "      <td>0.010</td>\n",
       "      <td>0.41</td>\n",
       "      <td>0.41</td>\n",
       "      <td>9063.0</td>\n",
       "      <td>0.000436</td>\n",
       "    </tr>\n",
       "    <tr>\n",
       "      <th>3</th>\n",
       "      <td>0.001</td>\n",
       "      <td>0.02</td>\n",
       "      <td>0.02</td>\n",
       "      <td>8874.0</td>\n",
       "      <td>0.000426</td>\n",
       "    </tr>\n",
       "  </tbody>\n",
       "</table>\n",
       "</div>"
      ],
      "text/plain": [
       "   sampling  precision  recall  search_space  fraction_exp\n",
       "0     1.000       0.77    0.77        3381.0      0.000162\n",
       "1     0.100       0.69    0.69        8537.0      0.000410\n",
       "2     0.010       0.41    0.41        9063.0      0.000436\n",
       "3     0.001       0.02    0.02        8874.0      0.000426"
      ]
     },
     "execution_count": 12,
     "metadata": {},
     "output_type": "execute_result"
    }
   ],
   "source": [
    "df_metrics_directed"
   ]
  },
  {
   "cell_type": "code",
   "execution_count": 13,
   "id": "b7f67704-e809-4163-90b5-8623c85d9602",
   "metadata": {},
   "outputs": [
    {
     "data": {
      "text/html": [
       "<div>\n",
       "<style scoped>\n",
       "    .dataframe tbody tr th:only-of-type {\n",
       "        vertical-align: middle;\n",
       "    }\n",
       "\n",
       "    .dataframe tbody tr th {\n",
       "        vertical-align: top;\n",
       "    }\n",
       "\n",
       "    .dataframe thead th {\n",
       "        text-align: right;\n",
       "    }\n",
       "</style>\n",
       "<table border=\"1\" class=\"dataframe\">\n",
       "  <thead>\n",
       "    <tr style=\"text-align: right;\">\n",
       "      <th></th>\n",
       "      <th>sampling</th>\n",
       "      <th>precision</th>\n",
       "      <th>recall</th>\n",
       "      <th>search_space</th>\n",
       "      <th>fraction_exp</th>\n",
       "    </tr>\n",
       "  </thead>\n",
       "  <tbody>\n",
       "    <tr>\n",
       "      <th>0</th>\n",
       "      <td>1.000</td>\n",
       "      <td>0.00</td>\n",
       "      <td>0.00</td>\n",
       "      <td>7171.0</td>\n",
       "      <td>0.000345</td>\n",
       "    </tr>\n",
       "    <tr>\n",
       "      <th>1</th>\n",
       "      <td>0.100</td>\n",
       "      <td>0.00</td>\n",
       "      <td>0.00</td>\n",
       "      <td>9911.0</td>\n",
       "      <td>0.000476</td>\n",
       "    </tr>\n",
       "    <tr>\n",
       "      <th>2</th>\n",
       "      <td>0.010</td>\n",
       "      <td>0.01</td>\n",
       "      <td>0.01</td>\n",
       "      <td>10371.0</td>\n",
       "      <td>0.000498</td>\n",
       "    </tr>\n",
       "    <tr>\n",
       "      <th>3</th>\n",
       "      <td>0.001</td>\n",
       "      <td>0.00</td>\n",
       "      <td>0.00</td>\n",
       "      <td>10401.0</td>\n",
       "      <td>0.000500</td>\n",
       "    </tr>\n",
       "  </tbody>\n",
       "</table>\n",
       "</div>"
      ],
      "text/plain": [
       "   sampling  precision  recall  search_space  fraction_exp\n",
       "0     1.000       0.00    0.00        7171.0      0.000345\n",
       "1     0.100       0.00    0.00        9911.0      0.000476\n",
       "2     0.010       0.01    0.01       10371.0      0.000498\n",
       "3     0.001       0.00    0.00       10401.0      0.000500"
      ]
     },
     "execution_count": 13,
     "metadata": {},
     "output_type": "execute_result"
    }
   ],
   "source": [
    "df_metrics_random"
   ]
  },
  {
   "cell_type": "code",
   "execution_count": null,
   "id": "98dc0414-fee0-40b4-8fd0-3dc9dbce2a39",
   "metadata": {},
   "outputs": [],
   "source": [
    "# Create figure and axis\n",
    "fig, ax1 = plt.subplots()\n",
    "\n",
    "# First plot\n",
    "sns.lineplot(x=x, y=y1, ax=ax1, color=\"blue\", label=\"Sine\")\n",
    "ax1.set_ylabel(\"Sine\", color=\"blue\")\n",
    "ax1.tick_params(axis=\"y\", colors=\"blue\")\n",
    "\n",
    "# Second y-axis\n",
    "ax2 = ax1.twinx()\n",
    "sns.lineplot(x=x, y=y2, ax=ax2, color=\"red\", label=\"Cosine\")\n",
    "ax2.set_ylabel(\"Cosine\", color=\"red\")\n",
    "ax2.tick_params(axis=\"y\", colors=\"red\")"
   ]
  },
  {
   "cell_type": "code",
   "execution_count": null,
   "id": "653ef75c-4680-4ccd-a2b1-1c88995286bf",
   "metadata": {},
   "outputs": [],
   "source": [
    "samplings = [str(x) for x in df_metrics_directed['sampling']]\n",
    "\n",
    "# Define absolute axis size in inches\n",
    "axis_width = 1.5  # Width in inches\n",
    "axis_height = 1.3  # Height in inches\n",
    "\n",
    "# Define margins\n",
    "left_margin = 0.5\n",
    "bottom_margin = 0.5\n",
    "\n",
    "# Compute figure size to ensure fixed axis size\n",
    "fig_width = left_margin + axis_width + 0.5\n",
    "fig_height = bottom_margin + axis_height + 0.5\n",
    "\n",
    "fig = plt.figure(figsize=(fig_width, fig_height))\n",
    "\n",
    "# Manually place the axes (left, bottom, width, height) in figure coordinates (0-1 range)\n",
    "ax = fig.add_axes([\n",
    "    left_margin / fig_width,\n",
    "    bottom_margin / fig_height,\n",
    "    axis_width / fig_width,\n",
    "    axis_height / fig_height\n",
    "])"
   ]
  },
  {
   "cell_type": "code",
   "execution_count": 50,
   "id": "00e7d61f-a238-4f93-b043-f20d8dd15f22",
   "metadata": {},
   "outputs": [
    {
     "data": {
      "image/png": "[encoded data removed]",
      "text/plain": [
       "<Figure size 200x150 with 2 Axes>"
      ]
     },
     "metadata": {},
     "output_type": "display_data"
    }
   ],
   "source": [
    "# Create figure and axis\n",
    "fig, ax1 = plt.subplots(figsize=(2, 1.5))\n",
    "\n",
    "# Plot\n",
    "ax1.scatter(samplings, df_metrics_directed['precision'], s=15, label='directed', c='#1e8561')\n",
    "ax1.plot(samplings, df_metrics_directed['precision'], linewidth=1, c='#1e8561')\n",
    "\n",
    "ax1.scatter(samplings, df_metrics_random['precision'], s=15, label='random', c='#7ecfb3')\n",
    "ax1.plot(samplings, df_metrics_random['precision'], linewidth=1, c='#7ecfb3')\n",
    "\n",
    "ax1.set_yticks([0, 0.25, 0.5, 0.75, 1])\n",
    "\n",
    "# Second y-axis\n",
    "ax2 = ax1.twinx()\n",
    "\n",
    "# Plot\n",
    "ax2.scatter(samplings, df_metrics_directed['fraction_exp'], s=15, label='directed', c='#a428d1')\n",
    "ax2.plot(samplings, df_metrics_directed['fraction_exp'], linewidth=1, c='#a428d1')\n",
    "\n",
    "ax2.scatter(samplings, df_metrics_random['fraction_exp'], s=15, label='random', c='#c381db')\n",
    "ax2.plot(samplings, df_metrics_random['fraction_exp'], linewidth=1, c='#c381db')\n",
    "\n",
    "ax2.set_yticks([0, 0.0002, 0.0004, 0.0006])\n",
    "\n",
    "#ax.set_xlim(0, 10)\n",
    "#ax.set_ylim(-1, 1)\n",
    "\n",
    "#plt.yticks([0, 0.25, 0.5, 0.75, 1])\n",
    "\n",
    "#plt.xlabel('Training Data Sampling')\n",
    "#plt.ylabel('Precision')\n",
    "\n",
    "sns.despine()\n",
    "plt.savefig('Sampling_vs_precision_vs_efficiency.svg')"
   ]
  },
  {
   "cell_type": "markdown",
   "id": "5b3f8cb2-9d08-47fd-a3f1-423f885050b3",
   "metadata": {},
   "source": [
    "---\n"
   ]
  },
  {
   "cell_type": "code",
   "execution_count": 41,
   "id": "3a333c27-e743-4d8e-bd05-cd73612636b8",
   "metadata": {},
   "outputs": [],
   "source": [
    "res_depth_long = []\n",
    "\n",
    "for sampling_i, sampling in enumerate(samplings):\n",
    "    dfx = df_seqs_directed[sampling_i]\n",
    "    for i in range(0, len(dfx)):\n",
    "        res_depth_long.append([dfx.iloc[i]['depth'], dfx.iloc[i]['muts'], samplings[sampling_i]])\n",
    "\n",
    "df_res_depth_long = pd.DataFrame(res_depth_long, columns=['depth', 'distance', 'sampling'])"
   ]
  },
  {
   "cell_type": "code",
   "execution_count": 44,
   "id": "41d780dc-0588-4d57-b8e8-cd88bfb66680",
   "metadata": {},
   "outputs": [
    {
     "data": {
      "text/plain": [
       "<Axes: xlabel='sampling', ylabel='depth'>"
      ]
     },
     "execution_count": 44,
     "metadata": {},
     "output_type": "execute_result"
    },
    {
     "data": {
      "image/png": "[encoded data removed]",
      "text/plain": [
       "<Figure size 640x480 with 1 Axes>"
      ]
     },
     "metadata": {},
     "output_type": "display_data"
    }
   ],
   "source": [
    "sns.stripplot(data=df_res_depth_long, x='sampling', y='depth')"
   ]
  },
  {
   "cell_type": "code",
   "execution_count": 56,
   "id": "57d5c1c7-45a2-4841-9876-a429d7bfe7bb",
   "metadata": {},
   "outputs": [],
   "source": [
    "res_depth_wide = np.zeros((8, 4))"
   ]
  },
  {
   "cell_type": "code",
   "execution_count": 57,
   "id": "1a49fe20-7561-4a8b-8227-ad6d80e4561b",
   "metadata": {},
   "outputs": [
    {
     "data": {
      "text/plain": [
       "array([[0., 0., 0., 0.],\n",
       "       [0., 0., 0., 0.],\n",
       "       [0., 0., 0., 0.],\n",
       "       [0., 0., 0., 0.],\n",
       "       [0., 0., 0., 0.],\n",
       "       [0., 0., 0., 0.],\n",
       "       [0., 0., 0., 0.],\n",
       "       [0., 0., 0., 0.]])"
      ]
     },
     "execution_count": 57,
     "metadata": {},
     "output_type": "execute_result"
    }
   ],
   "source": [
    "res_depth_wide"
   ]
  },
  {
   "cell_type": "code",
   "execution_count": 58,
   "id": "18ffddfd-41ff-44f8-969c-121bae203f69",
   "metadata": {},
   "outputs": [],
   "source": [
    "for sampling_i, sampling in enumerate(samplings):\n",
    "    dfx = df_seqs_directed[sampling_i]\n",
    "    for i in range(0, len(dfx)):\n",
    "        depth, muts = dfx.iloc[i]['depth'], dfx.iloc[i]['muts']\n",
    "        res_depth_wide[depth][sampling_i] += 1\n",
    "\n",
    "#df_res_depth_long = pd.DataFrame(res_depth_long, columns=['depth', 'distance', 'sampling'])"
   ]
  },
  {
   "cell_type": "code",
   "execution_count": null,
   "id": "8672a805-c136-49bb-8c14-dd1958a592d2",
   "metadata": {},
   "outputs": [],
   "source": [
    "df_res_depth_wide = pd.DataFrame(res_depth_wide)\n",
    "df_res_depth_wide = df_res_depth_wide.loc[]"
   ]
  },
  {
   "cell_type": "code",
   "execution_count": 62,
   "id": "a9933f6a-14ab-4d17-9dfe-c9590afb8418",
   "metadata": {},
   "outputs": [
    {
     "data": {
      "text/plain": [
       "<Axes: >"
      ]
     },
     "execution_count": 62,
     "metadata": {},
     "output_type": "execute_result"
    },
    {
     "data": {
      "image/png": "[encoded data removed]",
      "text/plain": [
       "<Figure size 640x480 with 2 Axes>"
      ]
     },
     "metadata": {},
     "output_type": "display_data"
    }
   ],
   "source": [
    "sns.heatmap(, cmap='Blues', annot=True)"
   ]
  }
 ],
 "metadata": {
  "kernelspec": {
   "display_name": "Python 3 (ipykernel)",
   "language": "python",
   "name": "python3"
  },
  "language_info": {
   "codemirror_mode": {
    "name": "ipython",
    "version": 3
   },
   "file_extension": ".py",
   "mimetype": "text/x-python",
   "name": "python",
   "nbconvert_exporter": "python",
   "pygments_lexer": "ipython3",
   "version": "3.12.4"
  }
 },
 "nbformat": 4,
 "nbformat_minor": 5
}
