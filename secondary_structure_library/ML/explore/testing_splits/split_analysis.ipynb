{
 "cells": [
  {
   "cell_type": "code",
   "execution_count": 1,
   "id": "59190837-0098-4857-be3b-652bafec03f2",
   "metadata": {},
   "outputs": [],
   "source": [
    "import pandas as pd\n",
    "import numpy as np\n",
    "import matplotlib.pyplot as plt\n",
    "import seaborn as sns\n",
    "import seaborn as sns\n",
    "import pickle as pkl"
   ]
  },
  {
   "cell_type": "code",
   "execution_count": 2,
   "id": "cf4219a0-57d0-4909-b437-4e2f679b8887",
   "metadata": {},
   "outputs": [],
   "source": [
    "def seqDist(s1, s2):\n",
    "    return sum([1 if b1 != b2 else 0 for b1, b2 in zip(s1, s2)])"
   ]
  },
  {
   "cell_type": "code",
   "execution_count": 3,
   "id": "edec9018-ed82-4276-b989-1c59d60460f5",
   "metadata": {},
   "outputs": [],
   "source": [
    "def getMinDist(start_seqs, target_seqs):\n",
    "    res = []\n",
    "    for target_seq in target_seqs:\n",
    "        dists = []\n",
    "        for start_seq in start_seqs:\n",
    "            dists.append(seqDist(start_seq, target_seq))\n",
    "        res.append(min(dists))\n",
    "    return pd.Series(res).value_counts()"
   ]
  },
  {
   "cell_type": "code",
   "execution_count": 4,
   "id": "59c6b90f-af29-44d4-bec1-42aae8c1a762",
   "metadata": {},
   "outputs": [],
   "source": [
    "df = pd.read_csv('/home/jardic/Documents/projects/jk/datasets/datasets_prepped/strc_km.csv', usecols=['cpm', 'varseq'])"
   ]
  },
  {
   "cell_type": "code",
   "execution_count": 5,
   "id": "2a38ebc5-d9ee-4c51-8559-317d2b293bed",
   "metadata": {},
   "outputs": [],
   "source": [
    "with open('splits.pkl', mode='rb')as sf:\n",
    "    splits = pkl.load(sf)\n",
    "\n",
    "df_val = df.loc[splits['val']]\n",
    "df_tst = df.loc[splits['tst']]\n",
    "\n",
    "df_val = df_val.sort_values('cpm', ascending=False)\n",
    "df_tst = df_tst.sort_values('cpm', ascending=False)"
   ]
  },
  {
   "cell_type": "code",
   "execution_count": 6,
   "id": "afc31486-1a0e-4c4a-84e8-afa0ef7cc8cb",
   "metadata": {},
   "outputs": [],
   "source": [
    "topN_starting = 10"
   ]
  },
  {
   "cell_type": "code",
   "execution_count": 7,
   "id": "0129f41c-363d-4b05-8e9c-7c39204ea55f",
   "metadata": {},
   "outputs": [],
   "source": [
    "for sampling in range(0, len(splits['trn'])):\n",
    "    \n",
    "    df_trn = df.loc[splits['trn'][sampling]]\n",
    "    df_trn = df_trn.sort_values('cpm', ascending=False)\n",
    "    vc = getMinDist(df_trn['varseq'].head(topN_starting).tolist(), df_val['varseq'].tolist())\n",
    "    \n",
    "    plt.figure(figsize=(3, 2.5))\n",
    "    plt.bar(vc.index, vc.values)\n",
    "    plt.xlabel('Shortest distance from\\nstart set')\n",
    "    sns.despine()\n",
    "    plt.tight_layout()\n",
    "    plt.savefig('dists_to_val_trn' + str(sampling) + '.svg')\n",
    "    plt.close()\n",
    "    \n",
    "    plt.figure(figsize=(4, 2.5))\n",
    "    sns.histplot(df_trn['cpm'], binwidth=5, color='tab:blue', edgecolor='tab:blue', element=\"step\")\n",
    "    \n",
    "    plt.yscale('log')\n",
    "    #plt.xlim(-20, 1000)\n",
    "    #plt.xticks([0, 250, 500, 750, 1000])\n",
    "    #plt.ylim(None, 10000000)\n",
    "    \n",
    "    # Adjust figure params\n",
    "    sns.despine()\n",
    "    plt.xlabel('CPM')\n",
    "    plt.ylabel('Number of sequences')\n",
    "    plt.tight_layout()\n",
    "    plt.savefig('fitness_distribution_trn' + str(sampling) + '.svg')\n",
    "    plt.close()"
   ]
  }
 ],
 "metadata": {
  "kernelspec": {
   "display_name": "Python 3 (ipykernel)",
   "language": "python",
   "name": "python3"
  },
  "language_info": {
   "codemirror_mode": {
    "name": "ipython",
    "version": 3
   },
   "file_extension": ".py",
   "mimetype": "text/x-python",
   "name": "python",
   "nbconvert_exporter": "python",
   "pygments_lexer": "ipython3",
   "version": "3.12.4"
  }
 },
 "nbformat": 4,
 "nbformat_minor": 5
}
