{
 "cells": [
  {
   "cell_type": "code",
   "execution_count": 1,
   "id": "708d6fa4-95a7-42bd-8772-2c04bfe2367d",
   "metadata": {},
   "outputs": [],
   "source": [
    "import pandas as pd\n",
    "import numpy as np\n",
    "import pickle as pkl\n",
    "import re"
   ]
  },
  {
   "cell_type": "code",
   "execution_count": 2,
   "id": "1bea5a5b-50ee-4c25-bcb3-4de6e56fbbf7",
   "metadata": {},
   "outputs": [],
   "source": [
    "aurora_strc_positions_0 = [3,5,10,11,13,14,15,16,21,22,25,26,27,28,29,33,36,39,41,42,43,44,45,46]\n",
    "aurora_ctrl_positions_0 = [1,3,8,10,11,13,18,19,20,22,26,27,28,29,30,32,33,35,36,37,38,40,43,46]\n",
    "\n",
    "degenerate_symbols = {\n",
    "    'A' : ['A'],\n",
    "    'C' : ['C'],\n",
    "    'G' : ['G'],\n",
    "    'T' : ['T'],\n",
    "#    'U' : ['U'],\n",
    "    'W' : ['A', 'T'],\n",
    "    'S' : ['C', 'G'],\n",
    "    'M' : ['A', 'C'],\n",
    "    'K' : ['G', 'T'],\n",
    "    'R' : ['A', 'G'],\n",
    "    'Y' : ['C', 'T'],\n",
    "    'B' : ['C', 'G', 'T'],\n",
    "    'D' : ['A', 'G', 'T'],\n",
    "    'H' : ['A', 'C', 'T'],\n",
    "    'V' : ['A', 'C', 'G'],\n",
    "    'N' : ['A', 'C', 'G', 'T'],\n",
    "    'Z' : [],\n",
    "}\n",
    "\n",
    "lib_designs_strc = [\n",
    "    'GGAGGRGATGRATRYRYCCGGKHCCRKWWYGGCDTGHGGRGYRYATY',\n",
    "    'GGAAGRGATGRATRYRYCCGGKHCCRKWWYGGCDTGHGGRGYRYTTY',\n",
    "    'GGAGGRGATGRCTRYRYCCGGKHCCRKWWYGGCDTGHGGRGYRYAGY',\n",
    "    'GGAGGRGATGRATRYRYCCGGKHCCYKWWRGGCDTGHGGRGYRYATY',\n",
    "    'GGAAGRGATGRCTRYRYCCGGKHCCRKWWYGGCDTGHGGRGYRYTGY',\n",
    "    'GGAAGRGATGRATRYRYCCGGKHCCYKWWRGGCDTGHGGRGYRYTTY',\n",
    "    'GGAGGRGATGRCTRYRYCCGGKHCCYKWWRGGCDTGHGGRGYRYAGY',\n",
    "    'GGAAGRGATGRCTRYRYCCGGKHCCYKWWRGGCDTGHGGRGYRYTGY'\n",
    "]\n",
    "\n",
    "lib_designs_ctrl = [\n",
    "    'GGAMGGGAKGABTMTGTCCKKTDCCTKKWMRGYVTRYRKAGTGKTGY',\n",
    "    'GCAMGGGAKGGBTMTGTCCKKTDCCTKKWMRGYVTRYRKAGTGKTGY',\n",
    "    'GGAMGGGAKGABTMTGTCAKKTDCCTKKWMRGYVTRYRKATTGKTGY',\n",
    "    'GGAMGGGAKGABTMTGTCCKKTDCCTKYWMRGYVTRYRKAGTGSTGY',\n",
    "    'GCAMGGGAKGGBTMTGTCAKKTDCCTKKWMRGYVTRYRKATTGKTGY',\n",
    "    'GCAMGGGAKGGBTMTGTCCKKTDCCTKYWMRGYVTRYRKAGTGSTGY',\n",
    "    'GGAMGGGAKGABTMTGTCAKKTDCCTKYWMRGYVTRYRKATTGSTGY',\n",
    "    'GCAMGGGAKGGBTMTGTCAKKTDCCTKYWMRGYVTRYRKATTGSTGY'\n",
    "]"
   ]
  },
  {
   "cell_type": "code",
   "execution_count": 3,
   "id": "ad2f83a8-017a-46e4-a750-0f0ef7733054",
   "metadata": {},
   "outputs": [],
   "source": [
    "def makePattern(P):\n",
    "    p = ''\n",
    "    for c in P:\n",
    "        options = degenerate_symbols[c]\n",
    "        if len(options) == 1:\n",
    "            p += c\n",
    "        else:\n",
    "            p += '[' + '|'.join(options) + ']'\n",
    "    return re.compile(p)"
   ]
  },
  {
   "cell_type": "code",
   "execution_count": 4,
   "id": "6fbb6a9b-36be-4fd4-8c1a-c671b72e3cd1",
   "metadata": {},
   "outputs": [],
   "source": [
    "def matchSubpool(S, P):\n",
    "    for i in range(0, len(P)):\n",
    "        if re.search(P[i], S):\n",
    "            return i\n",
    "        else:\n",
    "            pass\n",
    "    return None"
   ]
  },
  {
   "cell_type": "code",
   "execution_count": 5,
   "id": "ebe119d8-09b9-407b-baf9-339d31773b3c",
   "metadata": {},
   "outputs": [],
   "source": [
    "def prepDataset(d, nonconstant_positions, patterns):\n",
    "\n",
    "    # Load the original dataset\n",
    "    df = pd.read_csv(d, sep='\\t', names=['count', 'seq'])\n",
    "    \n",
    "    # Get rid of sequences which contain Ns\n",
    "    df = df.loc[[True if 'N' not in s else False for s in df['seq']]]\n",
    "\n",
    "    # Assign subpools\n",
    "    df['subpool'] = [matchSubpool(s, patterns) for s in df['seq']]\n",
    "\n",
    "    # Get the non-constant positions\n",
    "    df['varseq'] = [''.join([s[x] for x in nonconstant_positions]) for s in df['seq']]\n",
    "    \n",
    "    # Compute cpms/ppms from counts\n",
    "    df['cpm'] = df['count'] / df['count'].sum() * 1000000\n",
    "\n",
    "    return df"
   ]
  },
  {
   "cell_type": "code",
   "execution_count": 6,
   "id": "14ec96bc-d054-4ec2-b2be-bafbe6fd0801",
   "metadata": {},
   "outputs": [],
   "source": [
    "# Make the regexp patterns from each\n",
    "patterns_ctrl = [makePattern(o) for o in lib_designs_ctrl]\n",
    "patterns_strc = [makePattern(o) for o in lib_designs_strc]"
   ]
  },
  {
   "cell_type": "code",
   "execution_count": 7,
   "id": "352dc79b-f6ab-4f4f-abba-4be8ffdd18fd",
   "metadata": {},
   "outputs": [],
   "source": [
    "# Sec. Structure init\n",
    "df_prepped = prepDataset('../datasets_original/MV_aurora_secstructlib_small_init.tsv', aurora_strc_positions_0, patterns_strc)\n",
    "df_prepped.to_csv('strc_init.csv')"
   ]
  },
  {
   "cell_type": "code",
   "execution_count": 8,
   "id": "923a86ec-6647-4af8-9fba-a0ada5981159",
   "metadata": {},
   "outputs": [],
   "source": [
    "# Sec. Structure km\n",
    "df_prepped = prepDataset('../datasets_original/MV_aurora_secstructlib_small_km.tsv', aurora_strc_positions_0, patterns_strc)\n",
    "df_prepped.to_csv('strc_km.csv')"
   ]
  },
  {
   "cell_type": "code",
   "execution_count": 9,
   "id": "5da33b25-c698-4b9a-a0bb-d026147c4f04",
   "metadata": {},
   "outputs": [],
   "source": [
    "# Sec. Structure kcat\n",
    "df_prepped = prepDataset('../datasets_original/MV_aurora_secstructlib_small_kcat.tsv', aurora_strc_positions_0, patterns_strc)\n",
    "df_prepped.to_csv('strc_kcat.csv')"
   ]
  },
  {
   "cell_type": "code",
   "execution_count": 10,
   "id": "2f5814c6-d54e-4f83-b3fe-565d9da6ce7f",
   "metadata": {},
   "outputs": [],
   "source": [
    "# Control init\n",
    "df_prepped = prepDataset('../datasets_original/MV_aurora_secstructlib_control2_init.tsv', aurora_ctrl_positions_0, patterns_ctrl)\n",
    "df_prepped.to_csv('ctrl_init.csv')"
   ]
  },
  {
   "cell_type": "code",
   "execution_count": 11,
   "id": "36c1e4c2-d22b-4b99-9173-ede348fc2f05",
   "metadata": {},
   "outputs": [],
   "source": [
    "# Control km\n",
    "df_prepped = prepDataset('../datasets_original/MV_aurora_secstructlib_control2_km.tsv', aurora_ctrl_positions_0, patterns_ctrl)\n",
    "df_prepped.to_csv('ctrl_km.csv')"
   ]
  }
 ],
 "metadata": {
  "kernelspec": {
   "display_name": "Python 3 (ipykernel)",
   "language": "python",
   "name": "python3"
  },
  "language_info": {
   "codemirror_mode": {
    "name": "ipython",
    "version": 3
   },
   "file_extension": ".py",
   "mimetype": "text/x-python",
   "name": "python",
   "nbconvert_exporter": "python",
   "pygments_lexer": "ipython3",
   "version": "3.12.4"
  }
 },
 "nbformat": 4,
 "nbformat_minor": 5
}
