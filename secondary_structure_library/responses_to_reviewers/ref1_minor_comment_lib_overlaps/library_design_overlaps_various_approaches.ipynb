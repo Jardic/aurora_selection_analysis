{
 "cells": [
  {
   "cell_type": "code",
   "execution_count": 14,
   "id": "18b47532-a9b5-4295-bb44-e4ab7a66cc1c",
   "metadata": {},
   "outputs": [],
   "source": [
    "import pandas as pd\n",
    "from itertools import product"
   ]
  },
  {
   "cell_type": "code",
   "execution_count": 15,
   "id": "02bd9e6c-452e-4607-840f-9c29f5bfe82f",
   "metadata": {},
   "outputs": [],
   "source": [
    "def undegenerate(S):\n",
    "    variants = [degenerate_symbols[s] for s in S]\n",
    "    variants = [x for xs in variants for x in xs]\n",
    "    return variants"
   ]
  },
  {
   "cell_type": "code",
   "execution_count": 16,
   "id": "44ccb70b-459a-488d-9bc9-8e5fdc59edd9",
   "metadata": {},
   "outputs": [],
   "source": [
    "degenerate_symbols = {\n",
    "    'A' : ['A'],\n",
    "    'C' : ['C'],\n",
    "    'G' : ['G'],\n",
    "    'T' : ['T'],\n",
    "#    'U' : ['U'],\n",
    "    'W' : ['A', 'T'],\n",
    "    'S' : ['C', 'G'],\n",
    "    'M' : ['A', 'C'],\n",
    "    'K' : ['G', 'T'],\n",
    "    'R' : ['A', 'G'],\n",
    "    'Y' : ['C', 'T'],\n",
    "    'B' : ['C', 'G', 'T'],\n",
    "    'D' : ['A', 'G', 'T'],\n",
    "    'H' : ['A', 'C', 'T'],\n",
    "    'V' : ['A', 'C', 'G'],\n",
    "    'N' : ['A', 'C', 'G', 'T'],\n",
    "    'Z' : [],\n",
    "}"
   ]
  },
  {
   "cell_type": "code",
   "execution_count": 17,
   "id": "7712233e-44ff-41da-8048-4fcb31ba839a",
   "metadata": {},
   "outputs": [],
   "source": [
    "lib_design_strc = [\n",
    "    'GGAGGRGATGRATRYRYCCGGKHCCRKWWYGGCDTGHGGRGYRYATY',\n",
    "    'GGAAGRGATGRATRYRYCCGGKHCCRKWWYGGCDTGHGGRGYRYTTY',\n",
    "    'GGAGGRGATGRCTRYRYCCGGKHCCRKWWYGGCDTGHGGRGYRYAGY',\n",
    "    'GGAGGRGATGRATRYRYCCGGKHCCYKWWRGGCDTGHGGRGYRYATY',\n",
    "    'GGAAGRGATGRCTRYRYCCGGKHCCRKWWYGGCDTGHGGRGYRYTGY',\n",
    "    'GGAAGRGATGRATRYRYCCGGKHCCYKWWRGGCDTGHGGRGYRYTTY',\n",
    "    'GGAGGRGATGRCTRYRYCCGGKHCCYKWWRGGCDTGHGGRGYRYAGY',\n",
    "    'GGAAGRGATGRCTRYRYCCGGKHCCYKWWRGGCDTGHGGRGYRYTGY'\n",
    "]\n",
    "\n",
    "lib_design_ctrl = [\n",
    "    'GGAMGGGAKGABTMTGTCCKKTDCCTKKWMRGYVTRYRKAGTGKTGY',\n",
    "    'GCAMGGGAKGGBTMTGTCCKKTDCCTKKWMRGYVTRYRKAGTGKTGY',\n",
    "    'GGAMGGGAKGABTMTGTCAKKTDCCTKKWMRGYVTRYRKATTGKTGY',\n",
    "    'GGAMGGGAKGABTMTGTCCKKTDCCTKYWMRGYVTRYRKAGTGSTGY',\n",
    "    'GCAMGGGAKGGBTMTGTCAKKTDCCTKKWMRGYVTRYRKATTGKTGY',\n",
    "    'GCAMGGGAKGGBTMTGTCCKKTDCCTKYWMRGYVTRYRKAGTGSTGY',\n",
    "    'GGAMGGGAKGABTMTGTCAKKTDCCTKYWMRGYVTRYRKATTGSTGY',\n",
    "    'GCAMGGGAKGGBTMTGTCAKKTDCCTKYWMRGYVTRYRKATTGSTGY'\n",
    "]"
   ]
  },
  {
   "cell_type": "code",
   "execution_count": 18,
   "id": "af3b25af-d026-4881-aac9-9c83e5316614",
   "metadata": {},
   "outputs": [],
   "source": [
    "df_strc = pd.DataFrame([list(s) for s in lib_design_strc])\n",
    "df_ctrl = pd.DataFrame([list(s) for s in lib_design_ctrl])"
   ]
  },
  {
   "cell_type": "code",
   "execution_count": 19,
   "id": "8ede8988-7585-4bfe-b05a-69abb825a4e9",
   "metadata": {},
   "outputs": [],
   "source": [
    "df_strc.to_csv('library_design_table_strc.csv')\n",
    "df_ctrl.to_csv('library_design_table_ctrl.csv')"
   ]
  },
  {
   "cell_type": "code",
   "execution_count": 20,
   "id": "aa0ef45a-5965-4261-b71d-d66b8bbc2616",
   "metadata": {},
   "outputs": [
    {
     "data": {
      "text/plain": [
       "[1, 3, 5, 7, 8, 10, 13, 18, 24, 25, 27, 29, 32, 35, 47]"
      ]
     },
     "execution_count": 20,
     "metadata": {},
     "output_type": "execute_result"
    }
   ],
   "source": [
    "overlapping_positions = []\n",
    "for i in range(0, len(df_strc.columns)):\n",
    "    col1, col2 = df_strc[i], df_ctrl[i]\n",
    "    if (col1.nunique() == 1) and (col2.nunique() == 1):\n",
    "        if col1.unique() == col2.unique():\n",
    "            overlapping_positions.append(i+1)\n",
    "\n",
    "overlapping_positions"
   ]
  },
  {
   "cell_type": "code",
   "execution_count": 21,
   "id": "393574f0-2e08-4196-a4ac-16fda3eba2cf",
   "metadata": {},
   "outputs": [],
   "source": [
    "with open('overlapping_positions.txt', mode='w')as f:\n",
    "    f.write(','.join([str(x) for x in overlapping_positions]))"
   ]
  },
  {
   "cell_type": "code",
   "execution_count": 28,
   "id": "81103648-b78f-4ee2-bbba-d970c268585c",
   "metadata": {},
   "outputs": [],
   "source": [
    "res = []\n",
    "overlapping_variants = []\n",
    "for i in range(0, len(df_strc.columns)):\n",
    "    col1, col2 = df_strc[i], df_ctrl[i]\n",
    "    variants_col1 = set(undegenerate(col1.unique().tolist()))\n",
    "    variants_col2 = set(undegenerate(col2.unique().tolist()))\n",
    "    intersection = variants_col1.intersection(variants_col2)\n",
    "    union = variants_col1.union(variants_col2)\n",
    "    union_size = len(union)\n",
    "    intersection_size = len(intersection)\n",
    "    res.append([\n",
    "        ''.join(col1.unique().tolist()), \n",
    "        ''.join(col2.unique().tolist()),\n",
    "        ''.join(list(variants_col1)),\n",
    "        ''.join(list(variants_col2)),\n",
    "        ''.join(list(intersection)), \n",
    "        ''.join(list(union)), \n",
    "        intersection_size,\n",
    "        union_size,\n",
    "        intersection_size/union_size\n",
    "    ])\n",
    "\n",
    "        \n",
    "df_res = pd.DataFrame(res, columns=[\n",
    "    'def_strc',\n",
    "    'def_ctrl',\n",
    "    'unique_strc',\n",
    "    'unique_ctrl',\n",
    "    'intersection',\n",
    "    'union',\n",
    "    'intersection_size',\n",
    "    'union_size',\n",
    "    'inter_over_union'\n",
    "])"
   ]
  },
  {
   "cell_type": "code",
   "execution_count": 29,
   "id": "56344d5c-15a4-47cc-9993-1c6ab859e58a",
   "metadata": {},
   "outputs": [],
   "source": [
    "df_res.index = df_res.index + 1"
   ]
  },
  {
   "cell_type": "code",
   "execution_count": 30,
   "id": "7cd10ba9-95b8-4617-a5ae-19d175d98abb",
   "metadata": {},
   "outputs": [],
   "source": [
    "df_res.to_csv('library_design_overlaps.csv')"
   ]
  },
  {
   "cell_type": "code",
   "execution_count": null,
   "id": "b7e3b2a1-8f38-4295-b9d9-ea166d3452f7",
   "metadata": {},
   "outputs": [],
   "source": []
  }
 ],
 "metadata": {
  "kernelspec": {
   "display_name": "Python 3 (ipykernel)",
   "language": "python",
   "name": "python3"
  },
  "language_info": {
   "codemirror_mode": {
    "name": "ipython",
    "version": 3
   },
   "file_extension": ".py",
   "mimetype": "text/x-python",
   "name": "python",
   "nbconvert_exporter": "python",
   "pygments_lexer": "ipython3",
   "version": "3.12.4"
  }
 },
 "nbformat": 4,
 "nbformat_minor": 5
}
