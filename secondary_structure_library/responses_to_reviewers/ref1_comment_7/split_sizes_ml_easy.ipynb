{
 "cells": [
  {
   "cell_type": "code",
   "execution_count": 5,
   "id": "573c63cb-e4bd-42f0-a236-b9cf575f98c6",
   "metadata": {},
   "outputs": [],
   "source": [
    "import pandas as pd\n",
    "import pickle as pkl"
   ]
  },
  {
   "cell_type": "code",
   "execution_count": 6,
   "id": "65973f36-2c97-4ece-b411-b543e7af2567",
   "metadata": {},
   "outputs": [],
   "source": [
    "path = '../../ML_final/s8/'\n",
    "split_files = [\n",
    "    'splits_0_3.pkl',\n",
    "    'splits_0_1.pkl',\n",
    "    'splits_0_03.pkl',\n",
    "    'splits_0_01.pkl',\n",
    "    'splits_0_003.pkl',\n",
    "    'splits_0_001.pkl'\n",
    "]\n",
    "\n",
    "samplings = [0.3, 0.1, 0.03, 0.01, 0.003, 0.001]"
   ]
  },
  {
   "cell_type": "code",
   "execution_count": 7,
   "id": "5d052572-8daa-49da-a9d8-8bbfd5bb6937",
   "metadata": {},
   "outputs": [],
   "source": [
    "res = []\n",
    "\n",
    "for sf, sampling in zip(split_files, samplings):\n",
    "    with open(path+sf, mode='rb')as f:\n",
    "        split = pkl.load(f)\n",
    "        res.append([sampling, len(split['trn']), len(split['tst'])])\n",
    "        "
   ]
  },
  {
   "cell_type": "code",
   "execution_count": 9,
   "id": "df48c097-40e6-4e49-bf11-2c5ed2baa8f6",
   "metadata": {},
   "outputs": [],
   "source": [
    "pd.DataFrame(res, columns=['sampling', 'train_size', 'test_size']).to_csv('split_sizes_ML_easy.csv')"
   ]
  }
 ],
 "metadata": {
  "kernelspec": {
   "display_name": "Python 3 (ipykernel)",
   "language": "python",
   "name": "python3"
  },
  "language_info": {
   "codemirror_mode": {
    "name": "ipython",
    "version": 3
   },
   "file_extension": ".py",
   "mimetype": "text/x-python",
   "name": "python",
   "nbconvert_exporter": "python",
   "pygments_lexer": "ipython3",
   "version": "3.12.4"
  }
 },
 "nbformat": 4,
 "nbformat_minor": 5
}
