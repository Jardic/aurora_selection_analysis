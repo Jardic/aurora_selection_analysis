{
 "cells": [
  {
   "cell_type": "code",
   "execution_count": 1,
   "id": "c9b124d7-f25c-49fd-9d6e-2043d72c1139",
   "metadata": {},
   "outputs": [],
   "source": [
    "import pandas as pd\n",
    "import numpy as np\n",
    "import pickle as pkl"
   ]
  },
  {
   "cell_type": "code",
   "execution_count": 2,
   "id": "6d2ef271-33ea-4d03-b599-f488a65af13a",
   "metadata": {},
   "outputs": [],
   "source": [
    "with open('../../ML_final/s7/splits/splits.pkl', mode='rb')as f:\n",
    "    splits = pkl.load(f)"
   ]
  },
  {
   "cell_type": "code",
   "execution_count": 4,
   "id": "ec87fe4b-69b4-45c6-95ff-395232e6ee2d",
   "metadata": {},
   "outputs": [],
   "source": [
    "samplings = [1.0, 0.1, 0.01, 0.001]"
   ]
  },
  {
   "cell_type": "code",
   "execution_count": 8,
   "id": "a7b4c670-5f3e-416f-b673-28d9cacfe08c",
   "metadata": {},
   "outputs": [],
   "source": [
    "res = []\n",
    "for i in range(0, len(samplings)):\n",
    "    res.append([samplings[i], len(splits['tst']), len(splits['val']), len(splits['trn'][i])])"
   ]
  },
  {
   "cell_type": "code",
   "execution_count": 11,
   "id": "dbe783b7-2a09-4dd8-9efa-3496cf9bef4f",
   "metadata": {},
   "outputs": [],
   "source": [
    "pd.DataFrame(res, columns=['sampling', 'test_size', 'val_size', 'train_size']).to_csv('split_sizes_ML_hard.csv')"
   ]
  }
 ],
 "metadata": {
  "kernelspec": {
   "display_name": "Python 3 (ipykernel)",
   "language": "python",
   "name": "python3"
  },
  "language_info": {
   "codemirror_mode": {
    "name": "ipython",
    "version": 3
   },
   "file_extension": ".py",
   "mimetype": "text/x-python",
   "name": "python",
   "nbconvert_exporter": "python",
   "pygments_lexer": "ipython3",
   "version": "3.12.4"
  }
 },
 "nbformat": 4,
 "nbformat_minor": 5
}
