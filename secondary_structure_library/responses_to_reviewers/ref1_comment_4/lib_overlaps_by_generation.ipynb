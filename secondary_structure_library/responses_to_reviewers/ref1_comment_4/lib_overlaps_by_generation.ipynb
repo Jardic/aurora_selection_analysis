{
 "cells": [
  {
   "cell_type": "code",
   "execution_count": 6,
   "id": "6f9da31b-7cdb-4603-b757-03a445b7cabc",
   "metadata": {},
   "outputs": [],
   "source": [
    "import pandas as pd\n",
    "from itertools import product"
   ]
  },
  {
   "cell_type": "code",
   "execution_count": 7,
   "id": "4d2814fd-31fe-4a10-834b-fb273c8f94b7",
   "metadata": {},
   "outputs": [],
   "source": [
    "degenerate_symbols = {\n",
    "    'A' : ['A'],\n",
    "    'C' : ['C'],\n",
    "    'G' : ['G'],\n",
    "    'T' : ['T'],\n",
    "#    'U' : ['U'],\n",
    "    'W' : ['A', 'T'],\n",
    "    'S' : ['C', 'G'],\n",
    "    'M' : ['A', 'C'],\n",
    "    'K' : ['G', 'T'],\n",
    "    'R' : ['A', 'G'],\n",
    "    'Y' : ['C', 'T'],\n",
    "    'B' : ['C', 'G', 'T'],\n",
    "    'D' : ['A', 'G', 'T'],\n",
    "    'H' : ['A', 'C', 'T'],\n",
    "    'V' : ['A', 'C', 'G'],\n",
    "    'N' : ['A', 'C', 'G', 'T'],\n",
    "    'Z' : [],\n",
    "}"
   ]
  },
  {
   "cell_type": "code",
   "execution_count": 8,
   "id": "2db7d207-45d5-414d-a586-5f65da1e6db6",
   "metadata": {},
   "outputs": [],
   "source": [
    "lib_design_strc = [\n",
    "    'GGAGGRGATGRATRYRYCCGGKHCCRKWWYGGCDTGHGGRGYRYATY',\n",
    "    'GGAAGRGATGRATRYRYCCGGKHCCRKWWYGGCDTGHGGRGYRYTTY',\n",
    "    'GGAGGRGATGRCTRYRYCCGGKHCCRKWWYGGCDTGHGGRGYRYAGY',\n",
    "    'GGAGGRGATGRATRYRYCCGGKHCCYKWWRGGCDTGHGGRGYRYATY',\n",
    "    'GGAAGRGATGRCTRYRYCCGGKHCCRKWWYGGCDTGHGGRGYRYTGY',\n",
    "    'GGAAGRGATGRATRYRYCCGGKHCCYKWWRGGCDTGHGGRGYRYTTY',\n",
    "    'GGAGGRGATGRCTRYRYCCGGKHCCYKWWRGGCDTGHGGRGYRYAGY',\n",
    "    'GGAAGRGATGRCTRYRYCCGGKHCCYKWWRGGCDTGHGGRGYRYTGY'\n",
    "]\n",
    "\n",
    "lib_design_ctrl = [\n",
    "    'GGAMGGGAKGABTMTGTCCKKTDCCTKKWMRGYVTRYRKAGTGKTGY',\n",
    "    'GCAMGGGAKGGBTMTGTCCKKTDCCTKKWMRGYVTRYRKAGTGKTGY',\n",
    "    'GGAMGGGAKGABTMTGTCAKKTDCCTKKWMRGYVTRYRKATTGKTGY',\n",
    "    'GGAMGGGAKGABTMTGTCCKKTDCCTKYWMRGYVTRYRKAGTGSTGY',\n",
    "    'GCAMGGGAKGGBTMTGTCAKKTDCCTKKWMRGYVTRYRKATTGKTGY',\n",
    "    'GCAMGGGAKGGBTMTGTCCKKTDCCTKYWMRGYVTRYRKAGTGSTGY',\n",
    "    'GGAMGGGAKGABTMTGTCAKKTDCCTKYWMRGYVTRYRKATTGSTGY',\n",
    "    'GCAMGGGAKGGBTMTGTCAKKTDCCTKYWMRGYVTRYRKATTGSTGY'\n",
    "]"
   ]
  },
  {
   "cell_type": "code",
   "execution_count": 9,
   "id": "a9277f4c-6215-4c1a-85e2-529dde3b4fe5",
   "metadata": {},
   "outputs": [],
   "source": [
    "def get_sublibrary_members(sublibrary):\n",
    "    sublib_undegenerated = [degenerate_symbols[c] for c in sublibrary]\n",
    "    return [''.join(x) for x in list(product(*sublib_undegenerated))]"
   ]
  },
  {
   "cell_type": "code",
   "execution_count": 10,
   "id": "30693637-6311-49ee-aa9b-b5938a48ba0a",
   "metadata": {},
   "outputs": [],
   "source": [
    "def generate_library(lib_design):\n",
    "    library = []\n",
    "    for i in range(0, len(lib_design)):\n",
    "        library.extend(get_sublibrary_members(lib_design[i]))\n",
    "    return set(library)"
   ]
  },
  {
   "cell_type": "code",
   "execution_count": 11,
   "id": "25764a25-3447-48eb-88de-4f990697ba57",
   "metadata": {},
   "outputs": [],
   "source": [
    "lib_strc = generate_library(lib_design_strc)"
   ]
  },
  {
   "cell_type": "code",
   "execution_count": 13,
   "id": "c333cb5c-1605-4848-9e8a-5a579e36bcf3",
   "metadata": {},
   "outputs": [],
   "source": [
    "lib_ctrl = generate_library(lib_design_ctrl)"
   ]
  },
  {
   "cell_type": "code",
   "execution_count": 14,
   "id": "847f8cea-fda3-4cb3-8736-e3a572d9d789",
   "metadata": {},
   "outputs": [],
   "source": [
    "lib_overlap = lib_strc.intersection(lib_ctrl)"
   ]
  },
  {
   "cell_type": "code",
   "execution_count": 18,
   "id": "6972c54b-42e4-4192-a200-3990aa590a7b",
   "metadata": {},
   "outputs": [],
   "source": [
    "with open('library_overlap_seqs.txt', mode='w')as f:\n",
    "    for s in lib_overlap:\n",
    "        print(s, file=f)"
   ]
  }
 ],
 "metadata": {
  "kernelspec": {
   "display_name": "Python 3 (ipykernel)",
   "language": "python",
   "name": "python3"
  },
  "language_info": {
   "codemirror_mode": {
    "name": "ipython",
    "version": 3
   },
   "file_extension": ".py",
   "mimetype": "text/x-python",
   "name": "python",
   "nbconvert_exporter": "python",
   "pygments_lexer": "ipython3",
   "version": "3.12.4"
  }
 },
 "nbformat": 4,
 "nbformat_minor": 5
}
