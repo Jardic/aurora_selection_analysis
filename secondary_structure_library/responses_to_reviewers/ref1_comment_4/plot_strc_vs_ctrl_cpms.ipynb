{
 "cells": [
  {
   "cell_type": "code",
   "execution_count": 1,
   "id": "48c0118f-7fd4-4722-8abe-2939ce64d7a9",
   "metadata": {},
   "outputs": [],
   "source": [
    "import pandas as pd\n",
    "import matplotlib.pyplot as plt\n",
    "import seaborn as sns\n",
    "import numpy as np\n",
    "import math"
   ]
  },
  {
   "cell_type": "code",
   "execution_count": 2,
   "id": "695cc81f-96ec-47d9-b172-91941097fd7b",
   "metadata": {},
   "outputs": [],
   "source": [
    "scheme = {'blue':'#2f788e', 'red':'#d15b4f', 'green':'#45b563', 'grey':'#8a8888'}\n",
    "\n",
    "plt.rcParams['figure.facecolor'] = 'white'\n",
    "plt.rcParams['font.size'] = 12\n",
    "plt.rcParams['font.family'] = 'Arial'"
   ]
  },
  {
   "cell_type": "code",
   "execution_count": null,
   "id": "0986ef53-3831-4a49-a0b6-8374aa6b94d0",
   "metadata": {},
   "outputs": [],
   "source": [
    "def getFullSequence(S_var, varpos, lib_design_sequence):\n",
    "    fullseq = ''\n",
    "    S_var = list(S_var)[::-1]\n",
    "    for i in range(0, len(lib_design_sequence)):\n",
    "        if i in varpos:\n",
    "            fullseq += S_var.pop()\n",
    "        else:\n",
    "            fullseq += lib_design_sequence[i]\n",
    "    return fullseq"
   ]
  },
  {
   "cell_type": "code",
   "execution_count": null,
   "id": "2a92d756-efdf-4b86-9c31-636fdc623447",
   "metadata": {},
   "outputs": [],
   "source": [
    "aurora_secstruct_positions_0 = [3,5,10,11,13,14,15,16,21,22,25,26,27,28,29,33,36,39,41,42,43,44,45,46]\n",
    "aurora_control_positions_0 = [1,3,8,10,11,13,18,19,20,22,26,27,28,29,30,32,33,35,36,37,38,40,43,46]\n",
    "\n",
    "lib_design_control = [\n",
    "    'GGAMGGGAKGABTMTGTCCKKTDCCTKKWMRGYVTRYRKAGTGKTGY',\n",
    "    'GCAMGGGAKGGBTMTGTCCKKTDCCTKKWMRGYVTRYRKAGTGKTGY',\n",
    "    'GGAMGGGAKGABTMTGTCAKKTDCCTKKWMRGYVTRYRKATTGKTGY',\n",
    "    'GGAMGGGAKGABTMTGTCCKKTDCCTKYWMRGYVTRYRKAGTGSTGY',\n",
    "    'GCAMGGGAKGGBTMTGTCAKKTDCCTKKWMRGYVTRYRKATTGKTGY',\n",
    "    'GCAMGGGAKGGBTMTGTCCKKTDCCTKYWMRGYVTRYRKAGTGSTGY',\n",
    "    'GGAMGGGAKGABTMTGTCAKKTDCCTKYWMRGYVTRYRKATTGSTGY',\n",
    "    'GCAMGGGAKGGBTMTGTCAKKTDCCTKYWMRGYVTRYRKATTGSTGY'\n",
    "]\n",
    "\n",
    "lib_design_secstruct = [\n",
    "    'GGAGGRGATGRATRYRYCCGGKHCCRKWWYGGCDTGHGGRGYRYATY',\n",
    "    'GGAAGRGATGRATRYRYCCGGKHCCRKWWYGGCDTGHGGRGYRYTTY',\n",
    "    'GGAGGRGATGRCTRYRYCCGGKHCCRKWWYGGCDTGHGGRGYRYAGY',\n",
    "    'GGAGGRGATGRATRYRYCCGGKHCCYKWWRGGCDTGHGGRGYRYATY',\n",
    "    'GGAAGRGATGRCTRYRYCCGGKHCCRKWWYGGCDTGHGGRGYRYTGY',\n",
    "    'GGAAGRGATGRATRYRYCCGGKHCCYKWWRGGCDTGHGGRGYRYTTY',\n",
    "    'GGAGGRGATGRCTRYRYCCGGKHCCYKWWRGGCDTGHGGRGYRYAGY',\n",
    "    'GGAAGRGATGRCTRYRYCCGGKHCCYKWWRGGCDTGHGGRGYRYTGY'\n",
    "]\n",
    "\n",
    "aurora2 = 'GGAAGGGATGACTATGTCCGGTTCCTGTAAGGCATGTGGAGTGTTGT'"
   ]
  },
  {
   "cell_type": "markdown",
   "id": "093f0720-1a17-4c44-a30b-8a181107fbc9",
   "metadata": {},
   "source": [
    "---\n"
   ]
  },
  {
   "cell_type": "code",
   "execution_count": null,
   "id": "77303850-e600-4ec1-bf6d-9a6b61ee63a4",
   "metadata": {},
   "outputs": [],
   "source": [
    "def prepDataset(f, name, lib_design, secstruct_positions):\n",
    "    df = pd.read_csv(f, usecols=['varseq', 'cpm'])\n",
    "    df = df.rename(columns={'cpm':'cpm_'+name})\n",
    "    df['fullseq'] = [getFullSequence(s, secstruct_positions, lib_design[0]) for s in df['varseq']]\n",
    "    return df"
   ]
  },
  {
   "cell_type": "code",
   "execution_count": null,
   "id": "cb7cb579-8161-4562-807f-4dd8bb105f5b",
   "metadata": {},
   "outputs": [],
   "source": [
    "# Load both datasets (the strct and ctrl) and while doing so, reconstruct the full sequence\n",
    "df_strc = prepDataset('/home/jardic/Documents/projects/jk/aurora_secstruct_small/datasets/datasets_prepped/strc_km.csv', 'strc', lib_design_secstruct, aurora_secstruct_positions_0)\n",
    "df_ctrl = prepDataset('/home/jardic/Documents/projects/jk/aurora_secstruct_small/datasets/datasets_prepped/ctrl_km.csv', 'ctrl', lib_design_control, aurora_control_positions_0)"
   ]
  },
  {
   "cell_type": "code",
   "execution_count": null,
   "id": "94b8506e-08f3-4203-bc40-e39cb1ff926d",
   "metadata": {},
   "outputs": [],
   "source": [
    "# Merge both of the sese datasets on the full seuqnece column\n",
    "df_merged = df_strc[['cpm_strc', 'fullseq']].merge(df_ctrl[['cpm_ctrl', 'fullseq']], on='fullseq', how='outer')"
   ]
  },
  {
   "cell_type": "code",
   "execution_count": null,
   "id": "7d8f136b-f7b6-4769-b83e-2c484bdbf0bc",
   "metadata": {},
   "outputs": [],
   "source": [
    "# Load the list of sequences which are encoded by both libraries\n",
    "encoded_overlap_seqs = []\n",
    "with open('../ref1_minor_comment_lib_overlaps/library_overlap_seqs.txt', mode='r') as f:\n",
    "    for line in f:\n",
    "        line = line.strip()\n",
    "        encoded_overlap_seqs.append(line)"
   ]
  },
  {
   "cell_type": "code",
   "execution_count": null,
   "id": "58a12791-2656-4b43-8ebd-0b42c44afffd",
   "metadata": {},
   "outputs": [],
   "source": [
    "# Subset df_merged to contain only those sequences encoded by both libraries. \n",
    "# Even though they are encoded by both, they might appear in just one or the other.\n",
    "df_merged_sub = df_merged[df_merged['fullseq'].isin(encoded_overlap_seqs)]"
   ]
  },
  {
   "cell_type": "code",
   "execution_count": null,
   "id": "c05ec65a-bc5d-4838-b678-a3b183be90d1",
   "metadata": {},
   "outputs": [],
   "source": [
    "# Save this dataframe for re-use\n",
    "df_merged_sub.to_csv('encoded_overlap_subset_of_df_merged.csv')"
   ]
  },
  {
   "cell_type": "markdown",
   "id": "b17fc99d-d75e-49cc-ba63-d719e2bfecc6",
   "metadata": {},
   "source": [
    "---\n",
    "### Checkpoint"
   ]
  },
  {
   "cell_type": "code",
   "execution_count": 48,
   "id": "ff32fc3c-1dc4-424f-a608-e9c88ca613a4",
   "metadata": {},
   "outputs": [],
   "source": [
    "# Load the same dataframe (checkpoint)\n",
    "df = pd.read_csv('encoded_overlap_subset_of_df_merged.csv', index_col=0)"
   ]
  },
  {
   "cell_type": "code",
   "execution_count": 49,
   "id": "b830efb3-0e21-412e-8462-76cfa69b3c81",
   "metadata": {},
   "outputs": [
    {
     "name": "stdout",
     "output_type": "stream",
     "text": [
      "Min all: 0.0424913150938796\n",
      "Max all: 949.6049059219116\n"
     ]
    }
   ],
   "source": [
    "strc_min = df['cpm_strc'].min()\n",
    "strc_max = df['cpm_strc'].max()\n",
    "ctrl_min = df['cpm_ctrl'].min()\n",
    "ctrl_max = df['cpm_ctrl'].max()\n",
    "\n",
    "min_all = min([strc_min, ctrl_min])\n",
    "max_all = max([strc_max, ctrl_max])\n",
    "\n",
    "print(f'Min all: {min_all}')\n",
    "print(f'Max all: {max_all}')"
   ]
  },
  {
   "cell_type": "code",
   "execution_count": 50,
   "id": "aaee8d66-b798-4a46-9d72-c071847903a8",
   "metadata": {},
   "outputs": [],
   "source": [
    "df_both = df[~df['cpm_ctrl'].isna() & ~df['cpm_strc'].isna()]\n",
    "df_strc_only = df[df['cpm_ctrl'].isna()]\n",
    "df_ctrl_only = df[df['cpm_strc'].isna()]"
   ]
  },
  {
   "cell_type": "code",
   "execution_count": 51,
   "id": "34bb924d-9a5a-4c26-b16a-812d6e76fb72",
   "metadata": {},
   "outputs": [],
   "source": [
    "df_both = df_both.fillna(0.01)\n",
    "df_strc_only = df_strc_only.fillna(0.02)\n",
    "df_ctrl_only = df_ctrl_only.fillna(0.02)"
   ]
  },
  {
   "cell_type": "code",
   "execution_count": 53,
   "id": "8beabe01-6a0c-4528-bca4-48ee7975c900",
   "metadata": {},
   "outputs": [
    {
     "data": {
      "image/png": "[encoded data removed]",
      "text/plain": [
       "<Figure size 220x220 with 1 Axes>"
      ]
     },
     "metadata": {},
     "output_type": "display_data"
    }
   ],
   "source": [
    "axis_width, axis_height = 1.2, 1.2\n",
    "left_margin, bottom_margin = 0.5, 0.5\n",
    "fig_width = left_margin + axis_width + 0.5\n",
    "fig_height = bottom_margin + axis_height + 0.5\n",
    "fig = plt.figure(figsize=(fig_width, fig_height))\n",
    "ax = fig.add_axes([left_margin / fig_width, bottom_margin / fig_height, axis_width / fig_width, axis_height / fig_height])\n",
    "\n",
    "# Plot\n",
    "ax.scatter(df_both['cpm_strc'], df_both['cpm_ctrl'], color='#48494a', s=15, marker='o', alpha=1, edgecolor=None)\n",
    "#ax.scatter(df_strc_only['cpm_strc'], df_strc_only['cpm_ctrl'], color='tab:blue', s=15, marker='o', facecolor='none', edgecolors='tab:blue')\n",
    "#ax.scatter(df_ctrl_only['cpm_strc'], df_ctrl_only['cpm_ctrl'], color='tab:green', s=15, marker='o', facecolor='none', edgecolors='tab:green')\n",
    "ax.scatter(df_strc_only['cpm_strc'], df_strc_only['cpm_ctrl'], color='tab:blue', s=15, marker='o', edgecolors='none', alpha=0.3)\n",
    "ax.scatter(df_ctrl_only['cpm_strc'], df_ctrl_only['cpm_ctrl'], color='tab:green', s=15, marker='o', edgecolors='none', alpha=0.3)\n",
    "\n",
    "\n",
    "plt.yscale('log')\n",
    "plt.xscale('log')\n",
    "\n",
    "plt.xticks([0.1, 1, 10, 100, 1000])\n",
    "plt.yticks([0.1, 1, 10, 100, 1000])\n",
    "\n",
    "#ax.set_xlim(0.00001, 1500)\n",
    "#ax.set_ylim(0.00001, 1500)\n",
    "\n",
    "plt.xlabel('CPM structured')\n",
    "plt.ylabel('CPM random')\n",
    "\n",
    "sns.despine()\n",
    "plt.savefig('cpm_scatterplot_strc_vs_ctrl.svg')"
   ]
  },
  {
   "cell_type": "code",
   "execution_count": 39,
   "id": "33c7bdf8-f284-421a-9678-2d50f8307ab2",
   "metadata": {},
   "outputs": [
    {
     "name": "stdout",
     "output_type": "stream",
     "text": [
      "25\n",
      "6\n"
     ]
    }
   ],
   "source": [
    "print(len(df_strc_only))\n",
    "print(len(df_ctrl_only))"
   ]
  },
  {
   "cell_type": "code",
   "execution_count": null,
   "id": "8d62d4b5-4f28-4074-8836-0f75bdba5481",
   "metadata": {},
   "outputs": [],
   "source": []
  }
 ],
 "metadata": {
  "kernelspec": {
   "display_name": "Python 3 (ipykernel)",
   "language": "python",
   "name": "python3"
  },
  "language_info": {
   "codemirror_mode": {
    "name": "ipython",
    "version": 3
   },
   "file_extension": ".py",
   "mimetype": "text/x-python",
   "name": "python",
   "nbconvert_exporter": "python",
   "pygments_lexer": "ipython3",
   "version": "3.12.4"
  }
 },
 "nbformat": 4,
 "nbformat_minor": 5
}
