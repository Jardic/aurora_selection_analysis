{
 "cells": [
  {
   "cell_type": "code",
   "execution_count": 1,
   "id": "34d8198e-5490-4978-844b-cfc2224bc5d2",
   "metadata": {},
   "outputs": [],
   "source": [
    "import pandas as pd\n",
    "import numpy as np\n",
    "from itertools import product, combinations\n",
    "import math\n",
    "import pickle\n",
    "from tqdm import tqdm"
   ]
  },
  {
   "cell_type": "code",
   "execution_count": 2,
   "id": "1422d336-4972-4560-9fb6-a30cf71c5208",
   "metadata": {},
   "outputs": [],
   "source": [
    "def loadObj(f):\n",
    "    with open(f, 'rb') as file: \n",
    "        return pickle.load(file)"
   ]
  },
  {
   "cell_type": "code",
   "execution_count": 3,
   "id": "8a4982d7-1baf-4859-ab81-16b1a901bd7b",
   "metadata": {},
   "outputs": [],
   "source": [
    "def saveObj(obj, f):\n",
    "    with open(f, 'wb') as file: \n",
    "        pickle.dump(obj, file) "
   ]
  },
  {
   "cell_type": "code",
   "execution_count": 4,
   "id": "c310955e-a36f-4d51-9723-8bbbead60ef6",
   "metadata": {},
   "outputs": [],
   "source": [
    "def extractBaseGroups(S, P, d):\n",
    "    if d == 2:\n",
    "        return tuple(tuple(S[i] for i in px) for px in P)\n",
    "    else:\n",
    "        return tuple(S[i] for i in P)"
   ]
  },
  {
   "cell_type": "code",
   "execution_count": 5,
   "id": "6dfc34c8-dcfb-4bdb-bf20-5be86276f80f",
   "metadata": {},
   "outputs": [],
   "source": [
    "def getCounts(count_col, seq_col, position_groups):\n",
    "\n",
    "    'Get a frequency dictionary'\n",
    "\n",
    "    if isinstance(position_groups[0][0], int):\n",
    "        d = 1\n",
    "    else:\n",
    "        d = 2\n",
    "    \n",
    "    dct_counts = {}\n",
    "    \n",
    "    for pg in tqdm(position_groups):\n",
    "        \n",
    "        dct_counts[pg] = {}\n",
    "\n",
    "        for c, s in zip(count_col, seq_col):\n",
    "            bg = extractBaseGroups(s, pg, d)\n",
    "            if bg in dct_counts[pg].keys():\n",
    "                dct_counts[pg][bg] += c\n",
    "            else:\n",
    "                dct_counts[pg][bg] = c\n",
    "    return dct_counts"
   ]
  },
  {
   "cell_type": "code",
   "execution_count": 6,
   "id": "94c2fa8d-fbaa-44d7-a877-a54b47d1ee56",
   "metadata": {},
   "outputs": [],
   "source": [
    "def getMI_groups(dct_single, dct_paired):\n",
    "\n",
    "    count_sum = sum([dct_single[list(dct_single.keys())[0]][k] for k in list(dct_single.values())[0].keys()])\n",
    "    res = []\n",
    "    for pgc in dct_paired.keys():\n",
    "        pg1, pg2 = pgc\n",
    "        pgc_res = []\n",
    "        for bgc in dct_paired[pgc].keys():\n",
    "            bg1, bg2 = bgc\n",
    "    \n",
    "            paired_frequency = dct_paired[pgc][bgc] / count_sum\n",
    "            partial_frequency_1 = dct_single[pg1][bg1] / count_sum\n",
    "            partial_frequency_2 = dct_single[pg2][bg2] / count_sum\n",
    "    \n",
    "            pgc_res.append(paired_frequency * math.log((paired_frequency)/(partial_frequency_1 * partial_frequency_2))) # Compute MI\n",
    "    \n",
    "        res.append([pgc, sum(pgc_res)])\n",
    "        \n",
    "    df_res = pd.DataFrame(res, columns=['pgc', 'mi'])\n",
    "    df_res['pg1'] = ['-'.join([str(x) for x in pgc[0]]) for pgc in df_res['pgc']]\n",
    "    df_res['pg2'] = ['-'.join([str(x) for x in pgc[1]]) for pgc in df_res['pgc']]\n",
    "    del df_res['pgc']\n",
    "    \n",
    "    return df_res"
   ]
  },
  {
   "cell_type": "code",
   "execution_count": 13,
   "id": "32ce4f90-e2c5-4dbe-9916-ef94303a523f",
   "metadata": {},
   "outputs": [],
   "source": [
    "dataset = '../../datasets/datasets_prepped/strc_km.csv'\n",
    "\n",
    "position_groups = [(0, 21), (1,), (2, 23), (3, 22), (4, 20), (5, 19), (6, 18), (7, 17), (8,), (9,),  (10, 14), (11,), (12,), (13,), (15,), (16,)]\n",
    "\n",
    "position_groups_combined = list(combinations(position_groups, r=2))\n",
    "position_groups_combined_flattened = [(x+y) for x, y in position_groups_combined]"
   ]
  },
  {
   "cell_type": "code",
   "execution_count": 14,
   "id": "7d0a64f1-e726-4f1d-bbad-484ac161d672",
   "metadata": {},
   "outputs": [],
   "source": [
    "df = pd.read_csv(dataset, usecols=['varseq', 'count'])\n"
   ]
  },
  {
   "cell_type": "code",
   "execution_count": 23,
   "id": "62d93c1d-5a5f-4b81-ac29-fc01a35de69b",
   "metadata": {},
   "outputs": [],
   "source": [
    "df['count'] = df['count'].sample(frac=1).values"
   ]
  },
  {
   "cell_type": "markdown",
   "id": "7a6e047e-371b-4b16-b220-4983ac5872e4",
   "metadata": {},
   "source": [
    "---\n",
    "### All together"
   ]
  },
  {
   "cell_type": "code",
   "execution_count": 25,
   "id": "c7b1a402-7872-4288-a6bd-8154afd9df22",
   "metadata": {},
   "outputs": [
    {
     "name": "stderr",
     "output_type": "stream",
     "text": [
      "100%|███████████████████████████████████████████████████████████████████████████████████| 16/16 [01:24<00:00,  5.25s/it]\n",
      "100%|█████████████████████████████████████████████████████████████████████████████████| 120/120 [21:32<00:00, 10.77s/it]\n"
     ]
    }
   ],
   "source": [
    "dct_counts_single = getCounts(df['count'], df['varseq'], position_groups)\n",
    "dct_counts_paired = getCounts(df['count'], df['varseq'], position_groups_combined)"
   ]
  },
  {
   "cell_type": "code",
   "execution_count": 26,
   "id": "b40a15f4-446d-4b2f-834d-cb050e0147c8",
   "metadata": {},
   "outputs": [],
   "source": [
    "saveObj(dct_counts_single, 'dct_counts_single_all_km_shuf.pkl')\n",
    "saveObj(dct_counts_paired, 'dct_counts_paired_all_km_shuf.pkl')"
   ]
  },
  {
   "cell_type": "code",
   "execution_count": 27,
   "id": "ddc30e31-af5e-4e2d-bbae-a0898b647448",
   "metadata": {},
   "outputs": [],
   "source": [
    "df_res = getMI_groups(dct_counts_single, dct_counts_paired)"
   ]
  },
  {
   "cell_type": "code",
   "execution_count": 28,
   "id": "f1d29f8e-af1b-4b91-aae8-13f72647b156",
   "metadata": {},
   "outputs": [],
   "source": [
    "df_res.to_csv('mi_groups_all_km_shuf.csv')"
   ]
  },
  {
   "cell_type": "markdown",
   "id": "445c206b-c1f0-4755-8d92-209b2ead15a5",
   "metadata": {},
   "source": [
    "---\n",
    "### Per Local king"
   ]
  },
  {
   "cell_type": "code",
   "execution_count": null,
   "id": "ec2a4e89-42ce-4315-8cca-1560f843d9b6",
   "metadata": {},
   "outputs": [],
   "source": [
    "# Load neighborhood assignment\n",
    "df_nbh_assignments = pd.read_csv('../fitness_lanscape_eda/neighborhood_assignment/lk_dists_and_nbh_assignments.csv', index_col=0)\n",
    "\n",
    "# Concat the neighborhood assignments onto the dataset\n",
    "df_merged = pd.concat([df, df_nbh_assignments], axis=1)\n",
    "\n",
    "# Local king idxs (names)\n",
    "lks = [0, 11, 113, 550, 673]\n",
    "\n",
    "# Subset the dataset to only contain determinable sequences (sequences which are clearly closest to one particular local king) This is about 70% of the dataset\n",
    "df_merged = df_merged[df_merged['type'] == 'd']"
   ]
  },
  {
   "cell_type": "code",
   "execution_count": null,
   "id": "9468684f-a312-4997-9ca9-835d6116ae84",
   "metadata": {},
   "outputs": [],
   "source": [
    "for lk in lks:\n",
    "    # Subset the dataframe further to get only the sequences from a given neighborhood\n",
    "    df_sub = df_merged[df_merged['lk'] == lk]\n",
    "\n",
    "    # Compute single and paired counts\n",
    "    dct_counts_single = getCounts(df_sub['count'], df_sub['varseq'], position_groups)\n",
    "    dct_counts_paired = getCounts(df_sub['count'], df_sub['varseq'], position_groups_combined)\n",
    "\n",
    "    # Save these\n",
    "    saveObj(dct_counts_single, 'dct_counts_single_LK' + str(lk) + '.pkl')\n",
    "    saveObj(dct_counts_paired, 'dct_counts_paired_LK' + str(lk) + '.pkl')\n",
    "\n",
    "    # Compute mutual information for the froups\n",
    "    df_res = getMI_groups(dct_counts_single, dct_counts_paired)\n",
    "\n",
    "    # Save the dataframe containing the MI results\n",
    "    df_res.to_csv('mi_groups_LK' + str(lk) + '.csv')"
   ]
  }
 ],
 "metadata": {
  "kernelspec": {
   "display_name": "Python 3 (ipykernel)",
   "language": "python",
   "name": "python3"
  },
  "language_info": {
   "codemirror_mode": {
    "name": "ipython",
    "version": 3
   },
   "file_extension": ".py",
   "mimetype": "text/x-python",
   "name": "python",
   "nbconvert_exporter": "python",
   "pygments_lexer": "ipython3",
   "version": "3.12.4"
  }
 },
 "nbformat": 4,
 "nbformat_minor": 5
}
