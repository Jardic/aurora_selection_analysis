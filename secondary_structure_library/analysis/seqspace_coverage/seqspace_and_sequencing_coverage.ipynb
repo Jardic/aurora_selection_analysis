{
 "cells": [
  {
   "cell_type": "code",
   "execution_count": 1,
   "id": "1861af26-8b97-4fed-8885-47ce042f39c0",
   "metadata": {},
   "outputs": [],
   "source": [
    "import pandas as pd\n",
    "import numpy as np"
   ]
  },
  {
   "cell_type": "code",
   "execution_count": 2,
   "id": "2e6b5c52-7518-492f-8261-e5b3396c3d7b",
   "metadata": {},
   "outputs": [],
   "source": [
    "lib_designs_strc = [\n",
    "    'GGAGGRGATGRATRYRYCCGGKHCCRKWWYGGCDTGHGGRGYRYATY',\n",
    "    'GGAAGRGATGRATRYRYCCGGKHCCRKWWYGGCDTGHGGRGYRYTTY',\n",
    "    'GGAGGRGATGRCTRYRYCCGGKHCCRKWWYGGCDTGHGGRGYRYAGY',\n",
    "    'GGAGGRGATGRATRYRYCCGGKHCCYKWWRGGCDTGHGGRGYRYATY',\n",
    "    'GGAAGRGATGRCTRYRYCCGGKHCCRKWWYGGCDTGHGGRGYRYTGY',\n",
    "    'GGAAGRGATGRATRYRYCCGGKHCCYKWWRGGCDTGHGGRGYRYTTY',\n",
    "    'GGAGGRGATGRCTRYRYCCGGKHCCYKWWRGGCDTGHGGRGYRYAGY',\n",
    "    'GGAAGRGATGRCTRYRYCCGGKHCCYKWWRGGCDTGHGGRGYRYTGY'\n",
    "]"
   ]
  },
  {
   "cell_type": "code",
   "execution_count": 3,
   "id": "704ca356-196a-49b4-bbf3-6e49ff5dd75c",
   "metadata": {},
   "outputs": [],
   "source": [
    "degenerate_symbols = {\n",
    "    'A' : ['A'],\n",
    "    'C' : ['C'],\n",
    "    'G' : ['G'],\n",
    "    'T' : ['T'],\n",
    "#    'U' : ['U'],\n",
    "    'W' : ['A', 'T'],\n",
    "    'S' : ['C', 'G'],\n",
    "    'M' : ['A', 'C'],\n",
    "    'K' : ['G', 'T'],\n",
    "    'R' : ['A', 'G'],\n",
    "    'Y' : ['C', 'T'],\n",
    "    'B' : ['C', 'G', 'T'],\n",
    "    'D' : ['A', 'G', 'T'],\n",
    "    'H' : ['A', 'C', 'T'],\n",
    "    'V' : ['A', 'C', 'G'],\n",
    "    'N' : ['A', 'C', 'G', 'T'],\n",
    "    'Z' : [],\n",
    "}"
   ]
  },
  {
   "cell_type": "code",
   "execution_count": 4,
   "id": "0b02b2f3-5e33-4797-b375-7790e6d441d3",
   "metadata": {},
   "outputs": [],
   "source": [
    "sequence_space = sum([np.prod(np.array([len(degenerate_symbols[x]) for x in lib_designs_strc[o]])) for o in range(0, len(lib_designs_strc))])"
   ]
  },
  {
   "cell_type": "code",
   "execution_count": 5,
   "id": "5fd0a2dc-90e5-4e84-9fec-43622d054f59",
   "metadata": {},
   "outputs": [
    {
     "data": {
      "text/plain": [
       "28311552"
      ]
     },
     "execution_count": 5,
     "metadata": {},
     "output_type": "execute_result"
    }
   ],
   "source": [
    "sequence_space"
   ]
  },
  {
   "cell_type": "code",
   "execution_count": 6,
   "id": "fd066350-588f-44df-b2f7-f2f3743dc13d",
   "metadata": {},
   "outputs": [],
   "source": [
    "df_init = pd.read_csv('../../datasets/datasets_prepped/strc_init.csv', usecols=['varseq', 'count', 'cpm'])\n",
    "df_select = pd.read_csv('../../datasets/datasets_prepped/strc_km.csv', usecols=['varseq', 'count', 'cpm'])"
   ]
  },
  {
   "cell_type": "code",
   "execution_count": 9,
   "id": "62bf3075-e062-4924-9d1f-d1c6c5177814",
   "metadata": {},
   "outputs": [
    {
     "data": {
      "text/plain": [
       "20807759"
      ]
     },
     "execution_count": 9,
     "metadata": {},
     "output_type": "execute_result"
    }
   ],
   "source": [
    "sequence_space - len(df_select)"
   ]
  },
  {
   "cell_type": "markdown",
   "id": "a5a53567-d17b-4d89-bb2a-9064dad02ea9",
   "metadata": {},
   "source": [
    "---\n",
    "### Dataset coverage of encoded sequence space"
   ]
  },
  {
   "cell_type": "code",
   "execution_count": 6,
   "id": "e5fd24fa-61a0-4638-b48b-19b23a6467dc",
   "metadata": {},
   "outputs": [
    {
     "name": "stdout",
     "output_type": "stream",
     "text": [
      "Initial coverage (dataset): 34.00102191501194\n"
     ]
    }
   ],
   "source": [
    "print('Initial coverage (dataset):', (len(df_init) / sequence_space) * 100)"
   ]
  },
  {
   "cell_type": "markdown",
   "id": "8438a01e-1631-43b5-9cc1-fad98a3deccc",
   "metadata": {},
   "source": [
    "Because this percentage is quite small, it seems like we cant compute (the new) enrichments. The model would be very biased because it would only use sequences on the right shoulder of the distribution and so overestimate the expected frequency. "
   ]
  },
  {
   "cell_type": "code",
   "execution_count": 7,
   "id": "4c56426e-f664-424d-b143-29f56ad15612",
   "metadata": {},
   "outputs": [
    {
     "name": "stdout",
     "output_type": "stream",
     "text": [
      "Selected coverage (dataset): 26.504350591588903\n"
     ]
    }
   ],
   "source": [
    "print('Selected coverage (dataset):', (len(df_select) / sequence_space) * 100)"
   ]
  },
  {
   "cell_type": "code",
   "execution_count": 8,
   "id": "8851abc7-f114-44b3-97e7-a4fb9efa6155",
   "metadata": {},
   "outputs": [],
   "source": [
    "selected_seqpool = set(df_select['varseq'])\n",
    "initial_seqpool = set(df_init['varseq'])"
   ]
  },
  {
   "cell_type": "markdown",
   "id": "7e9714e6-e68c-4b97-84ac-2cb26664ca57",
   "metadata": {},
   "source": [
    "---\n",
    "Percent of sequences in the selected dataset which are missing in the initial dataset"
   ]
  },
  {
   "cell_type": "code",
   "execution_count": 10,
   "id": "a6089e91-cb68-4848-9467-ea2445dc818d",
   "metadata": {},
   "outputs": [
    {
     "name": "stdout",
     "output_type": "stream",
     "text": [
      "Percent of sequences in the selected dataset which are missing in the initial dataset 30.207109924274295\n"
     ]
    }
   ],
   "source": [
    "print('Percent of sequences in the selected dataset which are missing in the initial dataset', (len(selected_seqpool - initial_seqpool) / len(selected_seqpool))*100)"
   ]
  }
 ],
 "metadata": {
  "kernelspec": {
   "display_name": "Python 3 (ipykernel)",
   "language": "python",
   "name": "python3"
  },
  "language_info": {
   "codemirror_mode": {
    "name": "ipython",
    "version": 3
   },
   "file_extension": ".py",
   "mimetype": "text/x-python",
   "name": "python",
   "nbconvert_exporter": "python",
   "pygments_lexer": "ipython3",
   "version": "3.12.4"
  }
 },
 "nbformat": 4,
 "nbformat_minor": 5
}
