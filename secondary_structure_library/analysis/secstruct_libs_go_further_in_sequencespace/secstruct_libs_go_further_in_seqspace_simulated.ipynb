{
 "cells": [
  {
   "cell_type": "code",
   "execution_count": 1,
   "id": "e9cb2705-396e-4f2a-9e4f-389088823084",
   "metadata": {},
   "outputs": [],
   "source": [
    "import numpy as np\n",
    "import pandas as pd\n",
    "from scipy.stats import binom\n",
    "import matplotlib.pyplot as plt\n",
    "import seaborn as sns\n",
    "import random\n",
    "import math\n",
    "\n",
    "from scipy.interpolate import make_interp_spline\n",
    "from matplotlib.ticker import FormatStrFormatter"
   ]
  },
  {
   "cell_type": "code",
   "execution_count": 2,
   "id": "719bcaed-d86a-47ad-b564-9ea75b87b9f3",
   "metadata": {},
   "outputs": [],
   "source": [
    "degenerate_symbols = {\n",
    "    'A' : ['A'],\n",
    "    'C' : ['C'],\n",
    "    'G' : ['G'],\n",
    "    'T' : ['T'],\n",
    "#    'U' : ['U'],\n",
    "    'W' : ['A', 'T'],\n",
    "    'S' : ['C', 'G'],\n",
    "    'M' : ['A', 'C'],\n",
    "    'K' : ['G', 'T'],\n",
    "    'R' : ['A', 'G'],\n",
    "    'Y' : ['C', 'T'],\n",
    "    'B' : ['C', 'G', 'T'],\n",
    "    'D' : ['A', 'G', 'T'],\n",
    "    'H' : ['A', 'C', 'T'],\n",
    "    'V' : ['A', 'C', 'G'],\n",
    "    'N' : ['A', 'C', 'G', 'T'],\n",
    "    'Z' : [],\n",
    "}\n",
    "\n",
    "#aurora_secstruct_positions_0 = [3,5,10,11,13,14,15,16,21,22,25,26,27,28,29,33,36,39,41,42,43,44,45,46]\n",
    "aurora2 = 'GGAAGGGATGACTATGTCCGGTTCCTGTAAGGCATGTGGAGTGTTGT'\n",
    "#aurora2_nonconstant = ''.join([aurora2[x] for x in aurora_secstruct_positions_0])\n",
    "\n",
    "lib_design = [\n",
    "    'GGAGGRGATGRATRYRYCCGGKHCCRKWWYGGCDTGHGGRGYRYATY',\n",
    "    'GGAAGRGATGRATRYRYCCGGKHCCRKWWYGGCDTGHGGRGYRYTTY',\n",
    "    'GGAGGRGATGRCTRYRYCCGGKHCCRKWWYGGCDTGHGGRGYRYAGY',\n",
    "    'GGAGGRGATGRATRYRYCCGGKHCCYKWWRGGCDTGHGGRGYRYATY',\n",
    "    'GGAAGRGATGRCTRYRYCCGGKHCCRKWWYGGCDTGHGGRGYRYTGY',\n",
    "    'GGAAGRGATGRATRYRYCCGGKHCCYKWWRGGCDTGHGGRGYRYTTY',\n",
    "    'GGAGGRGATGRCTRYRYCCGGKHCCYKWWRGGCDTGHGGRGYRYAGY',\n",
    "    'GGAAGRGATGRCTRYRYCCGGKHCCYKWWRGGCDTGHGGRGYRYTGY'\n",
    "]"
   ]
  },
  {
   "cell_type": "code",
   "execution_count": 3,
   "id": "394a03dd-2128-41c1-a271-d07a10a10779",
   "metadata": {},
   "outputs": [],
   "source": [
    "plt.rcParams['figure.facecolor'] = 'white'\n",
    "plt.rcParams['font.size'] = 8\n",
    "plt.rcParams['font.family'] = 'Arial'\n",
    "\n",
    "pd.set_option('display.max_colwidth', 100)\n",
    "\n",
    "colors = {'blue':'#2f788e', 'red':'#d15b4f', 'green':'#45b563'}"
   ]
  },
  {
   "cell_type": "code",
   "execution_count": 4,
   "id": "54d22502-7aeb-458c-8698-994806a324ba",
   "metadata": {},
   "outputs": [],
   "source": [
    "def seqDist(s1, s2):\n",
    "    return sum([1 if b1 != b2 else 0 for b1, b2 in zip(s1, s2)])"
   ]
  },
  {
   "cell_type": "code",
   "execution_count": 5,
   "id": "1861be30-e4e2-4213-afb8-8fe7b5984eb0",
   "metadata": {},
   "outputs": [],
   "source": [
    "def seqGen_ss(libs, n_per_lib):\n",
    "    seqset = []\n",
    "    for l in libs:\n",
    "        seqset += [''.join([random.choice(degenerate_symbols[c]) for c in l]) for i in range(n_per_lib)]\n",
    "    return seqset"
   ]
  },
  {
   "cell_type": "code",
   "execution_count": 6,
   "id": "62711e89-8a67-439c-b13d-9e45045ffe39",
   "metadata": {},
   "outputs": [],
   "source": [
    "def seqGen_rn(parent, nseqs, mutrate):\n",
    "    seqs_generated = []\n",
    "    base_possibilities = {'A':['T', 'C', 'G'], 'T':['A', 'G', 'C'], 'G':['A', 'T', 'C'], 'C':['A', 'T', 'G']}\n",
    "    for i in range(0, nseqs):\n",
    "        seqs_generated.append(''.join([random.choice(base_possibilities[ch]) if random.randint(0, 100) < mutrate else ch for ch in parent]))\n",
    "    return seqs_generated"
   ]
  },
  {
   "cell_type": "code",
   "execution_count": 7,
   "id": "a9974af9-fef1-4ab5-a151-7861a8517439",
   "metadata": {},
   "outputs": [],
   "source": [
    "def numberOfBasepairsConserved(s):\n",
    "    basepairs = ['AT', 'TA', 'GC', 'CG', 'GT', 'TG']\n",
    "    basepair_positions = [(10, 46), (11, 45), (13, 43), (14, 42), (15, 41), (16, 39), (17, 38), (18, 37), (23, 31), (24, 30), (25, 29)]\n",
    "\n",
    "    return sum([1 if s[bp[0]] + s[bp[1]] in basepairs else 0 for bp in basepair_positions])"
   ]
  },
  {
   "cell_type": "code",
   "execution_count": 8,
   "id": "86bc3f36-5ed8-47f0-b926-56748893b777",
   "metadata": {},
   "outputs": [],
   "source": [
    "# Generate sequences.. Secondary structure library and Random mutagenesis library\n",
    "genseqs_ss = seqGen_ss(lib_design, 100000)\n",
    "genseqs_rn = seqGen_rn(aurora2, len(genseqs_ss), 21)\n",
    "\n",
    "# Secondary structure library\n",
    "df_secstruct_generated = pd.DataFrame({'seq':genseqs_ss})\n",
    "df_secstruct_generated['dist'] = [seqDist(s, aurora2) for s in df_secstruct_generated['seq']]\n",
    "df_secstruct_generated['conserved_bp'] = [numberOfBasepairsConserved(s) for s in df_secstruct_generated['seq']]\n",
    "vc_dists_ss = df_secstruct_generated.value_counts('dist', normalize=True).sort_index()\n",
    "vc_dists_ss.name = 'ss'\n",
    "vc_conserved_bp_ss = df_secstruct_generated.value_counts('conserved_bp', normalize=True).sort_index()\n",
    "vc_conserved_bp_ss.name = 'ss'\n",
    "\n",
    "# Random mutagenesis\n",
    "df_randommut_generated = pd.DataFrame({'seq':genseqs_rn})\n",
    "df_randommut_generated['dist'] = [seqDist(s, aurora2) for s in df_randommut_generated['seq']]\n",
    "df_randommut_generated['conserved_bp'] = [numberOfBasepairsConserved(s) for s in df_randommut_generated['seq']]\n",
    "vc_dists_rn = df_randommut_generated.value_counts('dist', normalize=True).sort_index()\n",
    "vc_dists_rn.name = 'rn'\n",
    "vc_conserved_bp_rn = df_randommut_generated.value_counts('conserved_bp', normalize=True).sort_index()\n",
    "vc_conserved_bp_rn.name = 'rn'"
   ]
  },
  {
   "cell_type": "code",
   "execution_count": 9,
   "id": "8533acd7-3ae6-4be9-9d06-0ad80e439f0d",
   "metadata": {},
   "outputs": [],
   "source": [
    "df_bp_conservation = pd.concat([vc_conserved_bp_rn, vc_conserved_bp_ss], axis=1).reset_index().sort_values('conserved_bp')\n",
    "df_dists = pd.concat([vc_dists_rn, vc_dists_ss], axis=1).reset_index().sort_values('dist')"
   ]
  },
  {
   "cell_type": "code",
   "execution_count": 10,
   "id": "c9a167ee-9898-48a3-99c5-72cd51d098f6",
   "metadata": {},
   "outputs": [
    {
     "data": {
      "image/png": "[encoded data removed]",
      "text/plain": [
       "<Figure size 230x150 with 1 Axes>"
      ]
     },
     "metadata": {},
     "output_type": "display_data"
    }
   ],
   "source": [
    "plt.figure(figsize=(2.3, 1.5))\n",
    "sns.barplot(data=df_dists, x='dist', y='rn', color=colors['blue'], label='Random')\n",
    "sns.barplot(data=df_dists, x='dist', y='ss', color=colors['green'], label='SecStruct')\n",
    "plt.xticks([x for x in range(0, 24, 4)])\n",
    "plt.xlabel('Distance from Aurora2')\n",
    "plt.ylabel('Frequency')\n",
    "sns.despine(top=True, right=True)\n",
    "plt.tight_layout()\n",
    "plt.savefig('secstruct_vs_rn_dist_distribution.svg')"
   ]
  },
  {
   "cell_type": "code",
   "execution_count": 11,
   "id": "16c1c3a3-3fd3-425f-abb3-e0c124509c74",
   "metadata": {},
   "outputs": [
    {
     "data": {
      "image/png": "[encoded data removed]",
      "text/plain": [
       "<Figure size 230x150 with 1 Axes>"
      ]
     },
     "metadata": {},
     "output_type": "display_data"
    }
   ],
   "source": [
    "plt.figure(figsize=(2.3, 1.5))\n",
    "sns.barplot(data=df_bp_conservation, x='conserved_bp', y='rn', color=colors['blue'], label='Random')\n",
    "sns.barplot(data=df_bp_conservation, x='conserved_bp', y='ss', color=colors['green'], label='SecStruct')\n",
    "plt.xticks([x for x in range(0, 10, 2)])\n",
    "plt.xlabel('Number of conserved basepairs')\n",
    "plt.ylabel('Frequency')\n",
    "sns.despine(top=True, right=True)\n",
    "plt.tight_layout()\n",
    "plt.savefig('secstruct_vs_rn_bp_conservation_distribution.svg')"
   ]
  },
  {
   "cell_type": "markdown",
   "id": "b9f4e774-a18a-4bb6-aa73-6cbe6c27c623",
   "metadata": {},
   "source": [
    "---\n"
   ]
  },
  {
   "cell_type": "code",
   "execution_count": 12,
   "id": "0356f057-ae2a-460d-b6bd-b4161d9dabcb",
   "metadata": {},
   "outputs": [],
   "source": [
    "def smoothOut(x, y):\n",
    "    sp = make_interp_spline(x, y)\n",
    "    X = np.linspace(min(x), max(x), 200)\n",
    "    Y = sp(X)\n",
    "    return X, Y"
   ]
  },
  {
   "cell_type": "code",
   "execution_count": 21,
   "id": "891fde7c-6de4-44d9-8a82-cdf65018fd59",
   "metadata": {},
   "outputs": [],
   "source": [
    "def distributionComparisonPlot(D, colors=None, labels=None, out_file=None, sample_label=None):\n",
    "    \n",
    "    xs = [d.index for d in D]\n",
    "    ys = [d.values for d in D]\n",
    "    \n",
    "    Xs = []\n",
    "    Ys = []\n",
    "    for i in range(0, len(D)):\n",
    "        \n",
    "        xs_spline, ys_spline = smoothOut(xs[i], ys[i])\n",
    "        ys_spline = [0 if y < 0 else y for y in ys_spline]\n",
    "        Xs.append(xs_spline)\n",
    "        Ys.append(ys_spline)\n",
    "    \n",
    "    w = 2\n",
    "    a = 0.3\n",
    "    \n",
    "    # Colors should be set here\n",
    "    \n",
    "    fig, ax = plt.subplots(figsize=(2.3, 1.5), layout='tight')\n",
    "    for i in range(0, len(D)):\n",
    "        ax.bar(xs[i], ys[i], alpha=a, color=colors[i], label=labels[i])\n",
    "        ax.plot(Xs[i], Ys[i], linewidth=w, c=colors[i])\n",
    "\n",
    "    ax.set_xticks([0, 5, 10, 15, 20])\n",
    "    #ax.set_xticks([0, 4, 8, 12])\n",
    "    \n",
    "    ax.set_yticks([0.1, 0.2, 0.3])\n",
    "\n",
    "    #ax.set_xlim(0, 25)\n",
    "    ax.set_ylim(0, 0.4)\n",
    "    \n",
    "    #ax.yaxis.set_major_formatter(FormatStrFormatter('%.0f'))\n",
    "    \n",
    "    ax.text(14, 40, sample_label, fontsize=13, weight=\"bold\")\n",
    "\n",
    "    #ax.set_title(df_samplesheet.loc[i, 'deoxyribozyme'] + ' ' + str(df_samplesheet.loc[i, 'mut']) + '% mutagenesis')    \n",
    "    \n",
    "    #ax.set_xlabel('Number of conserved bps.')\n",
    "    ax.set_xlabel('Distance from Aurora2')\n",
    "    \n",
    "    ax.set_ylabel('Frequency')\n",
    "    #ax.legend(frameon=False)\n",
    "\n",
    "    ax.spines['right'].set_visible(False)\n",
    "    ax.spines['top'].set_visible(False)\n",
    "    \n",
    "    if out_file == None:\n",
    "        plt.show()\n",
    "    else:\n",
    "        plt.savefig(out_file)"
   ]
  },
  {
   "cell_type": "code",
   "execution_count": 22,
   "id": "cf977a86-6244-4524-8d45-658934501fa8",
   "metadata": {},
   "outputs": [
    {
     "data": {
      "image/png": "[encoded data removed]",
      "text/plain": [
       "<Figure size 230x150 with 1 Axes>"
      ]
     },
     "metadata": {},
     "output_type": "display_data"
    }
   ],
   "source": [
    "distributionComparisonPlot([vc_dists_ss, vc_dists_rn], colors=[colors['green'], colors['blue']], labels=['S', 'R'], out_file='secstruct_vs_rn_dist_distribution_v2.svg', sample_label=None)"
   ]
  },
  {
   "cell_type": "code",
   "execution_count": 20,
   "id": "3381e209-0efd-48fd-bd3c-86a0af165bab",
   "metadata": {},
   "outputs": [
    {
     "data": {
      "image/png": "[encoded data removed]",
      "text/plain": [
       "<Figure size 230x150 with 1 Axes>"
      ]
     },
     "metadata": {},
     "output_type": "display_data"
    }
   ],
   "source": [
    "distributionComparisonPlot([vc_conserved_bp_ss, vc_conserved_bp_rn], colors=[colors['green'], colors['blue']], labels=['S', 'R'], out_file='secstruct_vs_rn_bp_conservation_distribution_v2.svg', sample_label=None)"
   ]
  }
 ],
 "metadata": {
  "kernelspec": {
   "display_name": "Python 3 (ipykernel)",
   "language": "python",
   "name": "python3"
  },
  "language_info": {
   "codemirror_mode": {
    "name": "ipython",
    "version": 3
   },
   "file_extension": ".py",
   "mimetype": "text/x-python",
   "name": "python",
   "nbconvert_exporter": "python",
   "pygments_lexer": "ipython3",
   "version": "3.12.4"
  }
 },
 "nbformat": 4,
 "nbformat_minor": 5
}
