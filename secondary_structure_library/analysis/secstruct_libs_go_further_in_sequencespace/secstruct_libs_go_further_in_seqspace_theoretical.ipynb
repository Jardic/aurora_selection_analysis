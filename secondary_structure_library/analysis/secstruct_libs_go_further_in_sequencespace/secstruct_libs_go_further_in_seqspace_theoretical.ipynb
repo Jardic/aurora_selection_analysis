{
 "cells": [
  {
   "cell_type": "code",
   "execution_count": 5,
   "id": "e9cb2705-396e-4f2a-9e4f-389088823084",
   "metadata": {},
   "outputs": [],
   "source": [
    "import pandas as pd\n",
    "from scipy.stats import binom\n",
    "import numpy as np\n",
    "import matplotlib.pyplot as plt\n",
    "import random\n",
    "import math"
   ]
  },
  {
   "cell_type": "code",
   "execution_count": 6,
   "id": "719bcaed-d86a-47ad-b564-9ea75b87b9f3",
   "metadata": {},
   "outputs": [],
   "source": [
    "degenerate_symbols = {\n",
    "    'A' : ['A'],\n",
    "    'C' : ['C'],\n",
    "    'G' : ['G'],\n",
    "    'T' : ['T'],\n",
    "#    'U' : ['U'],\n",
    "    'W' : ['A', 'T'],\n",
    "    'S' : ['C', 'G'],\n",
    "    'M' : ['A', 'C'],\n",
    "    'K' : ['G', 'T'],\n",
    "    'R' : ['A', 'G'],\n",
    "    'Y' : ['C', 'T'],\n",
    "    'B' : ['C', 'G', 'T'],\n",
    "    'D' : ['A', 'G', 'T'],\n",
    "    'H' : ['A', 'C', 'T'],\n",
    "    'V' : ['A', 'C', 'G'],\n",
    "    'N' : ['A', 'C', 'G', 'T'],\n",
    "    'Z' : [],\n",
    "}\n",
    "\n",
    "aurora_secstruct_positions_0 = [3,5,10,11,13,14,15,16,21,22,25,26,27,28,29,33,36,39,41,42,43,44,45,46]\n",
    "aurora2 = 'GGAAGGGATGACTATGTCCGGTTCCTGTAAGGCATGTGGAGTGTTGT'\n",
    "aurora2_nonconstant = ''.join([aurora2[x] for x in aurora_secstruct_positions_0])\n",
    "\n",
    "lib_design = [\n",
    "    'GRRARYRYKHRKWWYDHRYRYATY',\n",
    "    'ARRARYRYKHRKWWYDHRYRYTTY',\n",
    "    'GRRCRYRYKHRKWWYDHRYRYAGY',\n",
    "    'GRRARYRYKHYKWWRDHRYRYATY',\n",
    "    'ARRCRYRYKHRKWWYDHRYRYTGY',\n",
    "    'ARRARYRYKHYKWWRDHRYRYTTY',\n",
    "    'GRRCRYRYKHYKWWRDHRYRYAGY',\n",
    "    'ARRCRYRYKHYKWWRDHRYRYTGY'\n",
    "]"
   ]
  },
  {
   "cell_type": "code",
   "execution_count": 7,
   "id": "34ec89ff-320a-430c-b34e-8294e8035d46",
   "metadata": {},
   "outputs": [],
   "source": [
    "single_positions = [(1,), (8,), (9,), (11,), (12,), (13,), (15,), (16,)]\n",
    "\n",
    "paired_positions = [(2, 23), (4, 20), (5, 19), (6, 18), (7, 17)]\n",
    "\n",
    "explicitly_paired_positions = {\n",
    "    (0, 21) : [('G', 'A'), ('A', 'T')],\n",
    "    (3, 22) : [('A', 'T'), ('C', 'G')],\n",
    "    (10, 14) : [('A', 'C'), ('A', 'T'), ('G', 'C'), ('G', 'T'), ('C', 'A'), ('C', 'G'), ('T', 'A'), ('T', 'G')]\n",
    "}"
   ]
  },
  {
   "cell_type": "code",
   "execution_count": 8,
   "id": "525a60a2-2d3f-4220-8587-0658656589cd",
   "metadata": {},
   "outputs": [],
   "source": [
    "single_positions = {\n",
    "    1 : 0.5,\n",
    "    8 : 0.5,\n",
    "    9 : 0.33,\n",
    "    11 : 0.5,\n",
    "    12 : 0.5,\n",
    "    13 : 0.5,\n",
    "    15 : 0.33,\n",
    "    16 : 0.33 \n",
    "}\n",
    "\n",
    "paired_positions = {\n",
    "    (2, 23) : [],\n",
    "    (4, 20) : [],\n",
    "    (5, 19) : [],\n",
    "    (6, 18) : [],\n",
    "    (7, 17) : []\n",
    "}\n",
    "\n",
    "explicitly_paired_positions = {\n",
    "    (0, 21) : [],\n",
    "    (3, 22) : [],\n",
    "    (10, 14) : []\n",
    "}\n"
   ]
  },
  {
   "cell_type": "code",
   "execution_count": 10,
   "id": "bfb4ece5-aa6c-48a9-be09-245fd0f0458f",
   "metadata": {},
   "outputs": [
    {
     "data": {
      "text/plain": [
       "'RRRYRYKHRKWWYDHRYRYTY'"
      ]
     },
     "execution_count": 10,
     "metadata": {},
     "output_type": "execute_result"
    }
   ],
   "source": [
    "'RRRYRYKHRKWWYDHRYRYTY'"
   ]
  },
  {
   "cell_type": "code",
   "execution_count": 9,
   "id": "54d22502-7aeb-458c-8698-994806a324ba",
   "metadata": {},
   "outputs": [],
   "source": [
    "def seqDist(s1, s2):\n",
    "    return sum([1 if b1 != b2 else 0 for b1, b2 in zip(s1, s2)])"
   ]
  },
  {
   "cell_type": "code",
   "execution_count": 25,
   "id": "91890389-dae4-495b-9993-19f88a0f17e6",
   "metadata": {},
   "outputs": [],
   "source": [
    "def getBinomDistribution(trials, success_prob, r_values):\n",
    "    rv = binom(trials, success_prob)\n",
    "    dist = {x:rv.pmf(x) for x in r_values}\n",
    "    return pd.Series(dist)"
   ]
  },
  {
   "cell_type": "code",
   "execution_count": 26,
   "id": "d288cbc4-4200-449f-ad84-ae6527244cec",
   "metadata": {},
   "outputs": [],
   "source": [
    "def getTheoreticalDist(mutRate, positions):\n",
    "    \"\"\"\n",
    "    Returns a theoretical distribution (binomial distribution) of the number of sequences at various distances from a reference sequence\n",
    "    \n",
    "    mutRate:     The probability of a mutation occuring.\n",
    "    positions:   Number of positions (sequence length)\n",
    "    \"\"\"\n",
    "    \n",
    "    dist = []\n",
    "    for p in range(0, positions):\n",
    "        prob_term = (mutRate ** p) * ((1 - mutRate) ** (positions - p))\n",
    "        comb_term = (math.factorial(positions)) / (math.factorial(positions-p) * math.factorial(p))\n",
    "        dist.append(prob_term * comb_term)\n",
    "    return dist"
   ]
  },
  {
   "cell_type": "code",
   "execution_count": 27,
   "id": "b9c83b56-1303-44b9-b0db-4abec70115a1",
   "metadata": {},
   "outputs": [],
   "source": [
    "def getTheoreticalDist(mutRate, positions):\n",
    "    \"\"\"\n",
    "    Returns a theoretical distribution (binomial distribution) of the number of sequences at various distances from a reference sequence\n",
    "    \n",
    "    mutRate:     The probability of a mutation occuring.\n",
    "    positions:   Number of positions (sequence length)\n",
    "    \"\"\"\n",
    "    \n",
    "    dist = []\n",
    "    for p in range(0, positions):\n",
    "        \n",
    "        prob_term_single = (mutRate ** p) * ((1 - mutRate) ** (positions - p))\n",
    "        prob_term_paired = (mutRate ** p) * ((1 - mutRate) ** (positions - p))\n",
    "        prob_term_exp_paired = (mutRate ** p) * ((1 - mutRate) ** (positions - p))\n",
    "        \n",
    "        comb_term_single = (math.factorial(positions)) / (math.factorial(positions-p) * math.factorial(p))\n",
    "        comb_term_paired = (math.factorial(positions)) / (math.factorial(positions-p) * math.factorial(p))\n",
    "        comb_term_exp_paired = (math.factorial(positions)) / (math.factorial(positions-p) * math.factorial(p))\n",
    "        \n",
    "        dist.append(prob_term * comb_term)\n",
    "    \n",
    "    return dist"
   ]
  },
  {
   "cell_type": "code",
   "execution_count": 28,
   "id": "1791407f-1ebf-45a8-821d-4128e04d4713",
   "metadata": {},
   "outputs": [],
   "source": [
    "xs = generateSeqSet(lib_design, 100000)"
   ]
  },
  {
   "cell_type": "code",
   "execution_count": 29,
   "id": "3070bc5e-86dd-4d6d-9177-40c8df76069d",
   "metadata": {},
   "outputs": [],
   "source": [
    "ds = [seqDist(s, aurora2_nonconstant) for s in xs]"
   ]
  },
  {
   "cell_type": "code",
   "execution_count": 31,
   "id": "46aa4bb1-2688-44c1-b09c-4cf955153413",
   "metadata": {},
   "outputs": [],
   "source": [
    "df_secstruct_generated = pd.DataFrame({'seq':xs, 'dist':ds})"
   ]
  },
  {
   "cell_type": "code",
   "execution_count": 36,
   "id": "93c2fdf5-77d3-43ff-9e8e-d3067be9ad86",
   "metadata": {},
   "outputs": [],
   "source": [
    "vc_dists = df_secstruct_generated.value_counts('dist', normalize=True)"
   ]
  },
  {
   "cell_type": "code",
   "execution_count": 37,
   "id": "cf3168d6-5b9e-4071-b019-1fb27c0b956e",
   "metadata": {},
   "outputs": [
    {
     "data": {
      "text/plain": [
       "<BarContainer object of 24 artists>"
      ]
     },
     "execution_count": 37,
     "metadata": {},
     "output_type": "execute_result"
    },
    {
     "data": {
      "image/png": "[encoded data removed]",
      "text/plain": [
       "<Figure size 640x480 with 1 Axes>"
      ]
     },
     "metadata": {},
     "output_type": "display_data"
    }
   ],
   "source": [
    "plt.bar(vc_dists.index, vc_dists.values)"
   ]
  },
  {
   "cell_type": "code",
   "execution_count": null,
   "id": "a747cd48-e0fd-48cb-b8cb-5dbc29bc311d",
   "metadata": {},
   "outputs": [],
   "source": [
    "exp_distribution_rn = pd.Series(getTheoreticalDist(0.03, 85)).sort_index()\n",
    "exp_distribution_ss = pd.Series(getTheoreticalDist(0.03, 85)).sort_index()"
   ]
  },
  {
   "cell_type": "code",
   "execution_count": null,
   "id": "b104a3f6-8974-4d2c-875a-683c70899505",
   "metadata": {},
   "outputs": [],
   "source": [
    "exp_distribution"
   ]
  },
  {
   "cell_type": "code",
   "execution_count": null,
   "id": "86d5a9c7-dd43-44d0-9634-87be11244c3a",
   "metadata": {},
   "outputs": [],
   "source": [
    "plt.bar(exp_distribution.index, exp_distribution.values)"
   ]
  },
  {
   "cell_type": "code",
   "execution_count": null,
   "id": "b5f9701c-3114-498a-9c90-22a7c610e426",
   "metadata": {},
   "outputs": [],
   "source": [
    "aurora_secstruct_design_1 = [(1, 'G'),(2, 'G'),(3, 'A'),(4, 'N'),(5, 'G'),(6, 'R'),(7, 'G'),(8, 'A'),(9, 'T'),(10, 'G'),(43, 'R'),(44, 'N'),(45, 'T'),(46, 'R'),(47, 'Y'),(48, 'R'),(49, 'Y'),(50, 'C'),(51, 'C'),(52, 'G'),(53, 'G'),(54, 'K'),(55, 'H'),(56, 'C'),(57, 'C'),(58, 'N'),(59, 'K'),(60, 'W'),(61, 'W'),(62, 'N'),(63, 'G'),(64, 'G'),(65, 'C'),(66, 'D'),(67, 'T'),(68, 'G'),(69, 'H'),(70, 'G'),(71, 'G'),(72, 'R'),(73, 'G'),(74, 'Y'),(75, 'R'),(76, 'Y'),(77, 'N'),(78, 'N'),(79, 'Y')]\n",
    "aurora_paired_positions_1 = [(4, 45), (11, 47), (12, 46), (14, 44), (15, 43), (16, 42), (17, 40), (26, 30)]"
   ]
  }
 ],
 "metadata": {
  "kernelspec": {
   "display_name": "Python 3 (ipykernel)",
   "language": "python",
   "name": "python3"
  },
  "language_info": {
   "codemirror_mode": {
    "name": "ipython",
    "version": 3
   },
   "file_extension": ".py",
   "mimetype": "text/x-python",
   "name": "python",
   "nbconvert_exporter": "python",
   "pygments_lexer": "ipython3",
   "version": "3.12.4"
  }
 },
 "nbformat": 4,
 "nbformat_minor": 5
}
