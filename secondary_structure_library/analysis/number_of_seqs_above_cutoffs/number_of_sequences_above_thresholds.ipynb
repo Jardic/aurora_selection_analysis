{
 "cells": [
  {
   "cell_type": "code",
   "execution_count": 1,
   "id": "90159bfb-57b8-4453-9260-33d4dbc9a869",
   "metadata": {},
   "outputs": [],
   "source": [
    "import pandas as pd\n",
    "import numpy as np\n",
    "import matplotlib.pyplot as plt\n",
    "import seaborn as sns\n",
    "from tqdm import tqdm"
   ]
  },
  {
   "cell_type": "code",
   "execution_count": 2,
   "id": "cd3301ec-8ae1-4f9d-9b41-ed92195293da",
   "metadata": {},
   "outputs": [],
   "source": [
    "scheme = {'blue':'#2f788e', 'red':'#d15b4f', 'green':'#45b563', 'grey':'#8a8888'}\n",
    "\n",
    "plt.rcParams['figure.facecolor'] = 'white'\n",
    "plt.rcParams['font.size'] = 10\n",
    "plt.rcParams['font.family'] = 'Arial'"
   ]
  },
  {
   "cell_type": "code",
   "execution_count": 3,
   "id": "074a5212-fb0f-4d56-95f7-91fd794f4dce",
   "metadata": {},
   "outputs": [],
   "source": [
    "def set_size(w,h, ax=None):\n",
    "    \"\"\" w, h: width, height in inches \"\"\"\n",
    "    if not ax: ax=plt.gca()\n",
    "    l = ax.figure.subplotpars.left\n",
    "    r = ax.figure.subplotpars.right\n",
    "    t = ax.figure.subplotpars.top\n",
    "    b = ax.figure.subplotpars.bottom\n",
    "    figw = float(w)/(r-l)\n",
    "    figh = float(h)/(t-b)\n",
    "    ax.figure.set_size_inches(figw, figh)"
   ]
  },
  {
   "cell_type": "code",
   "execution_count": 4,
   "id": "40605b2f-33fa-4a0b-83d0-6e66551dfff2",
   "metadata": {},
   "outputs": [],
   "source": [
    "def seqDist(s1, s2):\n",
    "    return sum([1 if b1 != b2 else 0 for b1, b2 in zip(s1, s2)])"
   ]
  },
  {
   "cell_type": "code",
   "execution_count": 5,
   "id": "3cc0a60c-db67-4ca8-8a0e-0fa7065b985e",
   "metadata": {},
   "outputs": [],
   "source": [
    "def prepDataset(d):\n",
    "    df = pd.read_csv(d, sep='\\t', names=['count', 'seq'])\n",
    "    df['ppm'] = (df['count'] / df['count'].sum()) * 1000000\n",
    "    return df"
   ]
  },
  {
   "cell_type": "code",
   "execution_count": 6,
   "id": "6c24b21a-9abc-4be7-b117-deee3bc217ec",
   "metadata": {},
   "outputs": [],
   "source": [
    "# Prep the sequence of Aurora2\n",
    "aurora2 = 'GGAAGGGATGACTATGTCCGGTTCCTGTAAGGCATGTGGAGTGTTGT'\n",
    "aurora_secstruct_positions_0 = [3,5,10,11,13,14,15,16,21,22,25,26,27,28,29,33,36,39,41,42,43,44,45,46]\n",
    "aurora2 = ''.join([aurora2[x] for x in aurora_secstruct_positions_0])"
   ]
  },
  {
   "cell_type": "code",
   "execution_count": 19,
   "id": "8f6c1222-18b2-4cca-a0da-eba2c6fa790c",
   "metadata": {},
   "outputs": [],
   "source": [
    "df_strc = pd.read_csv('/home/jardic/Documents/projects/jk/datasets/datasets_prepped/strc_km.csv', usecols=['varseq', 'cpm'])\n",
    "df_ctrl = pd.read_csv('/home/jardic/Documents/projects/jk/datasets/datasets_prepped/ctrl_km.csv', usecols=['varseq', 'cpm'])"
   ]
  },
  {
   "cell_type": "code",
   "execution_count": 20,
   "id": "b1875f72-9bc1-42ba-83f6-4dbdf0020f76",
   "metadata": {},
   "outputs": [
    {
     "name": "stdout",
     "output_type": "stream",
     "text": [
      "0.0424913150938796 747.6771803919067\n",
      "0.2921861248990497 949.6049059219116\n"
     ]
    }
   ],
   "source": [
    "print(df_strc['cpm'].min(), df_strc['cpm'].max())\n",
    "print(df_ctrl['cpm'].min(), df_ctrl['cpm'].max())"
   ]
  },
  {
   "cell_type": "code",
   "execution_count": 24,
   "id": "7ec0bf22-25e7-4ea6-84c4-31268c4c2621",
   "metadata": {},
   "outputs": [],
   "source": [
    "thresholds = [0.01, 0.1, 1, 10, 100, 1000]"
   ]
  },
  {
   "cell_type": "code",
   "execution_count": 31,
   "id": "4e3a4603-16a9-439a-bce3-a436ccefaebd",
   "metadata": {},
   "outputs": [],
   "source": [
    "df_res = pd.DataFrame({\n",
    "    'cpm_t' : thresholds,\n",
    "    'strc' : [len(df_strc[df_strc['cpm'] >= t]) for t in thresholds],\n",
    "    'ctrl' : [len(df_ctrl[df_ctrl['cpm'] >= t]) for t in thresholds]\n",
    "})"
   ]
  },
  {
   "cell_type": "code",
   "execution_count": 32,
   "id": "db6808d1-4ee7-405d-8943-993cd8d41817",
   "metadata": {},
   "outputs": [],
   "source": [
    "df_res.to_csv('number_of_sequences_above_thresholds.csv')"
   ]
  }
 ],
 "metadata": {
  "kernelspec": {
   "display_name": "Python 3 (ipykernel)",
   "language": "python",
   "name": "python3"
  },
  "language_info": {
   "codemirror_mode": {
    "name": "ipython",
    "version": 3
   },
   "file_extension": ".py",
   "mimetype": "text/x-python",
   "name": "python",
   "nbconvert_exporter": "python",
   "pygments_lexer": "ipython3",
   "version": "3.12.4"
  }
 },
 "nbformat": 4,
 "nbformat_minor": 5
}
