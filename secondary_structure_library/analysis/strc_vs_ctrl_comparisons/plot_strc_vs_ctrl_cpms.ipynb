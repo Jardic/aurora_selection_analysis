{
 "cells": [
  {
   "cell_type": "code",
   "execution_count": 1,
   "id": "48c0118f-7fd4-4722-8abe-2939ce64d7a9",
   "metadata": {},
   "outputs": [],
   "source": [
    "import pandas as pd\n",
    "import matplotlib.pyplot as plt\n",
    "import seaborn as sns\n",
    "import numpy as np"
   ]
  },
  {
   "cell_type": "code",
   "execution_count": 2,
   "id": "695cc81f-96ec-47d9-b172-91941097fd7b",
   "metadata": {},
   "outputs": [],
   "source": [
    "scheme = {'blue':'#2f788e', 'red':'#d15b4f', 'green':'#45b563', 'grey':'#8a8888'}\n",
    "\n",
    "plt.rcParams['figure.facecolor'] = 'white'\n",
    "plt.rcParams['font.size'] = 12\n",
    "plt.rcParams['font.family'] = 'Arial'"
   ]
  },
  {
   "cell_type": "code",
   "execution_count": 3,
   "id": "ab1e52ee-a768-4d97-8966-3d08a7318ab2",
   "metadata": {},
   "outputs": [],
   "source": [
    "def set_size(w,h, ax=None):\n",
    "    \"\"\" w, h: width, height in inches \"\"\"\n",
    "    if not ax: ax=plt.gca()\n",
    "    l = ax.figure.subplotpars.left\n",
    "    r = ax.figure.subplotpars.right\n",
    "    t = ax.figure.subplotpars.top\n",
    "    b = ax.figure.subplotpars.bottom\n",
    "    figw = float(w)/(r-l)\n",
    "    figh = float(h)/(t-b)\n",
    "    ax.figure.set_size_inches(figw, figh)"
   ]
  },
  {
   "cell_type": "code",
   "execution_count": 4,
   "id": "f7bc5f62-fccd-4b21-ad15-0a92e059f895",
   "metadata": {},
   "outputs": [],
   "source": [
    "df_merged = pd.read_csv('common_seqs_strc_km_ctrl_km_ppms.csv', index_col=0)"
   ]
  },
  {
   "cell_type": "code",
   "execution_count": 5,
   "id": "89ce52c1-863e-40bf-a38e-3191d10e4d5f",
   "metadata": {},
   "outputs": [],
   "source": [
    "# Make the fit \n",
    "a, b = np.polyfit(df_merged['cpm_strc'], df_merged['cpm_ctrl'], 1)"
   ]
  },
  {
   "cell_type": "code",
   "execution_count": 6,
   "id": "4db7336b-8cdb-42f4-90a1-6944c8b71fd6",
   "metadata": {},
   "outputs": [],
   "source": [
    "strc_min = df_merged['cpm_strc'].min()\n",
    "strc_max = df_merged['cpm_strc'].max()\n",
    "ctrl_min = df_merged['cpm_ctrl'].min()\n",
    "ctrl_max = df_merged['cpm_strc'].max()\n",
    "\n",
    "min_all = min([strc_min, ctrl_min])\n",
    "max_all = min([strc_max, ctrl_max])"
   ]
  },
  {
   "cell_type": "code",
   "execution_count": 7,
   "id": "ba85eb6e-ec7f-4655-8033-a5295d9860ec",
   "metadata": {},
   "outputs": [
    {
     "data": {
      "image/png": "[encoded data removed]",
      "text/plain": [
       "<Figure size 245.161x207.792 with 1 Axes>"
      ]
     },
     "metadata": {},
     "output_type": "display_data"
    }
   ],
   "source": [
    "# Plot the result of the fit\n",
    "\n",
    "x1 = df_merged['cpm_strc'].max()\n",
    "x2 = df_merged['cpm_strc'].min()\n",
    "y1 = a*x1+b\n",
    "y2 = a*x2+b\n",
    "\n",
    "sns.scatterplot(data=df_merged, x='cpm_strc', y='cpm_ctrl', color='#48494a', s=20, edgecolor=None)  \n",
    "#plt.plot([x1, x2], [y1, y2], color=scheme['blue'])\n",
    "plt.yscale('log')\n",
    "plt.xscale('log')\n",
    "\n",
    "plt.xlim(min_all*0.7, max_all*2)\n",
    "plt.ylim(min_all*0.7, max_all*2)\n",
    "\n",
    "plt.xticks([0.1, 1, 10, 100, 1000])\n",
    "plt.yticks([0.1, 1, 10, 100, 1000])\n",
    "\n",
    "set_size(1.9, 1.6)\n",
    "sns.despine()\n",
    "plt.xlabel('CPM Structured')\n",
    "plt.ylabel('CPM Random')\n",
    "\n",
    "#plt.grid(alpha=0.1)\n",
    "\n",
    "plt.tight_layout()\n",
    "#plt.savefig('cpm_strc_vs_cpm_ctrl_fit.pdf')\n",
    "#plt.savefig('cpm_strc_vs_cpm_ctrl_fit.svg')"
   ]
  },
  {
   "cell_type": "code",
   "execution_count": 9,
   "id": "586331c4-f3b0-4545-ae10-9e7eea4e7bf3",
   "metadata": {},
   "outputs": [
    {
     "data": {
      "image/png": "[encoded data removed]",
      "text/plain": [
       "<Figure size 220x220 with 1 Axes>"
      ]
     },
     "metadata": {},
     "output_type": "display_data"
    }
   ],
   "source": [
    "\n",
    "# Define absolute axis size in inches\n",
    "axis_width = 1.2  # Width in inches\n",
    "axis_height = 1.2  # Height in inches\n",
    "\n",
    "# Define margins\n",
    "left_margin = 0.5\n",
    "bottom_margin = 0.5\n",
    "\n",
    "# Compute figure size to ensure fixed axis size\n",
    "fig_width = left_margin + axis_width + 0.5\n",
    "fig_height = bottom_margin + axis_height + 0.5\n",
    "\n",
    "fig = plt.figure(figsize=(fig_width, fig_height))\n",
    "\n",
    "# Manually place the axes (left, bottom, width, height) in figure coordinates (0-1 range)\n",
    "ax = fig.add_axes([\n",
    "    left_margin / fig_width,\n",
    "    bottom_margin / fig_height,\n",
    "    axis_width / fig_width,\n",
    "    axis_height / fig_height\n",
    "])\n",
    "\n",
    "# Plot\n",
    "ax.scatter(df_merged['cpm_strc'], df_merged['cpm_ctrl'], color='#48494a', s=15, edgecolor=None)  \n",
    "\n",
    "plt.yscale('log')\n",
    "plt.xscale('log')\n",
    "\n",
    "plt.xticks([0.1, 1, 10, 100, 1000])\n",
    "plt.yticks([0.1, 1, 10, 100, 1000])\n",
    "\n",
    "#ax.set_xlim(0, 10)\n",
    "#ax.set_ylim(-1, 1)\n",
    "\n",
    "plt.xlabel('CPM structured')\n",
    "plt.ylabel('CPM random')\n",
    "\n",
    "sns.despine()\n",
    "plt.savefig('cpm_strc_vs_cpm_ctrl_fit.svg')"
   ]
  },
  {
   "cell_type": "code",
   "execution_count": null,
   "id": "5eaa0b17-5c6a-49d7-a173-100182bc1e00",
   "metadata": {},
   "outputs": [],
   "source": []
  }
 ],
 "metadata": {
  "kernelspec": {
   "display_name": "Python 3 (ipykernel)",
   "language": "python",
   "name": "python3"
  },
  "language_info": {
   "codemirror_mode": {
    "name": "ipython",
    "version": 3
   },
   "file_extension": ".py",
   "mimetype": "text/x-python",
   "name": "python",
   "nbconvert_exporter": "python",
   "pygments_lexer": "ipython3",
   "version": "3.12.4"
  }
 },
 "nbformat": 4,
 "nbformat_minor": 5
}
