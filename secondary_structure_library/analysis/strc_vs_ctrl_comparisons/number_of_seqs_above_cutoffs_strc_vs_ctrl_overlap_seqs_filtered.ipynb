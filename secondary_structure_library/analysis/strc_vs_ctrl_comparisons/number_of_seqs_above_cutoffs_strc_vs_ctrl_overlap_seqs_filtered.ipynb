{
 "cells": [
  {
   "cell_type": "markdown",
   "id": "56317ac8-22a6-4aec-a4e5-4210373d9887",
   "metadata": {},
   "source": [
    "Here I make a version of main figure 2G, where the sequences which are common to both structured and control libraries are filtered out. The objective is to see if we can support this stentence in the manuscript: \n",
    "\n",
    "*“This difference was even more pronounced when the 128 sequences common to both libraries were removed from the analysis (Supplementary Figure x). For example, x of the nonoverlapping sequences in the secondary structure library had a CPM value of 10 or more, while only y did in the randomly mutagenized control library. This indicates that virtually all of the active variants in the control library are sequences that are by chance consistent with the sequence requirements of Aurora rather than new variants of Aurora or distinct catalytic motifs.”*"
   ]
  },
  {
   "cell_type": "code",
   "execution_count": 1,
   "id": "32d2ae69-0138-4867-8a85-a7782211e2ff",
   "metadata": {},
   "outputs": [],
   "source": [
    "import pandas as pd\n",
    "import seaborn as sns\n",
    "import matplotlib.pyplot as plt\n",
    "import numpy as np"
   ]
  },
  {
   "cell_type": "code",
   "execution_count": 2,
   "id": "2d4a8f3e-25a7-4fd9-a6b9-61e6343352e8",
   "metadata": {},
   "outputs": [],
   "source": [
    "scheme = {'blue':'#2f788e', 'red':'#d15b4f', 'green':'#45b563', 'grey':'#8a8888'}\n",
    "\n",
    "plt.rcParams['figure.facecolor'] = 'white'\n",
    "plt.rcParams['font.size'] = 12\n",
    "plt.rcParams['font.family'] = 'Arial'"
   ]
  },
  {
   "cell_type": "code",
   "execution_count": 3,
   "id": "ef53e190-aab9-42be-b8ac-0083c2c7fc43",
   "metadata": {},
   "outputs": [],
   "source": [
    "def set_size(w,h, ax=None):\n",
    "    \"\"\" w, h: width, height in inches \"\"\"\n",
    "    if not ax: ax=plt.gca()\n",
    "    l = ax.figure.subplotpars.left\n",
    "    r = ax.figure.subplotpars.right\n",
    "    t = ax.figure.subplotpars.top\n",
    "    b = ax.figure.subplotpars.bottom\n",
    "    figw = float(w)/(r-l)\n",
    "    figh = float(h)/(t-b)\n",
    "    ax.figure.set_size_inches(figw, figh)"
   ]
  },
  {
   "cell_type": "code",
   "execution_count": 4,
   "id": "f44d99a1-c970-49fd-b615-936d3150eeba",
   "metadata": {},
   "outputs": [],
   "source": [
    "df_strc = pd.read_csv('../../datasets/datasets_prepped/strc_km.csv', index_col=0)\n",
    "df_ctrl = pd.read_csv('../../datasets/datasets_prepped/ctrl_km.csv', index_col=0)"
   ]
  },
  {
   "cell_type": "code",
   "execution_count": 8,
   "id": "0e5719a4-c823-4615-91b3-2a60fe119ab9",
   "metadata": {},
   "outputs": [],
   "source": [
    "overlap_sequences = []\n",
    "with open('../../responses_to_reviewers/ref1_comment_4/library_overlap_seqs.txt', mode='r')as f:\n",
    "    for l in f:\n",
    "        overlap_sequences.append(l.strip())"
   ]
  },
  {
   "cell_type": "code",
   "execution_count": 17,
   "id": "61b91ad5-6bb2-4175-92a3-ba21a6064ec4",
   "metadata": {},
   "outputs": [],
   "source": [
    "df_strc = df_strc[~df_strc['seq'].isin(overlap_sequences)]\n",
    "df_ctrl = df_ctrl[~df_ctrl['seq'].isin(overlap_sequences)]"
   ]
  },
  {
   "cell_type": "code",
   "execution_count": 18,
   "id": "dc162a03-3abd-415a-a2e5-ba9153973c81",
   "metadata": {},
   "outputs": [],
   "source": [
    "thresholds = [10**x for x in [-1, 0, 1, 2]]"
   ]
  },
  {
   "cell_type": "code",
   "execution_count": 19,
   "id": "a3881537-c845-4759-ac97-516846c80b58",
   "metadata": {},
   "outputs": [],
   "source": [
    "df_res = []"
   ]
  },
  {
   "cell_type": "code",
   "execution_count": 20,
   "id": "bd166832-3859-48d1-a26f-cc6d69573eef",
   "metadata": {},
   "outputs": [],
   "source": [
    "for t in thresholds:\n",
    "    strc_count = len(df_strc[df_strc['cpm'] >= t])\n",
    "    ctrl_count = len(df_ctrl[df_ctrl['cpm'] >= t])\n",
    "    df_res.append([strc_count, ctrl_count])"
   ]
  },
  {
   "cell_type": "code",
   "execution_count": 21,
   "id": "91e05bd1-8cc8-4552-a442-175060076417",
   "metadata": {},
   "outputs": [],
   "source": [
    "df_res = pd.DataFrame(df_res, columns=['structured', 'random'], index=thresholds)"
   ]
  },
  {
   "cell_type": "code",
   "execution_count": 22,
   "id": "b99a7292-b08a-4682-bd41-a9cb18c47b3b",
   "metadata": {},
   "outputs": [
    {
     "data": {
      "text/html": [
       "<div>\n",
       "<style scoped>\n",
       "    .dataframe tbody tr th:only-of-type {\n",
       "        vertical-align: middle;\n",
       "    }\n",
       "\n",
       "    .dataframe tbody tr th {\n",
       "        vertical-align: top;\n",
       "    }\n",
       "\n",
       "    .dataframe thead th {\n",
       "        text-align: right;\n",
       "    }\n",
       "</style>\n",
       "<table border=\"1\" class=\"dataframe\">\n",
       "  <thead>\n",
       "    <tr style=\"text-align: right;\">\n",
       "      <th></th>\n",
       "      <th>structured</th>\n",
       "      <th>random</th>\n",
       "    </tr>\n",
       "  </thead>\n",
       "  <tbody>\n",
       "    <tr>\n",
       "      <th>0.1</th>\n",
       "      <td>1910565</td>\n",
       "      <td>2039489</td>\n",
       "    </tr>\n",
       "    <tr>\n",
       "      <th>1.0</th>\n",
       "      <td>50478</td>\n",
       "      <td>141897</td>\n",
       "    </tr>\n",
       "    <tr>\n",
       "      <th>10.0</th>\n",
       "      <td>6538</td>\n",
       "      <td>80</td>\n",
       "    </tr>\n",
       "    <tr>\n",
       "      <th>100.0</th>\n",
       "      <td>229</td>\n",
       "      <td>0</td>\n",
       "    </tr>\n",
       "  </tbody>\n",
       "</table>\n",
       "</div>"
      ],
      "text/plain": [
       "       structured   random\n",
       "0.1       1910565  2039489\n",
       "1.0         50478   141897\n",
       "10.0         6538       80\n",
       "100.0         229        0"
      ]
     },
     "execution_count": 22,
     "metadata": {},
     "output_type": "execute_result"
    }
   ],
   "source": [
    "df_res"
   ]
  },
  {
   "cell_type": "code",
   "execution_count": 23,
   "id": "f3a46a7b-aad4-4a55-8918-4caa6861f96f",
   "metadata": {},
   "outputs": [],
   "source": [
    "df_res.to_csv('number_of_seqs_above_cutoff_strc_vs_ctrl_filtered.csv')"
   ]
  },
  {
   "cell_type": "code",
   "execution_count": 24,
   "id": "cc76254e-0673-4c78-8fb1-81a2426fa19d",
   "metadata": {},
   "outputs": [],
   "source": [
    "xticklabels = ['0.1', '1', '10', '100']\n",
    "x = np.array([x for x in range(0, len(df_res))])"
   ]
  },
  {
   "cell_type": "code",
   "execution_count": 26,
   "id": "e5185e7e-583b-45b4-bca5-8063a57e6182",
   "metadata": {},
   "outputs": [
    {
     "data": {
      "image/png": "[encoded data removed]",
      "text/plain": [
       "<Figure size 245.161x207.792 with 1 Axes>"
      ]
     },
     "metadata": {},
     "output_type": "display_data"
    }
   ],
   "source": [
    "width=0.3\n",
    "\n",
    "fig, ax = plt.subplots()\n",
    "g1 = ax.bar(x - width/2, df_res['structured'], width, label='Structured', color='tab:blue')\n",
    "g2 = ax.bar(x + width/2, df_res['random'], width, label='Random', color='tab:green')\n",
    "plt.xticks(x, xticklabels)\n",
    "plt.yscale('log')\n",
    "set_size(1.9, 1.6)\n",
    "plt.xlabel('CPM threshold')\n",
    "plt.ylabel('Number of sequences')\n",
    "plt.legend()\n",
    "plt.tight_layout()\n",
    "sns.despine()\n",
    "plt.savefig('number_of_sequences_above_cutoff_strc_vs_ctrl_filtered.svg')"
   ]
  }
 ],
 "metadata": {
  "kernelspec": {
   "display_name": "Python 3 (ipykernel)",
   "language": "python",
   "name": "python3"
  },
  "language_info": {
   "codemirror_mode": {
    "name": "ipython",
    "version": 3
   },
   "file_extension": ".py",
   "mimetype": "text/x-python",
   "name": "python",
   "nbconvert_exporter": "python",
   "pygments_lexer": "ipython3",
   "version": "3.12.4"
  }
 },
 "nbformat": 4,
 "nbformat_minor": 5
}
