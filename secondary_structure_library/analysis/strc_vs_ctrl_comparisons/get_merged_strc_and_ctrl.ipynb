{
 "cells": [
  {
   "cell_type": "code",
   "execution_count": 1,
   "id": "37e10495-8353-43d6-bd7b-690157255a64",
   "metadata": {},
   "outputs": [],
   "source": [
    "import pandas as pd\n",
    "import numpy as np\n",
    "import seaborn as sns\n",
    "import matplotlib.pyplot as plt\n",
    "import math"
   ]
  },
  {
   "cell_type": "code",
   "execution_count": 3,
   "id": "598ac094-f7c4-4856-a7f3-eb220e81507f",
   "metadata": {},
   "outputs": [],
   "source": [
    "def getFullSequence(S_var, varpos, lib_design_sequence):\n",
    "    fullseq = ''\n",
    "    S_var = list(S_var)[::-1]\n",
    "    for i in range(0, len(lib_design_sequence)):\n",
    "        if i in varpos:\n",
    "            fullseq += S_var.pop()\n",
    "        else:\n",
    "            fullseq += lib_design_sequence[i]\n",
    "    return fullseq"
   ]
  },
  {
   "cell_type": "code",
   "execution_count": 5,
   "id": "16d5c926-be63-452f-9df6-1b04d6b80f28",
   "metadata": {},
   "outputs": [],
   "source": [
    "aurora_secstruct_positions_0 = [3,5,10,11,13,14,15,16,21,22,25,26,27,28,29,33,36,39,41,42,43,44,45,46]\n",
    "aurora_control_positions_0 = [1,3,8,10,11,13,18,19,20,22,26,27,28,29,30,32,33,35,36,37,38,40,43,46]\n",
    "\n",
    "lib_design_control = [\n",
    "    'GGAMGGGAKGABTMTGTCCKKTDCCTKKWMRGYVTRYRKAGTGKTGY',\n",
    "    'GCAMGGGAKGGBTMTGTCCKKTDCCTKKWMRGYVTRYRKAGTGKTGY',\n",
    "    'GGAMGGGAKGABTMTGTCAKKTDCCTKKWMRGYVTRYRKATTGKTGY',\n",
    "    'GGAMGGGAKGABTMTGTCCKKTDCCTKYWMRGYVTRYRKAGTGSTGY',\n",
    "    'GCAMGGGAKGGBTMTGTCAKKTDCCTKKWMRGYVTRYRKATTGKTGY',\n",
    "    'GCAMGGGAKGGBTMTGTCCKKTDCCTKYWMRGYVTRYRKAGTGSTGY',\n",
    "    'GGAMGGGAKGABTMTGTCAKKTDCCTKYWMRGYVTRYRKATTGSTGY',\n",
    "    'GCAMGGGAKGGBTMTGTCAKKTDCCTKYWMRGYVTRYRKATTGSTGY'\n",
    "]\n",
    "\n",
    "lib_design_secstruct = [\n",
    "    'GGAGGRGATGRATRYRYCCGGKHCCRKWWYGGCDTGHGGRGYRYATY',\n",
    "    'GGAAGRGATGRATRYRYCCGGKHCCRKWWYGGCDTGHGGRGYRYTTY',\n",
    "    'GGAGGRGATGRCTRYRYCCGGKHCCRKWWYGGCDTGHGGRGYRYAGY',\n",
    "    'GGAGGRGATGRATRYRYCCGGKHCCYKWWRGGCDTGHGGRGYRYATY',\n",
    "    'GGAAGRGATGRCTRYRYCCGGKHCCRKWWYGGCDTGHGGRGYRYTGY',\n",
    "    'GGAAGRGATGRATRYRYCCGGKHCCYKWWRGGCDTGHGGRGYRYTTY',\n",
    "    'GGAGGRGATGRCTRYRYCCGGKHCCYKWWRGGCDTGHGGRGYRYAGY',\n",
    "    'GGAAGRGATGRCTRYRYCCGGKHCCYKWWRGGCDTGHGGRGYRYTGY'\n",
    "]\n",
    "\n",
    "aurora2 = 'GGAAGGGATGACTATGTCCGGTTCCTGTAAGGCATGTGGAGTGTTGT'"
   ]
  },
  {
   "cell_type": "markdown",
   "id": "8d74ea8a-8d6e-44ab-92f3-33b123665149",
   "metadata": {},
   "source": [
    "---\n"
   ]
  },
  {
   "cell_type": "code",
   "execution_count": 6,
   "id": "0044b245-f7f1-4ff7-940e-1262f6c0e55c",
   "metadata": {},
   "outputs": [],
   "source": [
    "def prepDataset(f, name, lib_design, secstruct_positions):\n",
    "    df = pd.read_csv(f, usecols=['varseq', 'cpm'])\n",
    "    df = df.rename(columns={'cpm':'cpm_'+name})\n",
    "    df['fullseq'] = [getFullSequence(s, secstruct_positions, lib_design[0]) for s in df['varseq']]\n",
    "    return df"
   ]
  },
  {
   "cell_type": "code",
   "execution_count": 7,
   "id": "6df8f1ec-23ff-4a19-ac24-4e62a99f1f2f",
   "metadata": {},
   "outputs": [],
   "source": [
    "df_strc = prepDataset('/home/jardic/Documents/projects/jk/datasets/datasets_prepped/strc_km.csv', 'strc', lib_design_secstruct, aurora_secstruct_positions_0)\n",
    "df_ctrl = prepDataset('/home/jardic/Documents/projects/jk/datasets/datasets_prepped/ctrl_km.csv', 'ctrl', lib_design_control, aurora_control_positions_0)"
   ]
  },
  {
   "cell_type": "code",
   "execution_count": 8,
   "id": "29381917-dfbe-4313-971a-999ee5c2be7e",
   "metadata": {},
   "outputs": [],
   "source": [
    "df_merged = df_strc[['cpm_strc', 'fullseq']].merge(df_ctrl[['cpm_ctrl', 'fullseq']], on='fullseq', how='inner')"
   ]
  },
  {
   "cell_type": "code",
   "execution_count": 9,
   "id": "c07db0e6-5b13-45ba-ad97-f316376b79ee",
   "metadata": {},
   "outputs": [],
   "source": [
    "df_merged.to_csv('common_seqs_strc_km_ctrl_km_ppms.csv')"
   ]
  }
 ],
 "metadata": {
  "kernelspec": {
   "display_name": "Python 3 (ipykernel)",
   "language": "python",
   "name": "python3"
  },
  "language_info": {
   "codemirror_mode": {
    "name": "ipython",
    "version": 3
   },
   "file_extension": ".py",
   "mimetype": "text/x-python",
   "name": "python",
   "nbconvert_exporter": "python",
   "pygments_lexer": "ipython3",
   "version": "3.12.4"
  }
 },
 "nbformat": 4,
 "nbformat_minor": 5
}
