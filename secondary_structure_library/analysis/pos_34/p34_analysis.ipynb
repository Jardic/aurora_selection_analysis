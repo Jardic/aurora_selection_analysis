{
 "cells": [
  {
   "cell_type": "code",
   "execution_count": 1,
   "id": "03c1ee31-400e-421b-8bac-fa756971448b",
   "metadata": {},
   "outputs": [],
   "source": [
    "import pandas as pd\n",
    "import numpy as np\n",
    "import matplotlib.pyplot as plt\n",
    "import seaborn as sns"
   ]
  },
  {
   "cell_type": "code",
   "execution_count": 2,
   "id": "a7374c55-6fbc-4c80-8791-3515f1ef3eeb",
   "metadata": {},
   "outputs": [],
   "source": [
    "plt.rcParams['figure.facecolor'] = 'white'\n",
    "plt.rcParams['font.size'] = 12\n",
    "plt.rcParams['font.family'] = 'Arial'"
   ]
  },
  {
   "cell_type": "code",
   "execution_count": 3,
   "id": "278656ff-c539-4cea-b439-884da6c2dcc0",
   "metadata": {},
   "outputs": [],
   "source": [
    "df_km = pd.read_csv('../../datasets/datasets_prepped/strc_km.csv', usecols=['varseq', 'cpm', 'count'])\n",
    "df_kcat = pd.read_csv('../../datasets/datasets_prepped/strc_kcat.csv', usecols=['varseq', 'cpm', 'count'])\n",
    "\n",
    "df_km = df_km[df_km['count'] > 500]\n",
    "df_kcat = df_kcat[df_kcat['count'] > 500]"
   ]
  },
  {
   "cell_type": "code",
   "execution_count": 4,
   "id": "e86aa909-07a1-4e37-ae23-7df8d902fa09",
   "metadata": {},
   "outputs": [],
   "source": [
    "df_km = df_km.rename(columns={'count':'count_km', 'cpm':'cpm_km'})\n",
    "df_kcat = df_kcat.rename(columns={'count':'count_kcat', 'cpm':'cpm_kcat'})"
   ]
  },
  {
   "cell_type": "code",
   "execution_count": 5,
   "id": "19ec7503-407a-4488-a1c5-8c6e84ec86c1",
   "metadata": {},
   "outputs": [],
   "source": [
    "df_merged = df_km.merge(df_kcat, on='varseq', how='inner')"
   ]
  },
  {
   "cell_type": "code",
   "execution_count": 6,
   "id": "f30677a5-6e1c-4682-8f8e-63cc62b6391c",
   "metadata": {},
   "outputs": [],
   "source": [
    "df_merged['p34'] = [s[15] for s in df_merged['varseq']]"
   ]
  },
  {
   "cell_type": "code",
   "execution_count": 9,
   "id": "8d2bdef1-03a3-4869-a1e6-e6d9e9cc5326",
   "metadata": {},
   "outputs": [],
   "source": [
    "#palette=['tab:blue', 'tab:green', 'tab:red']\n",
    "palette=['tab:green', 'tab:blue', 'tab:red']"
   ]
  },
  {
   "cell_type": "code",
   "execution_count": 11,
   "id": "919c2a93-cb22-4702-a83f-830d80e0dade",
   "metadata": {},
   "outputs": [
    {
     "data": {
      "image/png": "[encoded data removed]",
      "text/plain": [
       "<Figure size 250x250 with 1 Axes>"
      ]
     },
     "metadata": {},
     "output_type": "display_data"
    }
   ],
   "source": [
    "# Define absolute axis size in inches\n",
    "axis_width = 1.5  # Width in inches\n",
    "axis_height = 1.5  # Height in inches\n",
    "\n",
    "# Define margins\n",
    "left_margin = 0.5\n",
    "bottom_margin = 0.5\n",
    "\n",
    "# Compute figure size to ensure fixed axis size\n",
    "fig_width = left_margin + axis_width + 0.5\n",
    "fig_height = bottom_margin + axis_height + 0.5\n",
    "\n",
    "fig = plt.figure(figsize=(fig_width, fig_height))\n",
    "\n",
    "# Manually place the axes (left, bottom, width, height) in figure coordinates (0-1 range)\n",
    "ax = fig.add_axes([\n",
    "    left_margin / fig_width,\n",
    "    bottom_margin / fig_height,\n",
    "    axis_width / fig_width,\n",
    "    axis_height / fig_height\n",
    "])\n",
    "\n",
    "# Plot\n",
    "plt.scatter(df_merged[df_merged['p34'] == 'G']['cpm_kcat'], df_merged[df_merged['p34'] == 'G']['cpm_km'] , color='tab:green', s=20, alpha=0.7, marker='o', edgecolor='none', label='G', rasterized=True)\n",
    "plt.scatter(df_merged[df_merged['p34'] == 'T']['cpm_kcat'], df_merged[df_merged['p34'] == 'T']['cpm_km'] , color='tab:red', s=20, alpha=0.7, marker='o', edgecolor='none', label='T', rasterized=True)\n",
    "plt.scatter(df_merged[df_merged['p34'] == 'A']['cpm_kcat'], df_merged[df_merged['p34'] == 'A']['cpm_km'] , color='tab:blue', s=20, alpha=0.7, marker='o', edgecolor='none', label='A', rasterized=True)\n",
    "\n",
    "plt.xlim(-10, 800)\n",
    "plt.ylim(-10, 800)\n",
    "\n",
    "plt.xticks([0, 250, 500, 750])\n",
    "plt.yticks([0, 250, 500, 750])\n",
    "\n",
    "\n",
    "plt.xlabel(r'CPM $k_{cat}$')\n",
    "plt.ylabel(r'CPM $K_{M}$')\n",
    "\n",
    "plt.legend()\n",
    "\n",
    "sns.despine()\n",
    "plt.savefig('p34_figure.svg', dpi=400)"
   ]
  }
 ],
 "metadata": {
  "kernelspec": {
   "display_name": "Python 3 (ipykernel)",
   "language": "python",
   "name": "python3"
  },
  "language_info": {
   "codemirror_mode": {
    "name": "ipython",
    "version": 3
   },
   "file_extension": ".py",
   "mimetype": "text/x-python",
   "name": "python",
   "nbconvert_exporter": "python",
   "pygments_lexer": "ipython3",
   "version": "3.12.4"
  }
 },
 "nbformat": 4,
 "nbformat_minor": 5
}
