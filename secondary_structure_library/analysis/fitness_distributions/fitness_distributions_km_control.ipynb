{
 "cells": [
  {
   "cell_type": "code",
   "execution_count": 1,
   "id": "b0e49404-7004-4f82-8c58-891a9fb004a6",
   "metadata": {},
   "outputs": [],
   "source": [
    "import pandas as pd\n",
    "import matplotlib.pyplot as plt\n",
    "import seaborn as sns\n",
    "import math"
   ]
  },
  {
   "cell_type": "code",
   "execution_count": 2,
   "id": "ec677c86-096b-4d0c-afa1-07a294ad8aa6",
   "metadata": {},
   "outputs": [],
   "source": [
    "plt.rcParams['figure.facecolor'] = 'white'\n",
    "plt.rcParams['font.size'] = 12\n",
    "plt.rcParams['font.family'] = 'Arial'"
   ]
  },
  {
   "cell_type": "code",
   "execution_count": 3,
   "id": "cbe58ad1-b785-4ddc-b107-e4bb74a13616",
   "metadata": {},
   "outputs": [],
   "source": [
    "def set_size(w,h, ax=None):\n",
    "    \"\"\" w, h: width, height in inches \"\"\"\n",
    "    if not ax: ax=plt.gca()\n",
    "    l = ax.figure.subplotpars.left\n",
    "    r = ax.figure.subplotpars.right\n",
    "    t = ax.figure.subplotpars.top\n",
    "    b = ax.figure.subplotpars.bottom\n",
    "    figw = float(w)/(r-l)\n",
    "    figh = float(h)/(t-b)\n",
    "    ax.figure.set_size_inches(figw, figh)"
   ]
  },
  {
   "cell_type": "markdown",
   "id": "bec80d13-1f99-46d3-95f7-23c84acd7db0",
   "metadata": {},
   "source": [
    "---\n",
    "### Structured"
   ]
  },
  {
   "cell_type": "code",
   "execution_count": 4,
   "id": "fec4e501-c255-411d-9aae-151f5918b27d",
   "metadata": {},
   "outputs": [],
   "source": [
    "dataset_init = '/home/jardic/Documents/projects/jk/datasets/datasets_prepped/strc_init.csv'\n",
    "dataset_select = '/home/jardic/Documents/projects/jk/datasets/datasets_prepped/strc_km.csv'"
   ]
  },
  {
   "cell_type": "code",
   "execution_count": 5,
   "id": "9790b14a-862d-4ecb-aa9c-b4e17ca37a75",
   "metadata": {},
   "outputs": [],
   "source": [
    "# Read the top rows of the original dataset (to match size of the distance matrix)\n",
    "df_init = pd.read_csv(dataset_init, index_col=0)\n",
    "df_select = pd.read_csv(dataset_select, index_col=0)"
   ]
  },
  {
   "cell_type": "code",
   "execution_count": 6,
   "id": "03646d49-c252-4bdc-abdd-7246ccca69de",
   "metadata": {},
   "outputs": [],
   "source": [
    "aurora2 = 'GGAAGGGATGACTATGTCCGGTTCCTGTAAGGCATGTGGAGTGTTGT'\n",
    "\n",
    "# Get Aurora counts and ppms in the initial library\n",
    "if aurora2 in df_init['seq'].tolist():\n",
    "    au2_init_row = df_init[df_init['seq'] == aurora2].iloc[0]\n",
    "    au2_init_cpm = au2_init_row['cpm']\n",
    "else:\n",
    "    au2_init_cpm = 0\n",
    "\n",
    "# Get Aurora counts and ppms in the initial library\n",
    "if aurora2 in df_select['seq'].tolist():\n",
    "    au2_select_row = df_select[df_select['seq'] == aurora2].iloc[0]\n",
    "    au2_select_cpm = au2_select_row['cpm']\n",
    "else:\n",
    "    au2_select_cpm = 0\n"
   ]
  },
  {
   "cell_type": "code",
   "execution_count": 8,
   "id": "08942578-675a-4406-b321-52d82f0a72ab",
   "metadata": {},
   "outputs": [],
   "source": [
    "#scheme = {'c_select':'#293250ff', 'c_init':'#ffd55aff'} # TS colorscheme\n",
    "scheme = {'c_select':'#48494aff', 'c_init':'#e22760ff'} # tab blue, tab_red\n",
    "#scheme = {'c_select':'tab:green', 'c_init':'tab:blue'} # tab blue, tab_red"
   ]
  },
  {
   "cell_type": "code",
   "execution_count": 9,
   "id": "20f62933-a9d9-47b2-86d5-19e7c6bb033d",
   "metadata": {},
   "outputs": [
    {
     "data": {
      "image/png": "[encoded data removed]",
      "text/plain": [
       "<Figure size 320x230 with 1 Axes>"
      ]
     },
     "metadata": {},
     "output_type": "display_data"
    }
   ],
   "source": [
    "# Define absolute axis size in inches\n",
    "axis_width = 2.2  # Width in inches\n",
    "axis_height = 1.3  # Height in inches\n",
    "\n",
    "# Define margins\n",
    "left_margin = 0.5\n",
    "bottom_margin = 0.5\n",
    "\n",
    "# Compute figure size to ensure fixed axis size\n",
    "fig_width = left_margin + axis_width + 0.5\n",
    "fig_height = bottom_margin + axis_height + 0.5\n",
    "\n",
    "fig = plt.figure(figsize=(fig_width, fig_height))\n",
    "\n",
    "# Manually place the axes (left, bottom, width, height) in figure coordinates (0-1 range)\n",
    "ax = fig.add_axes([\n",
    "    left_margin / fig_width,\n",
    "    bottom_margin / fig_height,\n",
    "    axis_width / fig_width,\n",
    "    axis_height / fig_height\n",
    "])\n",
    "\n",
    "# Plot\n",
    "sns.histplot(df_select['cpm'], binwidth=5, color=scheme['c_select'], edgecolor=scheme['c_select'], element=\"step\")\n",
    "sns.histplot(df_init['cpm'], binwidth=5, color=scheme['c_init'], edgecolor=scheme['c_init'], element=\"step\")\n",
    "\n",
    "# Plot Aurora2 counts in initial and selected\n",
    "plt.axvline(au2_init_cpm, color=scheme['c_init'])\n",
    "plt.axvline(au2_select_cpm, color=scheme['c_select'])\n",
    "\n",
    "plt.yscale('log')\n",
    "\n",
    "plt.xlim(-20, 1000)\n",
    "plt.xticks([0, 250, 500, 750, 1000])\n",
    "\n",
    "\n",
    "plt.xlabel('CPM')\n",
    "plt.ylabel('Number of sequences')\n",
    "\n",
    "sns.despine()\n",
    "plt.savefig('distribution_of_cpms_strc.svg')"
   ]
  },
  {
   "cell_type": "code",
   "execution_count": 10,
   "id": "19b8b787-d590-4aa8-b29a-682f8b9498a3",
   "metadata": {},
   "outputs": [
    {
     "name": "stdout",
     "output_type": "stream",
     "text": [
      "Number of unique seuences with cpm higher than aurora2:\n"
     ]
    },
    {
     "data": {
      "text/plain": [
       "81"
      ]
     },
     "execution_count": 10,
     "metadata": {},
     "output_type": "execute_result"
    }
   ],
   "source": [
    "print('Number of unique seuences with cpm higher than aurora2:')\n",
    "len(df_select[df_select['cpm'] > au2_select_cpm])"
   ]
  },
  {
   "cell_type": "markdown",
   "id": "9bc741f7-f2f1-447e-83e9-90a36d5aceb3",
   "metadata": {},
   "source": [
    "---\n",
    "### Control"
   ]
  },
  {
   "cell_type": "code",
   "execution_count": 11,
   "id": "216df374-c3f9-41cd-b509-7bc44aa5e94f",
   "metadata": {},
   "outputs": [],
   "source": [
    "dataset_init = '/home/jardic/Documents/projects/jk/datasets/datasets_prepped/ctrl_init.csv'\n",
    "dataset_select = '/home/jardic/Documents/projects/jk/datasets/datasets_prepped/ctrl_km.csv'"
   ]
  },
  {
   "cell_type": "code",
   "execution_count": 12,
   "id": "f54a0280-1505-4f77-a313-aeffadd48407",
   "metadata": {},
   "outputs": [],
   "source": [
    "# Read the top rows of the original dataset (to match size of the distance matrix)\n",
    "df_init = pd.read_csv(dataset_init, index_col=0)\n",
    "df_select = pd.read_csv(dataset_select, index_col=0)"
   ]
  },
  {
   "cell_type": "code",
   "execution_count": 13,
   "id": "1f60718c-45df-4528-a6ea-76b325b19cfb",
   "metadata": {},
   "outputs": [],
   "source": [
    "aurora2 = 'GGAAGGGATGACTATGTCCGGTTCCTGTAAGGCATGTGGAGTGTTGT'\n",
    "\n",
    "# Get Aurora counts and ppms in the initial library\n",
    "if aurora2 in df_init['seq'].tolist():\n",
    "    au2_init_row = df_init[df_init['seq'] == aurora2].iloc[0]\n",
    "    au2_init_cpm = au2_init_row['cpm']\n",
    "else:\n",
    "    au2_init_cpm = 0\n",
    "\n",
    "# Get Aurora counts and ppms in the initial library\n",
    "if aurora2 in df_select['seq'].tolist():\n",
    "    au2_select_row = df_select[df_select['seq'] == aurora2].iloc[0]\n",
    "    au2_select_cpm = au2_select_row['cpm']\n",
    "else:\n",
    "    au2_select_cpm = 0\n"
   ]
  },
  {
   "cell_type": "code",
   "execution_count": 14,
   "id": "68146ce4-286c-4dbc-8fee-d771626d81b0",
   "metadata": {},
   "outputs": [],
   "source": [
    "#scheme = {'c_select':'#293250ff', 'c_init':'#ffd55aff'} # TS colorscheme\n",
    "scheme = {'c_select':'#48494aff', 'c_init':'#e22760ff'} # tab blue, tab_red\n",
    "#scheme = {'c_select':'tab:green', 'c_init':'tab:blue'} # tab blue, tab_red"
   ]
  },
  {
   "cell_type": "code",
   "execution_count": 15,
   "id": "aef3882f-e0ad-4a7b-a69c-6e4c89a7f66e",
   "metadata": {},
   "outputs": [
    {
     "data": {
      "image/png": "[encoded data removed]",
      "text/plain": [
       "<Figure size 320x230 with 1 Axes>"
      ]
     },
     "metadata": {},
     "output_type": "display_data"
    }
   ],
   "source": [
    "# Define absolute axis size in inches\n",
    "axis_width = 2.2  # Width in inches\n",
    "axis_height = 1.3  # Height in inches\n",
    "\n",
    "# Define margins\n",
    "left_margin = 0.5\n",
    "bottom_margin = 0.5\n",
    "\n",
    "# Compute figure size to ensure fixed axis size\n",
    "fig_width = left_margin + axis_width + 0.5\n",
    "fig_height = bottom_margin + axis_height + 0.5\n",
    "\n",
    "fig = plt.figure(figsize=(fig_width, fig_height))\n",
    "\n",
    "# Manually place the axes (left, bottom, width, height) in figure coordinates (0-1 range)\n",
    "ax = fig.add_axes([\n",
    "    left_margin / fig_width,\n",
    "    bottom_margin / fig_height,\n",
    "    axis_width / fig_width,\n",
    "    axis_height / fig_height\n",
    "])\n",
    "\n",
    "# Plot\n",
    "sns.histplot(df_select['cpm'], binwidth=5, color=scheme['c_select'], edgecolor=scheme['c_select'], element=\"step\")\n",
    "sns.histplot(df_init['cpm'], binwidth=5, color=scheme['c_init'], edgecolor=scheme['c_init'], element=\"step\")\n",
    "\n",
    "# Plot Aurora2 counts in initial and selected\n",
    "plt.axvline(au2_init_cpm, color=scheme['c_init'])\n",
    "plt.axvline(au2_select_cpm, color=scheme['c_select'])\n",
    "\n",
    "plt.yscale('log')\n",
    "\n",
    "plt.xlim(-20, 1000)\n",
    "plt.xticks([0, 250, 500, 750, 1000])\n",
    "\n",
    "\n",
    "plt.xlabel('CPM')\n",
    "plt.ylabel('Number of sequences')\n",
    "\n",
    "sns.despine()\n",
    "plt.savefig('distribution_of_cpms_ctrl.svg')"
   ]
  },
  {
   "cell_type": "code",
   "execution_count": 18,
   "id": "4a7d7598-4035-4b62-b44b-d7826d03755f",
   "metadata": {},
   "outputs": [
    {
     "name": "stdout",
     "output_type": "stream",
     "text": [
      "Number of unique seuences with cpm higher than aurora2:\n"
     ]
    },
    {
     "data": {
      "text/plain": [
       "11"
      ]
     },
     "execution_count": 18,
     "metadata": {},
     "output_type": "execute_result"
    }
   ],
   "source": [
    "print('Number of unique seuences with cpm higher than aurora2:')\n",
    "len(df_select[df_select['cpm'] > au2_select_cpm])"
   ]
  },
  {
   "cell_type": "code",
   "execution_count": null,
   "id": "807b0c34-555d-4f37-ad9b-54db521630e5",
   "metadata": {},
   "outputs": [],
   "source": []
  }
 ],
 "metadata": {
  "kernelspec": {
   "display_name": "Python 3 (ipykernel)",
   "language": "python",
   "name": "python3"
  },
  "language_info": {
   "codemirror_mode": {
    "name": "ipython",
    "version": 3
   },
   "file_extension": ".py",
   "mimetype": "text/x-python",
   "name": "python",
   "nbconvert_exporter": "python",
   "pygments_lexer": "ipython3",
   "version": "3.12.4"
  }
 },
 "nbformat": 4,
 "nbformat_minor": 5
}
