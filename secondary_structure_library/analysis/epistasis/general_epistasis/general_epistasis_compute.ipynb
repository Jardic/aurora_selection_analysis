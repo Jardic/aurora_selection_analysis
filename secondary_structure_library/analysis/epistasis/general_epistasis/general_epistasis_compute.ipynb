{
 "cells": [
  {
   "cell_type": "code",
   "execution_count": 1,
   "id": "2f715fa7-d95e-451d-be40-f80438311394",
   "metadata": {},
   "outputs": [],
   "source": [
    "import pandas as pd\n",
    "import matplotlib.pyplot as plt\n",
    "import seaborn as sns\n",
    "import numpy as np\n",
    "import math\n",
    "from itertools import product, permutations, combinations\n",
    "from sklearn import preprocessing as sp\n",
    "import pickle as pkl\n",
    "from tqdm import tqdm"
   ]
  },
  {
   "cell_type": "code",
   "execution_count": 2,
   "id": "51cca5ee-9ec0-4020-b6cb-59602067b14b",
   "metadata": {},
   "outputs": [],
   "source": [
    "# matplotlib settings\n",
    "plt.rcParams['figure.facecolor'] = 'white'\n",
    "plt.rcParams['font.size'] = 12\n",
    "plt.rcParams['font.family'] = 'Arial'"
   ]
  },
  {
   "cell_type": "code",
   "execution_count": 3,
   "id": "66983629-1131-4075-89c4-64a5bd132e3d",
   "metadata": {},
   "outputs": [],
   "source": [
    "def mutateSeq(S, mut):\n",
    "    pos, mut_base = mut           \n",
    "    \n",
    "    if pos >= len(S):\n",
    "        raise Exception(\"Position out of range\") \n",
    "    \n",
    "    if pos == 0:\n",
    "        return mut_base + S[1:]\n",
    "    elif pos == len(S)-1:\n",
    "        return S[:len(S)-1] + mut_base\n",
    "    else:\n",
    "        return S[:pos] + mut_base + S[pos+1:]"
   ]
  },
  {
   "cell_type": "code",
   "execution_count": 4,
   "id": "20694a61-162c-4cd5-939f-b1b8dac6b8f4",
   "metadata": {},
   "outputs": [],
   "source": [
    "def makeMutations(S, mut):\n",
    "    Sx1 = S\n",
    "    for i in range(0, len(mut[0])):\n",
    "        Sx2 = mutateSeq(Sx1, (mut[0][i], mut[1][1][i]))\n",
    "        Sx1 = Sx2\n",
    "    return Sx1"
   ]
  },
  {
   "cell_type": "markdown",
   "id": "e2034741-8739-49e4-96de-a44328d0a65c",
   "metadata": {},
   "source": [
    "---\n",
    "### Prep"
   ]
  },
  {
   "cell_type": "code",
   "execution_count": 5,
   "id": "3332bad9-131a-4b01-b264-bea9bec349f5",
   "metadata": {},
   "outputs": [],
   "source": [
    "# Load the dataset, make helpers\n",
    "df = pd.read_csv('/home/jardic/Documents/projects/jk/datasets/datasets_prepped/strc_km.csv', usecols=['varseq', 'cpm'])\n",
    "seq_2_cpm = {s : c for s, c in zip(df['varseq'], df['cpm'])}\n",
    "seqpool = set(df['varseq'])\n",
    "seqlen = len(df.iloc[0]['varseq'])\n",
    "aurora2 = 'AGACATGTTTTGTAAATATGTTGT'"
   ]
  },
  {
   "cell_type": "code",
   "execution_count": 6,
   "id": "ad069af8-6b60-4810-a75f-c2fb77bf643a",
   "metadata": {},
   "outputs": [],
   "source": [
    "with open('../../prep/mutations_permutations_aurora2.pkl', mode='rb')as mf:\n",
    "    mutations, mutations_names = pkl.load(mf)"
   ]
  },
  {
   "cell_type": "markdown",
   "id": "84faddcf-6225-486b-a4a8-b58045800083",
   "metadata": {},
   "source": [
    "---\n",
    "### Run analysis"
   ]
  },
  {
   "cell_type": "code",
   "execution_count": 7,
   "id": "ae6351b8-749f-4600-91b9-fcb331597875",
   "metadata": {},
   "outputs": [
    {
     "name": "stderr",
     "output_type": "stream",
     "text": [
      "35it [03:45,  6.45s/it]\n"
     ]
    }
   ],
   "source": [
    "results = []\n",
    "\n",
    "for m, m_name in tqdm(zip(mutations, mutations_names)):\n",
    "    \n",
    "    df['p'] = [''.join([s[x] for x in m[0]]) for s in df['varseq']]\n",
    "    df_refs = df[df['p'] == m[1][0]]\n",
    "\n",
    "    for ref_seq in df_refs['varseq']:\n",
    "        mut_seq = makeMutations(ref_seq, m)\n",
    "        mut_cpm = seq_2_cpm.get(mut_seq, None)\n",
    "        ref_cpm = seq_2_cpm.get(ref_seq, None)\n",
    "        \n",
    "        if mut_cpm != None:\n",
    "            cpm_ratio = math.log(mut_cpm / ref_cpm, 10)\n",
    "            results.append((m_name, cpm_ratio))"
   ]
  },
  {
   "cell_type": "code",
   "execution_count": 8,
   "id": "674b1f23-4777-4272-941e-8a30506cd452",
   "metadata": {},
   "outputs": [],
   "source": [
    "df = pd.DataFrame(results, columns=['mut', 'log_cpm_ratio'])"
   ]
  },
  {
   "cell_type": "code",
   "execution_count": 9,
   "id": "483fd3a7-522a-4cbd-87d4-51a597a9f45a",
   "metadata": {},
   "outputs": [
    {
     "data": {
      "text/plain": [
       "40395476"
      ]
     },
     "execution_count": 9,
     "metadata": {},
     "output_type": "execute_result"
    }
   ],
   "source": [
    "len(df)"
   ]
  },
  {
   "cell_type": "code",
   "execution_count": 10,
   "id": "eacdb7c5-ae71-4d57-bca9-a547748f4785",
   "metadata": {},
   "outputs": [],
   "source": [
    "df.to_csv('epistatsis_in_aurora2_for_violins.csv')"
   ]
  }
 ],
 "metadata": {
  "kernelspec": {
   "display_name": "Python 3 (ipykernel)",
   "language": "python",
   "name": "python3"
  },
  "language_info": {
   "codemirror_mode": {
    "name": "ipython",
    "version": 3
   },
   "file_extension": ".py",
   "mimetype": "text/x-python",
   "name": "python",
   "nbconvert_exporter": "python",
   "pygments_lexer": "ipython3",
   "version": "3.12.4"
  }
 },
 "nbformat": 4,
 "nbformat_minor": 5
}
