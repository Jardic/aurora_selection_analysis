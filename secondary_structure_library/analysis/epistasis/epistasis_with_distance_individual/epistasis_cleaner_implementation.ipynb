{
 "cells": [
  {
   "cell_type": "code",
   "execution_count": 1,
   "id": "35d89524-ce79-49ff-b1fa-d3e8584e41af",
   "metadata": {},
   "outputs": [],
   "source": [
    "import pandas as pd\n",
    "import numpy as np\n",
    "import matplotlib.pyplot as plt\n",
    "import seaborn as sns\n",
    "import pickle\n",
    "from tqdm import tqdm\n",
    "from collections import deque\n",
    "from dataclasses import dataclass\n",
    "from itertools import combinations\n",
    "import time\n",
    "import math"
   ]
  },
  {
   "cell_type": "code",
   "execution_count": 2,
   "id": "5198f5e1-0218-4cb1-a85a-89d205018445",
   "metadata": {},
   "outputs": [],
   "source": [
    "# seqDist simple\n",
    "def seqDist(s1, s2):\n",
    "    return sum([1 if b1 != b2 else 0 for b1, b2 in zip(s1, s2)])"
   ]
  },
  {
   "cell_type": "code",
   "execution_count": 3,
   "id": "6ecb98a0-83b0-428f-858f-ba13fe4ad7bd",
   "metadata": {},
   "outputs": [],
   "source": [
    "# seqDist with a max_dist\n",
    "def seqDist(s1, s2, max_dist):\n",
    "    dist = 0\n",
    "    for b1, b2 in zip(s1, s2):\n",
    "        if dist > max_dist:\n",
    "            return len(s1)\n",
    "        else:\n",
    "            if b1 != b2:\n",
    "                dist += 1\n",
    "    return dist"
   ]
  },
  {
   "cell_type": "code",
   "execution_count": 4,
   "id": "555638da-8594-4861-9af5-43c471e7b384",
   "metadata": {},
   "outputs": [],
   "source": [
    "def mutateSeq(S, mut):\n",
    "    pos, mut_base = mut           \n",
    "    \n",
    "    if pos >= len(S):\n",
    "        raise Exception(\"Position out of range\") \n",
    "    \n",
    "    if pos == 0:\n",
    "        return mut_base + S[1:]\n",
    "    elif pos == len(S)-1:\n",
    "        return S[:len(S)-1] + mut_base\n",
    "    else:\n",
    "        return S[:pos] + mut_base + S[pos+1:]"
   ]
  },
  {
   "cell_type": "code",
   "execution_count": 5,
   "id": "e2635069-01fb-4d5e-9276-fd95bec238ae",
   "metadata": {},
   "outputs": [],
   "source": [
    "def makeMutations(S, mut):\n",
    "    Sx1 = S\n",
    "    for i in range(0, len(mut[0])):\n",
    "        Sx2 = mutateSeq(Sx1, (mut[0][i], mut[1][1][i]))\n",
    "        Sx1 = Sx2\n",
    "    return Sx1"
   ]
  },
  {
   "cell_type": "code",
   "execution_count": 6,
   "id": "963a0eb0-ce79-4017-8ba7-dcc0d458796d",
   "metadata": {},
   "outputs": [],
   "source": [
    "def combineMut(mut):\n",
    "    \n",
    "    pos_combined = ()\n",
    "    ref_base_combined = ''\n",
    "    mut_base_combined = ''\n",
    "    \n",
    "    for m in mut:\n",
    "        pos_combined += m[0]\n",
    "        ref_base_combined += m[1][0]\n",
    "        mut_base_combined += m[1][1]\n",
    "        \n",
    "    return [pos_combined, (ref_base_combined, mut_base_combined)]"
   ]
  },
  {
   "cell_type": "code",
   "execution_count": 7,
   "id": "96403ddb-9815-4d0c-80a9-d102216eb361",
   "metadata": {},
   "outputs": [],
   "source": [
    "@dataclass\n",
    "class BfsNode:\n",
    "    seq: str\n",
    "    depth: int\n",
    "\n",
    "def BFS(start_seq_seq, seqset, mutations, max_depth, s2cpm):\n",
    "\n",
    "    blacklist = set()\n",
    "    explored_seqs = {x : [] for x in range(0, max_depth+1)}\n",
    "    \n",
    "    queue = deque([BfsNode(seq=start_seq_seq, depth=0)])\n",
    "    explored_seqs[0].append(start_seq_seq)\n",
    "    \n",
    "    while queue:\n",
    "        current_node = queue.popleft()\n",
    "        if current_node.depth < max_depth:\n",
    "            mutants_batch = [makeMutations(current_node.seq, mut) for mut in mutations if ''.join([current_node.seq[x] for x in mut[0]]) == mut[1][0]]\n",
    "            mutants_batch = [m for m in mutants_batch if (m not in blacklist) and (m in seqset)]\n",
    "            for mutant in mutants_batch:\n",
    "                next_node = BfsNode(seq=mutant, depth=current_node.depth+1)\n",
    "                queue.append(next_node)\n",
    "                explored_seqs[next_node.depth].append(next_node.seq)\n",
    "                blacklist.add(mutant)\n",
    "    return explored_seqs"
   ]
  },
  {
   "cell_type": "code",
   "execution_count": 8,
   "id": "09d8c0b7-3214-4fd1-8206-bf1359bf8f2f",
   "metadata": {},
   "outputs": [],
   "source": [
    "# Load the entire dataset\n",
    "df = pd.read_csv('/home/jardic/Documents/projects/jk/datasets/datasets_prepped/strc_km.csv', usecols=['varseq', 'cpm'])\n",
    "seq_2_cpm = {s : c for s, c in zip(df['varseq'], df['cpm'])}"
   ]
  },
  {
   "cell_type": "code",
   "execution_count": 9,
   "id": "ebd4703f-6cdd-4251-99a2-5731c0e74ae3",
   "metadata": {},
   "outputs": [],
   "source": [
    "seqlen = len(df.iloc[0]['varseq'])\n",
    "aurora2 = 'AGACATGTTTTGTAAATATGTTGT'"
   ]
  },
  {
   "cell_type": "code",
   "execution_count": 10,
   "id": "49708823-26d3-446f-8f88-e8e983245bc9",
   "metadata": {},
   "outputs": [
    {
     "name": "stdout",
     "output_type": "stream",
     "text": [
      "35\n",
      "556\n",
      "5338\n"
     ]
    }
   ],
   "source": [
    "# Load the possible mutations\n",
    "with open('../prep/allowed_mutations_permuations.pkl', mode='rb') as mf:\n",
    "    mutations = pickle.load(mf)\n",
    "\n",
    "# Create combinations of mutations\n",
    "mutation_combinations_1 = [mut_comb for mut_comb in list(combinations(mutations, r=1))]\n",
    "mutation_combinations_2 = [mut_comb for mut_comb in list(combinations(mutations, r=2)) if len(set([mut_comb[0][0], mut_comb[1][0]])) == 2]\n",
    "mutation_combinations_3 = [mut_comb for mut_comb in list(combinations(mutations, r=3)) if len(set([mut_comb[0][0], mut_comb[1][0], mut_comb[2][0]])) == 3]\n",
    "\n",
    "# Combine the mutation combinations so that they can be applied with the function makeMutations\n",
    "mutations_combined_1 = [combineMut(mut_c) for mut_c in mutation_combinations_1]\n",
    "mutations_combined_2 = [combineMut(mut_c) for mut_c in mutation_combinations_2]\n",
    "mutations_combined_3 = [combineMut(mut_c) for mut_c in mutation_combinations_3]\n",
    "\n",
    "mutations_combined_1 = [m for m in mutations_combined_1 if ''.join([aurora2[x] for x in m[0]]) == m[1][0]]\n",
    "mutations_combined_2 = [m for m in mutations_combined_2 if ''.join([aurora2[x] for x in m[0]]) == m[1][0]]\n",
    "mutations_combined_3 = [m for m in mutations_combined_3 if ''.join([aurora2[x] for x in m[0]]) == m[1][0]]\n",
    "\n",
    "# Print the number of mutations for each level\n",
    "print(len(mutations_combined_1))\n",
    "print(len(mutations_combined_2))\n",
    "print(len(mutations_combined_3))"
   ]
  },
  {
   "cell_type": "code",
   "execution_count": 11,
   "id": "e225716a-5ffb-4ed7-b3a2-742854397a79",
   "metadata": {},
   "outputs": [],
   "source": [
    "ref_wt_seq = aurora2\n",
    "ref_wt_cpm = seq_2_cpm[ref_wt_seq]"
   ]
  },
  {
   "cell_type": "markdown",
   "id": "eab39af1-cf8c-4dc0-b256-fd56f50fea0e",
   "metadata": {},
   "source": [
    "Let me define four variables:\n",
    "- ref_wt_cpm: Aurora2 cpm\n",
    "- ref_mut_cpm: The cpm of the sequence we get when we apply a given mutation on Aurora2\n",
    "- probe_wt_cpm: The cpm of a probe sequence (any sequence which is not Aurora2 and that the mutation can be applied to)\n",
    "- probe_mut_cpm: The cpm of the probe sequence mutated\n",
    "\n",
    "For each mutation:\n",
    "- Get ref_wt_cpm (this is the cpm of Aurora2)\n",
    "- Apply mutation mut on Aurora2.\n",
    "- Get the ref_mut_cpm of this mutant of Aurora2\n",
    "- Get a list of 'relevant sequences'. Since each mutation in my mutations list is defined 'from what to what', there are only some sequences on which a given mutation can be applied on.\n",
    "- Now get the Aurora2 background sequence, this I get by concatenating all positions of Aurora2 except for those positions which are involved in the mutation (this will be 1 or 2 positions for 'singles', 2 or 3 or 4 for 'doubles' and 3 or 4 or 5, or 6 for 'triples').\n",
    "- Get the background sequences from the list of relevant sequences.\n",
    "- Compute the distances of each of the background distances to aurora2 background sequence.\n",
    "- Now go down the list of relevant sequences and their background distances and for each, get the probe_wt_cpm, then apply the mutation and get the probe_mut_cpm\n",
    "- "
   ]
  },
  {
   "cell_type": "code",
   "execution_count": 12,
   "id": "722b8faf-7fc2-45c9-9206-07f1b158e289",
   "metadata": {},
   "outputs": [
    {
     "name": "stderr",
     "output_type": "stream",
     "text": [
      "100%|███████████████████████████████████████████████████████████████████████████████████| 35/35 [07:13<00:00, 12.38s/it]\n"
     ]
    }
   ],
   "source": [
    "results_final = []\n",
    "\n",
    "for mut in tqdm(mutations_combined_1):\n",
    "\n",
    "    mutname = '-'.join([str(x) for x in mut[0]]) + '|' + '>'.join([x for x in mut[1]])\n",
    "    mut_res = []\n",
    "\n",
    "    # Get the effect on the reference, if possible\n",
    "    ref_mut_seq = makeMutations(ref_wt_seq, mut)\n",
    "    ref_mut_cpm = seq_2_cpm.get(ref_mut_seq, None)\n",
    "\n",
    "    if ref_mut_cpm == None:\n",
    "        continue # If not, go to the next mutation, nothing left to do\n",
    "    else:\n",
    "        ref_mut_effect = ref_mut_cpm / ref_wt_cpm\n",
    "\n",
    "    # Get the reference background\n",
    "    ref_background = ''.join([ref_wt_seq[x] for x in range(0, seqlen) if x not in mut[0]])\n",
    "\n",
    "    # Get only relevant sequences (those, on which this particular mutation can be applied)\n",
    "    rel_seqs = [s for s in df['varseq'] if ''.join([s[x] for x in mut[0]]) == mut[1][0]]\n",
    "\n",
    "    # Get backgrounds of the relevant sequences\n",
    "    background_seqs = [''.join([s[x] for x in range(0, seqlen) if x not in mut[0]]) for s in rel_seqs]\n",
    "\n",
    "    # Get background distances of the relevant sequences from the reference\n",
    "    background_dists = [seqDist(b, ref_background, max_dist=10) for b in background_seqs]\n",
    "\n",
    "    # Iterate over the relevant probe sequences, compute the effect of mutation mut on them and save according to background distance\n",
    "    for probe_wt_seq, bg_dist in zip(rel_seqs, background_dists):\n",
    "        probe_wt_cpm = seq_2_cpm[probe_wt_seq]\n",
    "        probe_mut_seq = makeMutations(probe_wt_seq, mut)\n",
    "        probe_mut_cpm = seq_2_cpm.get(probe_mut_seq, None)\n",
    "        if probe_mut_cpm == None:\n",
    "            continue\n",
    "        else:\n",
    "            probe_mut_effect = probe_mut_cpm / probe_wt_cpm\n",
    "            mut_res.append([bg_dist, math.log(probe_mut_effect / ref_mut_effect, 10)])\n",
    "\n",
    "    #for d in mut_res.keys():\n",
    "    #    if len(mut_res[d]) > 1:\n",
    "    #        results_final.append([mutname, np.array(mut_res[d]).mean(), d])\n",
    "    df_mut_res = pd.DataFrame(mut_res, columns=['d', 'log_diff_effect'])\n",
    "    results_final.append(df_mut_res)"
   ]
  },
  {
   "cell_type": "code",
   "execution_count": 19,
   "id": "a5bc0cf7-7f61-45fc-bc19-9c5ca7b7d1e5",
   "metadata": {},
   "outputs": [],
   "source": [
    "results_final_out = [(mut, df_m) for mut, df_m in zip(mutations_combined_1, results_final)]"
   ]
  },
  {
   "cell_type": "code",
   "execution_count": 24,
   "id": "5b1c3278-76a0-42ce-808a-71830f2e3187",
   "metadata": {},
   "outputs": [],
   "source": [
    "with open('results_for_plotting.pkl', mode='wb')as f:\n",
    "    pickle.dump(results_final_out, f)"
   ]
  }
 ],
 "metadata": {
  "kernelspec": {
   "display_name": "Python 3 (ipykernel)",
   "language": "python",
   "name": "python3"
  },
  "language_info": {
   "codemirror_mode": {
    "name": "ipython",
    "version": 3
   },
   "file_extension": ".py",
   "mimetype": "text/x-python",
   "name": "python",
   "nbconvert_exporter": "python",
   "pygments_lexer": "ipython3",
   "version": "3.12.4"
  }
 },
 "nbformat": 4,
 "nbformat_minor": 5
}
