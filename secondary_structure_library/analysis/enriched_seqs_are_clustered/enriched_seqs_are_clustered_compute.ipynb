{
 "cells": [
  {
   "cell_type": "code",
   "execution_count": 1,
   "id": "0b1c80ee-019b-49df-b292-3288c8ede67b",
   "metadata": {},
   "outputs": [],
   "source": [
    "import pandas as pd\n",
    "import numpy as np\n",
    "import matplotlib.pyplot as plt\n",
    "import seaborn as sns\n",
    "import random\n",
    "from multiprocessing import Pool\n",
    "from functools import partial\n",
    "import pickle\n",
    "from scipy.interpolate import make_interp_spline"
   ]
  },
  {
   "cell_type": "code",
   "execution_count": 2,
   "id": "566cb045-8633-4b0b-9323-03441b7eba81",
   "metadata": {},
   "outputs": [],
   "source": [
    "palette=['tab:blue', 'tab:green', 'tab:red']\n",
    "\n",
    "plt.rcParams['figure.facecolor'] = 'white'\n",
    "plt.rcParams['font.size'] = 12\n",
    "plt.rcParams['font.family'] = 'Arial'"
   ]
  },
  {
   "cell_type": "code",
   "execution_count": 3,
   "id": "6f102295-3c37-4fcc-b050-0c78a29fc2e8",
   "metadata": {},
   "outputs": [],
   "source": [
    "def set_size(w,h, ax=None):\n",
    "    \"\"\" w, h: width, height in inches \"\"\"\n",
    "    if not ax: ax=plt.gca()\n",
    "    l = ax.figure.subplotpars.left\n",
    "    r = ax.figure.subplotpars.right\n",
    "    t = ax.figure.subplotpars.top\n",
    "    b = ax.figure.subplotpars.bottom\n",
    "    figw = float(w)/(r-l)\n",
    "    figh = float(h)/(t-b)\n",
    "    ax.figure.set_size_inches(figw, figh)"
   ]
  },
  {
   "cell_type": "code",
   "execution_count": 4,
   "id": "72e34a8e-4016-444c-a61e-46a2d61de752",
   "metadata": {},
   "outputs": [],
   "source": [
    "def seqDist(s1, s2):\n",
    "    return sum([1 if b1 != b2 else 0 for b1, b2 in zip(s1, s2)])"
   ]
  },
  {
   "cell_type": "code",
   "execution_count": 5,
   "id": "7709a81e-0def-44dd-b72b-97cf9ae75921",
   "metadata": {},
   "outputs": [],
   "source": [
    "def smoothOut(x, y):\n",
    "    sp = make_interp_spline(x, y)\n",
    "    X = np.linspace(min(x), max(x), 100)\n",
    "    Y = sp(X)\n",
    "    Y = [0 if j < 0 else j for j in Y]\n",
    "    return X, Y"
   ]
  },
  {
   "cell_type": "code",
   "execution_count": 6,
   "id": "a1f86e98-5b2b-49c9-8dde-dbe221c59b38",
   "metadata": {},
   "outputs": [],
   "source": [
    "def compute_sample_distances(i, seqs, dist_function):\n",
    "    '''\n",
    "    \n",
    "    '''\n",
    "    results = []\n",
    "    for j in range(i + 1, len(seqs)):\n",
    "        edit_dist = dist_function(seqs[i], seqs[j])\n",
    "        results.append((i, j, edit_dist))\n",
    "    return results\n",
    "    "
   ]
  },
  {
   "cell_type": "code",
   "execution_count": 7,
   "id": "45cca8d9-c4c9-4ca1-9045-873ae433290c",
   "metadata": {},
   "outputs": [],
   "source": [
    "def compute_dists(dist_function):\n",
    "    '''\n",
    "    \n",
    "    '''\n",
    "    partial_sample_dists = partial(compute_sample_distances,\n",
    "                                   dist_function=dist_function,\n",
    "                                   seqs=seqs)\n",
    "    with Pool(8) as p:\n",
    "        results_all = p.map(partial_sample_dists, list(range(len(seqs))))\n",
    "        \n",
    "    dist_mat = np.zeros((len(seqs), len(seqs)))\n",
    "    for row_result in results_all:\n",
    "        for i, j, dist in row_result:\n",
    "            dist_mat[i, j] = dist\n",
    "            dist_mat[j, i] = dist\n",
    "    return dist_mat    "
   ]
  },
  {
   "cell_type": "code",
   "execution_count": 8,
   "id": "27d5c308-bb41-41a3-a1dc-106fb1593c69",
   "metadata": {},
   "outputs": [],
   "source": [
    "df = pd.read_csv('/home/jardic/Documents/projects/jk/datasets/datasets_prepped/strc_km.csv', index_col=0)"
   ]
  },
  {
   "cell_type": "code",
   "execution_count": 9,
   "id": "76449d4e-9ad0-4362-8a12-4ebb74fa8678",
   "metadata": {},
   "outputs": [],
   "source": [
    "peak1 = 'AGACATGTTTTTTTAGTATGTTGT'\n",
    "peak2 = 'AGAAATGTTTAGTATGTATGTTTT'"
   ]
  },
  {
   "cell_type": "code",
   "execution_count": 10,
   "id": "ea89987e-2968-4cd8-90ed-207f1dacc57d",
   "metadata": {},
   "outputs": [],
   "source": [
    "df_peak_dists = pd.DataFrame([[seqDist(s, peak1), seqDist(s, peak2)] for s in df['varseq']], columns=['peak1_dist', 'peak2_dist'])"
   ]
  },
  {
   "cell_type": "code",
   "execution_count": 11,
   "id": "bff18c55-4a93-47c9-a387-5144d98a9a29",
   "metadata": {},
   "outputs": [
    {
     "name": "stdout",
     "output_type": "stream",
     "text": [
      "2898\n",
      "18465\n",
      "7482430\n"
     ]
    }
   ],
   "source": [
    "cpm_thresholds = [(750, 20), (20, 3), (3, 0)]\n",
    "\n",
    "for t in cpm_thresholds:\n",
    "    print(len(df[df['cpm'].between(t[1], t[0])]))\n",
    "\n",
    "df_high = df[df['cpm'].between(cpm_thresholds[0][1], cpm_thresholds[0][0])]\n",
    "df_mid = df[df['cpm'].between(cpm_thresholds[1][1], cpm_thresholds[1][0])]\n",
    "df_low = df[df['cpm'].between(cpm_thresholds[2][1], cpm_thresholds[2][0])]"
   ]
  },
  {
   "cell_type": "code",
   "execution_count": 12,
   "id": "eb84e0d1-008c-4fbd-8362-bf1dd7a30f9c",
   "metadata": {},
   "outputs": [],
   "source": [
    "distances_dist = []\n",
    "for dfx in [df_high, df_mid, df_low]:\n",
    "    # If there are more sequences than 5000, sample a random 5000 from this subset\n",
    "    if len(dfx) > 1000:\n",
    "        dfx = dfx.sample(1000)\n",
    "    seqs = dfx['varseq'].tolist()\n",
    "    ids = dfx.index.tolist()\n",
    "    distances = pd.Series(compute_dists(seqDist).flatten()) \n",
    "    vcs_distances = distances.value_counts(normalize=True).sort_index()\n",
    "    distances_dist.append(vcs_distances)"
   ]
  },
  {
   "cell_type": "code",
   "execution_count": 13,
   "id": "bbfb802b-abc0-42a6-9f5b-506d1bb6d807",
   "metadata": {},
   "outputs": [],
   "source": [
    "palette = ['#08415c', '#1a9643ff', '#cc2936']"
   ]
  },
  {
   "cell_type": "code",
   "execution_count": 14,
   "id": "5432ff02-ca04-46f2-a5b8-d7bbf09c6f1c",
   "metadata": {},
   "outputs": [
    {
     "data": {
      "image/png": "[encoded data removed]",
      "text/plain": [
       "<Figure size 320x250 with 1 Axes>"
      ]
     },
     "metadata": {},
     "output_type": "display_data"
    }
   ],
   "source": [
    "# Define absolute axis size in inches\n",
    "axis_width = 2.2  # Width in inches\n",
    "axis_height = 1.5  # Height in inches\n",
    "w = 2\n",
    "a = 0.1\n",
    "\n",
    "# Define margins\n",
    "left_margin = 0.5\n",
    "bottom_margin = 0.5\n",
    "\n",
    "# Compute figure size to ensure fixed axis size\n",
    "fig_width = left_margin + axis_width + 0.5\n",
    "fig_height = bottom_margin + axis_height + 0.5\n",
    "\n",
    "fig = plt.figure(figsize=(fig_width, fig_height))\n",
    "\n",
    "# Manually place the axes (left, bottom, width, height) in figure coordinates (0-1 range)\n",
    "ax = fig.add_axes([\n",
    "    left_margin / fig_width,\n",
    "    bottom_margin / fig_height,\n",
    "    axis_width / fig_width,\n",
    "    axis_height / fig_height\n",
    "])\n",
    "\n",
    "for i in [0, 1, 2]:\n",
    "    plt.bar(distances_dist[i].index, distances_dist[i].values, color=palette[i], alpha=a)\n",
    "    line_thresholds = smoothOut(distances_dist[i].index, distances_dist[i].values)\n",
    "    plt.plot(line_thresholds[0], line_thresholds[1], color=palette[i], linewidth=w)\n",
    "\n",
    "sns.despine()\n",
    "\n",
    "plt.xlabel('Distance')\n",
    "plt.ylabel('Frequency')\n",
    "\n",
    "#plt.xlim(-2, 25)\n",
    "plt.ylim(0, 0.2)\n",
    "#plt.xticks([0, 5, 10, 15])\n",
    "#plt.yticks([0, 5, 10, 15])\n",
    "\n",
    "sns.despine()\n",
    "plt.savefig('pairwise_distances_distribution_2peaks.svg')"
   ]
  },
  {
   "cell_type": "code",
   "execution_count": 79,
   "id": "ff57fde4-ab5b-4aa0-a2be-000add9a2845",
   "metadata": {},
   "outputs": [],
   "source": [
    "df_peak_separation = []\n",
    "df_names = ['top', 'mid', 'bottom']\n",
    "\n",
    "for n, dfx in enumerate([df_high, df_mid, df_low]):\n",
    "    dfx = dfx.head(100)\n",
    "    for i in dfx.index:\n",
    "            row = df_peak_dists.loc[i]\n",
    "            d1, d2 = row.min(), row.max()\n",
    "            df_peak_separation.append([d1, d2, df_names[n]])\n",
    "\n",
    "df_peak_separation = pd.DataFrame(df_peak_separation)\n",
    "df_peak_separation.columns = ['min1', 'min2', 'topN']"
   ]
  },
  {
   "cell_type": "code",
   "execution_count": 89,
   "id": "2a91bd6e-cd00-4678-8250-16f89e0c9871",
   "metadata": {},
   "outputs": [
    {
     "data": {
      "image/png": "[encoded data removed]",
      "text/plain": [
       "<Figure size 250x250 with 1 Axes>"
      ]
     },
     "metadata": {},
     "output_type": "display_data"
    }
   ],
   "source": [
    "# Define absolute axis size in inches\n",
    "axis_width = 1.5  # Width in inches\n",
    "axis_height = 1.5  # Height in inches\n",
    "\n",
    "# Define margins\n",
    "left_margin = 0.5\n",
    "bottom_margin = 0.5\n",
    "\n",
    "# Compute figure size to ensure fixed axis size\n",
    "fig_width = left_margin + axis_width + 0.5\n",
    "fig_height = bottom_margin + axis_height + 0.5\n",
    "\n",
    "fig = plt.figure(figsize=(fig_width, fig_height))\n",
    "\n",
    "# Manually place the axes (left, bottom, width, height) in figure coordinates (0-1 range)\n",
    "ax = fig.add_axes([\n",
    "    left_margin / fig_width,\n",
    "    bottom_margin / fig_height,\n",
    "    axis_width / fig_width,\n",
    "    axis_height / fig_height\n",
    "])\n",
    "\n",
    "# Plot\n",
    "sns.kdeplot(data=df_peak_separation, x='min1', y='min2', hue='topN', common_norm=True, bw_adjust=1.5, fill=False, alpha=1, palette=palette, legend=False)\n",
    "plt.plot([0, 20], [0, 20], color='grey', alpha=0.5, linewidth=0.5)\n",
    "\n",
    "\n",
    "plt.xlabel('Distance 1')\n",
    "plt.ylabel('Distance 2')\n",
    "\n",
    "\n",
    "#plt.xlim(-2, 25)\n",
    "#plt.xticks([0, 5, 10, 15])\n",
    "#plt.yticks([0, 5, 10, 15])\n",
    "\n",
    "sns.despine()\n",
    "plt.savefig('peak_separation_2peaks_c8.svg')"
   ]
  }
 ],
 "metadata": {
  "kernelspec": {
   "display_name": "Python 3 (ipykernel)",
   "language": "python",
   "name": "python3"
  },
  "language_info": {
   "codemirror_mode": {
    "name": "ipython",
    "version": 3
   },
   "file_extension": ".py",
   "mimetype": "text/x-python",
   "name": "python",
   "nbconvert_exporter": "python",
   "pygments_lexer": "ipython3",
   "version": "3.12.4"
  }
 },
 "nbformat": 4,
 "nbformat_minor": 5
}
