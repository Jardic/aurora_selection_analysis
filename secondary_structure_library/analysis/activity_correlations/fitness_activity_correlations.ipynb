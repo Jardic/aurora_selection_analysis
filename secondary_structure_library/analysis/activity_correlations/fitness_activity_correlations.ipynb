{
 "cells": [
  {
   "cell_type": "code",
   "execution_count": 6,
   "id": "dd16868e-f5ac-4f4b-8063-50fac5d0e1bf",
   "metadata": {},
   "outputs": [],
   "source": [
    "import pandas as pd\n",
    "import matplotlib.pyplot as plt\n",
    "import seaborn as sns\n",
    "import numpy as np"
   ]
  },
  {
   "cell_type": "code",
   "execution_count": 7,
   "id": "925af7ab-7082-44a5-84d6-003917e14ecf",
   "metadata": {},
   "outputs": [],
   "source": [
    "scheme = {'blue':'#2f788e', 'red':'#d15b4f', 'green':'#45b563', 'grey':'#8a8888'}\n",
    "\n",
    "plt.rcParams['figure.facecolor'] = 'white'\n",
    "plt.rcParams['font.size'] = 12\n",
    "plt.rcParams['font.family'] = 'Arial'"
   ]
  },
  {
   "cell_type": "code",
   "execution_count": 8,
   "id": "6b2b31e5-f8ff-401a-bc45-ebe275020afe",
   "metadata": {},
   "outputs": [],
   "source": [
    "def getFrequencies(df, count_col, seq_col):\n",
    "    \n",
    "    seqlen = len(df.iloc[0][seq_col])\n",
    "    dct_counts = {'A':[0 for i in range(0, seqlen)], 'T':[0 for i in range(0, seqlen)], 'G':[0 for i in range(0, seqlen)], 'C':[0 for i in range(0, seqlen)]}\n",
    "\n",
    "    for c, s in zip(df[count_col], df[seq_col]):\n",
    "        for i in range(0, seqlen):\n",
    "            dct_counts[s[i]][i] += c\n",
    "            \n",
    "    df_counts = pd.DataFrame(dct_counts)\n",
    "    df_frequencies = df_counts/df[count_col].sum()\n",
    "    return df_frequencies.to_dict()"
   ]
  },
  {
   "cell_type": "code",
   "execution_count": 9,
   "id": "ec3e2a85-f652-4a9d-8e34-c729b5f4541a",
   "metadata": {},
   "outputs": [],
   "source": [
    "def prepDataset(d, parent=None):\n",
    "    df = pd.read_csv(d, names=['count', 'seq'], sep='\\t')\n",
    "    df = df.loc[[True if 'N' not in s else False for s in df['seq']]]\n",
    "    df['f_obs'] = df['count'] / df['count'].sum()\n",
    "    return df"
   ]
  },
  {
   "cell_type": "code",
   "execution_count": 10,
   "id": "abdf4c28-2a67-44b0-8ecf-0b2d2de985fd",
   "metadata": {},
   "outputs": [],
   "source": [
    "def getPrediction(F, s):\n",
    "    return np.prod(np.array([F[s[i]][i] for i in range(0, len(s))]))"
   ]
  },
  {
   "cell_type": "code",
   "execution_count": 11,
   "id": "5c031698-1ba5-4b98-ab1f-fd9fb6f15360",
   "metadata": {},
   "outputs": [],
   "source": [
    "def set_size(w,h, ax=None):\n",
    "    \"\"\" w, h: width, height in inches \"\"\"\n",
    "    if not ax: ax=plt.gca()\n",
    "    l = ax.figure.subplotpars.left\n",
    "    r = ax.figure.subplotpars.right\n",
    "    t = ax.figure.subplotpars.top\n",
    "    b = ax.figure.subplotpars.bottom\n",
    "    figw = float(w)/(r-l)\n",
    "    figh = float(h)/(t-b)\n",
    "    ax.figure.set_size_inches(figw, figh)"
   ]
  },
  {
   "cell_type": "code",
   "execution_count": 12,
   "id": "e3fd9995-9103-4d9f-8cc9-968430095984",
   "metadata": {},
   "outputs": [],
   "source": [
    "aurora_strc_positions_0 = [3,5,10,11,13,14,15,16,21,22,25,26,27,28,29,33,36,39,41,42,43,44,45,46]\n",
    "aurora_ctrl_positions_0 = [1,3,8,10,11,13,18,19,20,22,26,27,28,29,30,32,33,35,36,37,38,40,43,46]"
   ]
  },
  {
   "cell_type": "markdown",
   "id": "7a382f84-9017-4d23-b268-ba50d1ed2bd3",
   "metadata": {},
   "source": [
    "---\n",
    "### Prep the Km and activity and CPM"
   ]
  },
  {
   "cell_type": "code",
   "execution_count": 13,
   "id": "036ab5ca-6921-4cb2-ba76-780b442ba589",
   "metadata": {},
   "outputs": [],
   "source": [
    "df_init = pd.read_csv('../../datasets/datasets_prepped/strc_init.csv', usecols=['varseq', 'cpm', 'count'])\n",
    "df_select = pd.read_csv('../../datasets/datasets_prepped/strc_km.csv', usecols=['varseq', 'cpm', 'count'])"
   ]
  },
  {
   "cell_type": "code",
   "execution_count": 14,
   "id": "ee470b6c-dd24-413a-b8d0-22e8fea95e44",
   "metadata": {},
   "outputs": [],
   "source": [
    "dct_snfq = getFrequencies(df_init, 'count', 'varseq')\n",
    "df_select['f_obs'] = df_select['count'] / df_select['count'].sum()\n",
    "df_select['f_exp'] = [getPrediction(dct_snfq, s) for s in df_select['varseq']]\n",
    "df_select['enrichment'] = df_select['f_obs'] / df_select['f_exp']"
   ]
  },
  {
   "cell_type": "code",
   "execution_count": 15,
   "id": "c2681829-6468-451a-b2ad-44d7bcffe292",
   "metadata": {},
   "outputs": [],
   "source": [
    "df_tested = pd.read_csv('tested_seqs_km.txt', sep='\\t', usecols=['seq', 'activity'])\n",
    "df_tested['varseq'] = [''.join([s[x] for x in aurora_strc_positions_0]) for s in df_tested['seq']]"
   ]
  },
  {
   "cell_type": "code",
   "execution_count": 16,
   "id": "4ebc01fa-fc5a-4050-aa30-51922122a878",
   "metadata": {},
   "outputs": [],
   "source": [
    "df_merged_km = df_tested.merge(df_select, on='varseq', how='left')"
   ]
  },
  {
   "cell_type": "code",
   "execution_count": 17,
   "id": "1a9cea3e-7625-4dd6-97d1-08e1ea5cb041",
   "metadata": {},
   "outputs": [],
   "source": [
    "df_merged_ctrl = pd.read_csv('tested_seqs_ctrl_fluorescence.txt', sep='\\t')"
   ]
  },
  {
   "cell_type": "code",
   "execution_count": 18,
   "id": "82d22e50-6727-442b-934e-4b2371eed960",
   "metadata": {},
   "outputs": [],
   "source": [
    "df_ctrl = pd.read_csv('../../datasets/datasets_prepped/ctrl_km.csv', usecols=['cpm', 'count', 'seq'])\n",
    "ctrl_size = df_ctrl['count'].sum()"
   ]
  },
  {
   "cell_type": "code",
   "execution_count": 19,
   "id": "315f6fac-e8b1-47df-a116-8aa22eb3f3e3",
   "metadata": {},
   "outputs": [],
   "source": [
    "df_merged_ctrl['cpm'] = (df_merged_ctrl['count'] / ctrl_size) * 1000000"
   ]
  },
  {
   "cell_type": "code",
   "execution_count": 20,
   "id": "b7bcd944-daac-4751-b37b-11e0f5046fa7",
   "metadata": {},
   "outputs": [],
   "source": [
    "#df_select = df_select.sort_values('enrichment', ascending=False).reset_index(drop=True)"
   ]
  },
  {
   "cell_type": "code",
   "execution_count": 23,
   "id": "c479b28b-3eb7-4713-8a82-e67b3e59233a",
   "metadata": {},
   "outputs": [],
   "source": [
    "df_merged_ctrl.to_csv('df_merged_ctrl.csv')\n",
    "df_merged_km.to_csv('df_merged_strc.csv')"
   ]
  },
  {
   "cell_type": "code",
   "execution_count": 28,
   "id": "2974d596-b71f-43be-892f-ae6c68b8fdc7",
   "metadata": {},
   "outputs": [
    {
     "data": {
      "image/png": "[encoded data removed]",
      "text/plain": [
       "<Figure size 250x230 with 1 Axes>"
      ]
     },
     "metadata": {},
     "output_type": "display_data"
    }
   ],
   "source": [
    "\n",
    "# Define absolute axis size in inches\n",
    "axis_width = 1.5  # Width in inches\n",
    "axis_height = 1.3  # Height in inches\n",
    "\n",
    "# Define margins\n",
    "left_margin = 0.5\n",
    "bottom_margin = 0.5\n",
    "\n",
    "# Compute figure size to ensure fixed axis size\n",
    "fig_width = left_margin + axis_width + 0.5\n",
    "fig_height = bottom_margin + axis_height + 0.5\n",
    "\n",
    "fig = plt.figure(figsize=(fig_width, fig_height))\n",
    "\n",
    "# Manually place the axes (left, bottom, width, height) in figure coordinates (0-1 range)\n",
    "ax = fig.add_axes([\n",
    "    left_margin / fig_width,\n",
    "    bottom_margin / fig_height,\n",
    "    axis_width / fig_width,\n",
    "    axis_height / fig_height\n",
    "])\n",
    "\n",
    "# Plot\n",
    "ax.scatter(df_merged_ctrl['cpm'], df_merged_ctrl['activity'], color='tab:green', marker='^', s=15)\n",
    "ax.scatter(df_merged_km['cpm'], df_merged_km['activity'], color='tab:blue', s=15)\n",
    "\n",
    "\n",
    "plt.yscale('log')\n",
    "plt.xscale('log')\n",
    "\n",
    "#ax.set_xlim(0, 10)\n",
    "#ax.set_ylim(-1, 1)\n",
    "\n",
    "plt.xlabel('CPM')\n",
    "plt.ylabel('Activity rel. to Au2')\n",
    "\n",
    "sns.despine()\n",
    "plt.savefig('cpm_vs_activity_strc_km_anc_ctrl.svg')"
   ]
  },
  {
   "cell_type": "code",
   "execution_count": 17,
   "id": "3a0fc878-0c6e-4f92-b408-9d3eaf23e4e3",
   "metadata": {},
   "outputs": [
    {
     "data": {
      "image/png": "[encoded data removed]",
      "text/plain": [
       "<Figure size 250x230 with 1 Axes>"
      ]
     },
     "metadata": {},
     "output_type": "display_data"
    }
   ],
   "source": [
    "\n",
    "# Define absolute axis size in inches\n",
    "axis_width = 1.5  # Width in inches\n",
    "axis_height = 1.3  # Height in inches\n",
    "\n",
    "# Define margins\n",
    "left_margin = 0.5\n",
    "bottom_margin = 0.5\n",
    "\n",
    "# Compute figure size to ensure fixed axis size\n",
    "fig_width = left_margin + axis_width + 0.5\n",
    "fig_height = bottom_margin + axis_height + 0.5\n",
    "\n",
    "fig = plt.figure(figsize=(fig_width, fig_height))\n",
    "\n",
    "# Manually place the axes (left, bottom, width, height) in figure coordinates (0-1 range)\n",
    "ax = fig.add_axes([\n",
    "    left_margin / fig_width,\n",
    "    bottom_margin / fig_height,\n",
    "    axis_width / fig_width,\n",
    "    axis_height / fig_height\n",
    "])\n",
    "\n",
    "# Plot\n",
    "ax.scatter(df_merged_km['enrichment'], df_merged_km['activity'], color='#48494a', s=15)\n",
    "\n",
    "plt.yscale('log')\n",
    "plt.xscale('log')\n",
    "\n",
    "#ax.set_xlim(0, 10)\n",
    "#ax.set_ylim(-1, 1)\n",
    "\n",
    "plt.xlabel('Enrichment')\n",
    "plt.ylabel('Activity')\n",
    "\n",
    "sns.despine()\n",
    "plt.savefig('enrichment_vs_activity_strc_km.svg')"
   ]
  }
 ],
 "metadata": {
  "kernelspec": {
   "display_name": "Python 3 (ipykernel)",
   "language": "python",
   "name": "python3"
  },
  "language_info": {
   "codemirror_mode": {
    "name": "ipython",
    "version": 3
   },
   "file_extension": ".py",
   "mimetype": "text/x-python",
   "name": "python",
   "nbconvert_exporter": "python",
   "pygments_lexer": "ipython3",
   "version": "3.12.4"
  }
 },
 "nbformat": 4,
 "nbformat_minor": 5
}
