{
 "cells": [
  {
   "cell_type": "code",
   "execution_count": 13,
   "id": "e0ccd10d-f191-46ea-8d3e-52ac2e42d0ea",
   "metadata": {},
   "outputs": [],
   "source": [
    "import pandas as pd\n",
    "import matplotlib.pyplot as plt \n",
    "import seaborn as sns\n",
    "from itertools import combinations, product\n",
    "import math\n",
    "import numpy as np\n",
    "from tqdm import tqdm"
   ]
  },
  {
   "cell_type": "code",
   "execution_count": 14,
   "id": "42e053ac-6ae0-4e48-9a85-ef247522fbdc",
   "metadata": {},
   "outputs": [],
   "source": [
    "plt.rcParams['figure.facecolor'] = 'white'\n",
    "plt.rcParams['font.size'] = 13\n",
    "plt.rcParams['font.family'] = 'Arial'"
   ]
  },
  {
   "cell_type": "code",
   "execution_count": 15,
   "id": "06d2eb07-1993-4f8c-a4bc-9a6d9971f387",
   "metadata": {},
   "outputs": [],
   "source": [
    "def getFrequencies(cts, sq, n):\n",
    "    \"\"\"\n",
    "    Get frequencies of n-nucleotides from a set of sequences\n",
    "    \n",
    "    cts:      A list or a pd.Series of read counts\n",
    "    sq:       A list or a pd.Seiries of sequences\n",
    "    n:        Get frequencies of n-nucleotides\n",
    "    returns:  A pandas dataframe\n",
    "    \"\"\"\n",
    "\n",
    "    nts = [''.join(x) for x in list(product('ATGC', repeat=n))]\n",
    "    pos = list(combinations([x for x in range(0, len(sq.iloc[0]))], r=n))\n",
    "    counts = {x:[0 for y in range(0, len(pos))] for x in nts}\n",
    "\n",
    "    for c, s in tqdm(zip(cts, sq)):\n",
    "        for i, p in enumerate(pos):\n",
    "            try:\n",
    "                b = ''.join([s[b] for b in p])\n",
    "                counts[b][i] += c\n",
    "            except:\n",
    "                pass\n",
    "    df_counts = pd.DataFrame(counts, index=pd.MultiIndex.from_tuples(pos, names=(['p' + str(x) for x in range(1, n + 1)])))\n",
    "    df_fq = df_counts / sum(cts)\n",
    "    return df_fq"
   ]
  },
  {
   "cell_type": "code",
   "execution_count": 16,
   "id": "167540f3-7880-47b0-98cd-bae19a721e0b",
   "metadata": {},
   "outputs": [],
   "source": [
    "def getMI_p(df_snfqx, df_dnfqx):\n",
    "    \"\"\"\n",
    "    Get pairwise mutual information matrix from single and di-nucleotide frequencies\n",
    "    \n",
    "    df_snfx:      single nucleotide frequencies dataframe\n",
    "    df_dnfx:      di nucleotide frequencies dataframe\n",
    "    returns:      A pandas dataframe of mutual information values\n",
    "    \"\"\"\n",
    "\n",
    "    mi_di = []\n",
    "\n",
    "    for index, row in df_dnfqx.iterrows():\n",
    "\n",
    "        p1, p2 = index[0], index[1]\n",
    "        v_p1, v_p2 = df_snfqx.loc[(p1,)], df_snfqx.loc[(p2,)]\n",
    "\n",
    "        s_exp = pd.Series({dn : df_snfqx.loc[(index[0],), dn[0]] * df_snfqx.loc[(index[1],), dn[1]] for dn in df_dnfqx.columns})\n",
    "        s_obs = row\n",
    "\n",
    "        res = sum([s_obs[x] * math.log((s_obs[x] / s_exp[x])) for x in df_dnfqx.columns if s_obs[x] != 0])\n",
    "        mi_di.append((p1, p2, res))\n",
    "\n",
    "    df_mi_di = pd.DataFrame(mi_di)\n",
    "    df_mi_di.columns=['p1', 'p2', 'mi']\n",
    "    df_mi_di = df_mi_di.sort_values('mi', ascending=False)\n",
    "    return df_mi_di"
   ]
  },
  {
   "cell_type": "code",
   "execution_count": 17,
   "id": "89161487-c983-4bc8-9676-0e4fdb408cc0",
   "metadata": {},
   "outputs": [],
   "source": [
    "# Read dataset\n",
    "df = pd.read_csv('/home/kurfurst/Documents/datasets/MV_aurora_reselection.tsv', sep='\\t', names=['count', 'seq'])"
   ]
  },
  {
   "cell_type": "code",
   "execution_count": 18,
   "id": "09bc289d-ec5e-420f-a8b6-af2c7b51d0fb",
   "metadata": {},
   "outputs": [
    {
     "name": "stderr",
     "output_type": "stream",
     "text": [
      "849535it [00:24, 34627.73it/s]\n",
      "849535it [24:15, 583.68it/s]\n"
     ]
    }
   ],
   "source": [
    "# Compute single nucleotide frequencies\n",
    "df_snfq = getFrequencies(df['count'], df['seq'], 1)\n",
    "# Compute double nucleotide frequencies\n",
    "df_dnfq = getFrequencies(df['count'], df['seq'], 2)"
   ]
  },
  {
   "cell_type": "code",
   "execution_count": 19,
   "id": "aed85a92-073d-4740-b7d0-bfa30f489ff8",
   "metadata": {},
   "outputs": [],
   "source": [
    "# Compute Mutual Information values\n",
    "\n",
    "mi = getMI_p(df_snfq, df_dnfq)"
   ]
  },
  {
   "cell_type": "code",
   "execution_count": 20,
   "id": "6b9ef8eb-0773-4626-95c9-4cc5dd9db6e1",
   "metadata": {},
   "outputs": [],
   "source": [
    "# Pivot and renumber labels to be 1-based\n",
    "\n",
    "df_mi = mi.pivot(columns='p2', index='p1', values='mi')\n",
    "df_mi.columns = [x + 1 for x in df_mi.columns]\n",
    "df_mi.index = [x + 1 for x in df_mi.index]"
   ]
  },
  {
   "cell_type": "code",
   "execution_count": 21,
   "id": "ae5f9911-8e04-4434-a5e5-4509bb04b503",
   "metadata": {},
   "outputs": [],
   "source": [
    "# Create a dictionary translating full-length numbering to core numbering\n",
    "\n",
    "aurora_core_positions = [1,2,3,4,5,6,7,8,9,10,43,44,45,46,47,48,49,50,51,52,53,54,55,56,57,58,59,60,61,62,63,64,65,66,67,68,69,70,71,72,73,74,75,76,77,78,79]\n",
    "aurora_core_names = [x for x in range(1, len(aurora_core_positions) + 1)]\n",
    "dct_aurora_core = {x:y for x, y in zip(aurora_core_positions, aurora_core_names)}"
   ]
  },
  {
   "cell_type": "code",
   "execution_count": 22,
   "id": "aaecaa55-8c05-4c35-842b-5a912f77ab3a",
   "metadata": {},
   "outputs": [],
   "source": [
    "# Select core positions\n",
    "\n",
    "df_mi = df_mi.loc[[x for x in aurora_core_positions if x in df_mi.index]]\n",
    "df_mi = df_mi[[x for x in aurora_core_positions if x in df_mi.columns][::-1]]"
   ]
  },
  {
   "cell_type": "code",
   "execution_count": 23,
   "id": "debbc631-6135-4036-bc78-f592214e091e",
   "metadata": {},
   "outputs": [],
   "source": [
    "# Rename labels to represent core numbering\n",
    "\n",
    "df_mi.index = [dct_aurora_core[x] for x in df_mi.index]\n",
    "df_mi.columns = [dct_aurora_core[x] for x in df_mi.columns]"
   ]
  },
  {
   "cell_type": "code",
   "execution_count": 24,
   "id": "ccdf808f-3fd8-43e6-a317-1ebe11a7fa67",
   "metadata": {},
   "outputs": [],
   "source": [
    "# Making a mask\n",
    "mask = np.zeros_like(df_mi)\n",
    "mask[np.triu_indices_from(mask)] = True\n",
    "mask = np.flip(mask, 0)"
   ]
  },
  {
   "cell_type": "code",
   "execution_count": 27,
   "id": "aa6ea566-0176-4c3d-b80a-a622fe3e44de",
   "metadata": {},
   "outputs": [
    {
     "data": {
      "image/png": "[encoded data removed]",
      "text/plain": [
       "<Figure size 936x720 with 2 Axes>"
      ]
     },
     "metadata": {},
     "output_type": "display_data"
    }
   ],
   "source": [
    "sns.set(rc={\"figure.figsize\":(13, 10)})\n",
    "sns.set_style('white')\n",
    "ax = sns.heatmap(df_mi, linewidths=.7, mask=mask, linecolor='white', cmap='Blues', cbar_kws={'label': 'MI'})\n",
    "ax.xaxis.tick_top()\n",
    "ax.yaxis.tick_left()\n",
    "plt.savefig('fig3b.png', dpi=180)"
   ]
  },
  {
   "cell_type": "code",
   "execution_count": 28,
   "id": "11020ab7-f3d7-4732-b777-d92ad8a641be",
   "metadata": {},
   "outputs": [],
   "source": [
    "df_mi.to_csv('fig3b.tsv', sep='\\t')"
   ]
  }
 ],
 "metadata": {
  "kernelspec": {
   "display_name": "Python 3 (ipykernel)",
   "language": "python",
   "name": "python3"
  },
  "language_info": {
   "codemirror_mode": {
    "name": "ipython",
    "version": 3
   },
   "file_extension": ".py",
   "mimetype": "text/x-python",
   "name": "python",
   "nbconvert_exporter": "python",
   "pygments_lexer": "ipython3",
   "version": "3.7.7"
  }
 },
 "nbformat": 4,
 "nbformat_minor": 5
}
